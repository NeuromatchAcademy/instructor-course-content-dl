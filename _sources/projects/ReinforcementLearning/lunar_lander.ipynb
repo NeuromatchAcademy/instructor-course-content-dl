{
 "cells": [
  {
   "cell_type": "markdown",
   "metadata": {
    "colab_type": "text",
    "execution": {},
    "id": "view-in-github"
   },
   "source": [
    "<a href=\"https://colab.research.google.com/github/NeuromatchAcademy/course-content-dl/blob/main/projects/ReinforcementLearning/lunar_lander.ipynb\" target=\"_blank\"><img alt=\"Open In Colab\" src=\"https://colab.research.google.com/assets/colab-badge.svg\"/></a>   <a href=\"https://kaggle.com/kernels/welcome?src=https://raw.githubusercontent.com/NeuromatchAcademy/course-content-dl/main/projects/ReinforcementLearning/lunar_lander.ipynb\" target=\"_blank\"><img alt=\"Open in Kaggle\" src=\"https://kaggle.com/static/images/open-in-kaggle.svg\"/></a>"
   ]
  },
  {
   "cell_type": "markdown",
   "metadata": {
    "execution": {}
   },
   "source": [
    "# Performance Analysis of DQN Algorithm on the Lunar Lander task\n",
    "\n",
    "**By Neuromatch Academy**\n",
    "\n",
    "__Content creators:__ Raghuram Bharadwaj Diddigi, Geraud Nangue Tasse, Yamil Vidal, Sanjukta Krishnagopal, Sara Rajaee\n",
    "\n",
    "__Content editors:__ Shaonan Wang, Spiros Chavlis"
   ]
  },
  {
   "cell_type": "markdown",
   "metadata": {
    "execution": {}
   },
   "source": [
    "---\n",
    "# Objective\n",
    "\n",
    "In this project, the objective is to analyze the performance of the Deep Q-Learning algorithm on an exciting task- Lunar Lander. Before we describe the task, let us focus on two keywords here - analysis and performance. What exactly do we mean by these keywords in the context of Reinforcement Learning (RL)?"
   ]
  },
  {
   "cell_type": "markdown",
   "metadata": {
    "execution": {}
   },
   "source": [
    "---\n",
    "# Setup"
   ]
  },
  {
   "cell_type": "markdown",
   "metadata": {},
   "source": [
    "##  Update/Upgrade the system and install libs\n"
   ]
  },
  {
   "cell_type": "code",
   "execution_count": null,
   "metadata": {
    "cellView": "form",
    "execution": {},
    "tags": [
     "hide-input"
    ]
   },
   "outputs": [],
   "source": [
    "# @title Update/Upgrade the system and install libs\n",
    "!apt-get update > /dev/null 2>&1\n",
    "!apt-get install -y xvfb python-opengl ffmpeg > /dev/null 2>&1\n",
    "!apt-get install -y swig build-essential python-dev python3-dev > /dev/null 2>&1\n",
    "!apt-get install x11-utils > /dev/null 2>&1\n",
    "!apt-get install xvfb > /dev/null 2>&1"
   ]
  },
  {
   "cell_type": "markdown",
   "metadata": {},
   "source": [
    "##  Install dependencies\n"
   ]
  },
  {
   "cell_type": "code",
   "execution_count": null,
   "metadata": {
    "cellView": "form",
    "execution": {},
    "tags": [
     "hide-input"
    ]
   },
   "outputs": [
    {
     "name": "stdout",
     "output_type": "stream",
     "text": [
      "\u001b[2K     \u001b[90m━━━━━━━━━━━━━━━━━━━━━━━━━━━━━━━━━━━━━━━━\u001b[0m \u001b[32m14.0/14.0 MB\u001b[0m \u001b[31m28.6 MB/s\u001b[0m eta \u001b[36m0:00:00\u001b[0m\n",
      "\u001b[?25h"
     ]
    }
   ],
   "source": [
    "# @title Install dependencies\n",
    "!pip install rarfile --quiet\n",
    "!pip install stable-baselines3[extra] --quiet\n",
    "!pip install ale-py --quiet\n",
    "!pip install gym[box2d] --quiet\n",
    "!pip install pyvirtualdisplay --quiet\n",
    "!pip install pyglet --quiet\n",
    "!pip install pygame --quiet\n",
    "!pip install minigrid --quiet\n",
    "!pip install -q swig --quiet\n",
    "!pip install -q gymnasium[box2d] --quiet\n",
    "!pip install 'minigrid<=2.1.1' --quiet\n",
    "!pip3 install box2d-py --quiet"
   ]
  },
  {
   "cell_type": "code",
   "execution_count": null,
   "metadata": {
    "execution": {}
   },
   "outputs": [
    {
     "name": "stderr",
     "output_type": "stream",
     "text": [
      "/usr/local/lib/python3.10/dist-packages/tensorflow/python/framework/dtypes.py:35: DeprecationWarning: ml_dtypes.float8_e4m3b11 is deprecated. Use ml_dtypes.float8_e4m3b11fnuz\n",
      "  from tensorflow.tsl.python.lib.core import pywrap_ml_dtypes\n"
     ]
    }
   ],
   "source": [
    "# Imports\n",
    "import io\n",
    "import os\n",
    "import glob\n",
    "import torch\n",
    "import base64\n",
    "\n",
    "import numpy as np\n",
    "import matplotlib.pyplot as plt\n",
    "\n",
    "import sys\n",
    "import gymnasium\n",
    "sys.modules[\"gym\"] = gymnasium\n",
    "\n",
    "import stable_baselines3\n",
    "from stable_baselines3 import DQN\n",
    "from stable_baselines3.common.results_plotter import ts2xy, load_results\n",
    "from stable_baselines3.common.callbacks import EvalCallback\n",
    "from stable_baselines3.common.env_util import make_atari_env\n",
    "\n",
    "import gymnasium as gym\n",
    "from gym import spaces\n",
    "from gym.envs.box2d.lunar_lander import *\n",
    "from gym.wrappers.monitoring.video_recorder import VideoRecorder"
   ]
  },
  {
   "cell_type": "markdown",
   "metadata": {},
   "source": [
    "##  Play Video function\n"
   ]
  },
  {
   "cell_type": "code",
   "execution_count": null,
   "metadata": {
    "cellView": "form",
    "execution": {},
    "tags": [
     "hide-input"
    ]
   },
   "outputs": [
    {
     "name": "stderr",
     "output_type": "stream",
     "text": [
      "/usr/local/lib/python3.10/dist-packages/ipykernel/ipkernel.py:283: DeprecationWarning: `should_run_async` will not call `transform_cell` automatically in the future. Please pass the result to `transformed_cell` argument and any exception that happen during thetransform in `preprocessing_exc_tuple` in IPython 7.17 and above.\n",
      "  and should_run_async(code)\n"
     ]
    }
   ],
   "source": [
    "# @title Play Video function\n",
    "from IPython.display import HTML\n",
    "from base64 import b64encode\n",
    "from pyvirtualdisplay import Display\n",
    "\n",
    "# create the directory to store the video(s)\n",
    "os.makedirs(\"./video\", exist_ok=True)\n",
    "\n",
    "display = Display(visible=False, size=(1400, 900))\n",
    "_ = display.start()\n",
    "\n",
    "\"\"\"\n",
    "Utility functions to enable video recording of gym environment\n",
    "and displaying it.\n",
    "To enable video, just do \"env = wrap_env(env)\"\"\n",
    "\"\"\"\n",
    "def render_mp4(videopath: str) -> str:\n",
    "  \"\"\"\n",
    "  Gets a string containing a b4-encoded version of the MP4 video\n",
    "  at the specified path.\n",
    "  \"\"\"\n",
    "  mp4 = open(videopath, 'rb').read()\n",
    "  base64_encoded_mp4 = b64encode(mp4).decode()\n",
    "  return f'<video width=400 controls><source src=\"data:video/mp4;' \\\n",
    "         f'base64,{base64_encoded_mp4}\" type=\"video/mp4\"></video>'"
   ]
  },
  {
   "cell_type": "markdown",
   "metadata": {
    "execution": {}
   },
   "source": [
    "---\n",
    "# Introduction\n",
    "\n",
    "In a standard RL setting, an agent learns optimal behavior from an environment through a feedback mechanism to maximize a given objective. Many algorithms have been proposed in the RL literature that an agent can apply to learn the optimal behavior. One such popular algorithm is the Deep Q-Network (DQN). This algorithm makes use of deep neural networks to compute optimal actions. In this project, your goal is to understand the effect of the number of neural network layers on the algorithm's performance. The performance of the algorithm can be evaluated through two metrics - Speed and Stability.\n",
    "\n",
    "**Speed:** How fast the algorithm reaches the maximum possible reward.\n",
    "\n",
    "**Stability** In some applications (especially when online learning is involved), along with speed, stability of the algorithm, i.e., minimal fluctuations in performance, is equally important.\n",
    "\n",
    "In this project, you should investigate the following question:\n",
    "\n",
    "**What is the impact of number of neural network layers on speed and stability of the algorithm?**\n",
    "\n",
    "You do not have to write the DQN code from scratch. We have provided a basic implementation of the DQN algorithm. You only have to tune the hyperparameters (neural network size, learning rate, etc), observe the performance, and analyze. More details on this are provided below.\n",
    "\n",
    "Now, let us discuss the RL task we have chosen, i.e., Lunar Lander. This task consists of the lander and a landing pad marked by two flags. The episode starts with the lander moving downwards due to gravity. The objective is to land safely using different engines available on the lander with zero speed on the landing pad as quickly and fuel efficient as possible. Reward for moving from the top of the screen and landing on landing pad with zero speed is between 100 to 140 points. Each leg ground contact yields a reward of 10 points. Firing main engine leads to a reward of -0.3 points in each frame. Firing the side engine leads to a reward of -0.03 points in each frame. An additional reward of -100 or +100 points is received if the lander crashes or comes to rest respectively which also leads to end of the episode.\n",
    "\n",
    "The input state of the Lunar Lander consists of following components:\n",
    "\n",
    "  1. Horizontal Position\n",
    "  2. Vertical Position\n",
    "  3. Horizontal Velocity\n",
    "  4. Vertical Velocity\n",
    "  5. Angle\n",
    "  6. Angular Velocity\n",
    "  7. Left Leg Contact\n",
    "  8. Right Leg Contact\n",
    "\n",
    "The actions of the agents are:\n",
    "  1. Do Nothing\n",
    "  2. Fire Main Engine\n",
    "  3. Fire Left Engine\n",
    "  4. Fire Right Engine\n",
    "\n",
    "\n",
    "<img src=\"https://raw.githubusercontent.com/NeuromatchAcademy/course-content-dl/main/projects/static/lunar_lander.png\">"
   ]
  },
  {
   "cell_type": "markdown",
   "metadata": {
    "execution": {}
   },
   "source": [
    "---\n",
    "# Basic DQN Implementation\n",
    "\n",
    "We will now implement the DQN algorithm using the existing code base. We encourage you to understand this example and re-use it in an application/project of your choice!"
   ]
  },
  {
   "cell_type": "markdown",
   "metadata": {
    "execution": {}
   },
   "source": [
    "Now, let us set some hyperparameters for our algorithm. This is the only part you would play around with, to solve the first part of the project."
   ]
  },
  {
   "cell_type": "code",
   "execution_count": null,
   "metadata": {
    "execution": {}
   },
   "outputs": [
    {
     "name": "stderr",
     "output_type": "stream",
     "text": [
      "/usr/local/lib/python3.10/dist-packages/ipykernel/ipkernel.py:283: DeprecationWarning: `should_run_async` will not call `transform_cell` automatically in the future. Please pass the result to `transformed_cell` argument and any exception that happen during thetransform in `preprocessing_exc_tuple` in IPython 7.17 and above.\n",
      "  and should_run_async(code)\n"
     ]
    }
   ],
   "source": [
    "nn_layers = [64, 64]  # This is the configuration of your neural network. Currently, we have two layers, each consisting of 64 neurons.\n",
    "                      # If you want three layers with 64 neurons each, set the value to [64,64,64] and so on.\n",
    "\n",
    "learning_rate = 0.001  # This is the step-size with which the gradient descent is carried out.\n",
    "                       # Tip: Use smaller step-sizes for larger networks."
   ]
  },
  {
   "cell_type": "markdown",
   "metadata": {
    "execution": {}
   },
   "source": [
    "Now, let us setup our model and the DQN algorithm."
   ]
  },
  {
   "cell_type": "code",
   "execution_count": null,
   "metadata": {
    "execution": {}
   },
   "outputs": [],
   "source": [
    "log_dir = \"/tmp/gym/\"\n",
    "os.makedirs(log_dir, exist_ok=True)\n",
    "\n",
    "# Create environment\n",
    "env_name = 'LunarLander-v2'\n",
    "env = gym.make(env_name)\n",
    "# You can also load other environments like cartpole, MountainCar, Acrobot.\n",
    "# Refer to https://gym.openai.com/docs/ for descriptions.\n",
    "\n",
    "# For example, if you would like to load Cartpole,\n",
    "# just replace the above statement with \"env = gym.make('CartPole-v1')\".\n",
    "\n",
    "env = stable_baselines3.common.monitor.Monitor(env, log_dir )\n",
    "\n",
    "callback = EvalCallback(env, log_path=log_dir, deterministic=True)  # For evaluating the performance of the agent periodically and logging the results.\n",
    "policy_kwargs = dict(activation_fn=torch.nn.ReLU,\n",
    "                     net_arch=nn_layers)\n",
    "model = DQN(\"MlpPolicy\", env,policy_kwargs = policy_kwargs,\n",
    "            learning_rate=learning_rate,\n",
    "            batch_size=1,  # for simplicity, we are not doing batch update.\n",
    "            buffer_size=1,  # size of experience of replay buffer. Set to 1 as batch update is not done\n",
    "            learning_starts=1,  # learning starts immediately!\n",
    "            gamma=0.99,  # discount facto. range is between 0 and 1.\n",
    "            tau = 1,  # the soft update coefficient for updating the target network\n",
    "            target_update_interval=1,  # update the target network immediately.\n",
    "            train_freq=(1,\"step\"),  # train the network at every step.\n",
    "            max_grad_norm = 10,  # the maximum value for the gradient clipping\n",
    "            exploration_initial_eps = 1,  # initial value of random action probability\n",
    "            exploration_fraction = 0.5,  # fraction of entire training period over which the exploration rate is reduced\n",
    "            gradient_steps = 1,  # number of gradient steps\n",
    "            seed = 1,  # seed for the pseudo random generators\n",
    "            verbose=0)  # Set verbose to 1 to observe training logs. We encourage you to set the verbose to 1.\n",
    "\n",
    "# You can also experiment with other RL algorithms like A2C, PPO, DDPG etc.\n",
    "# Refer to  https://stable-baselines3.readthedocs.io/en/master/guide/examples.html\n",
    "# for documentation. For example, if you would like to run DDPG, just replace \"DQN\" above with \"DDPG\"."
   ]
  },
  {
   "cell_type": "markdown",
   "metadata": {
    "execution": {}
   },
   "source": [
    "Before we train the model, let us look at an instance of Lunar Lander **before training**.  \n",
    "\n",
    "**Note:** The following code for rendering the video is taken from [here](https://colab.research.google.com/github/jeffheaton/t81_558_deep_learning/blob/master/t81_558_class_12_01_ai_gym.ipynb#scrollTo=T9RpF49oOsZj)."
   ]
  },
  {
   "cell_type": "code",
   "execution_count": null,
   "metadata": {
    "execution": {}
   },
   "outputs": [
    {
     "name": "stdout",
     "output_type": "stream",
     "text": [
      "State shape:  (8,)\n",
      "Number of actions:  4\n"
     ]
    },
    {
     "name": "stderr",
     "output_type": "stream",
     "text": [
      "/usr/local/lib/python3.10/dist-packages/ipykernel/ipkernel.py:283: DeprecationWarning: `should_run_async` will not call `transform_cell` automatically in the future. Please pass the result to `transformed_cell` argument and any exception that happen during thetransform in `preprocessing_exc_tuple` in IPython 7.17 and above.\n",
      "  and should_run_async(code)\n"
     ]
    }
   ],
   "source": [
    "env_name = 'LunarLander-v2'\n",
    "env = gym.make(env_name)\n",
    "print('State shape: ', env.observation_space.shape)\n",
    "print('Number of actions: ', env.action_space.n)"
   ]
  },
  {
   "cell_type": "code",
   "execution_count": null,
   "metadata": {
    "execution": {}
   },
   "outputs": [
    {
     "name": "stderr",
     "output_type": "stream",
     "text": [
      "/usr/local/lib/python3.10/dist-packages/gym/wrappers/monitoring/video_recorder.py:101: DeprecationWarning: \u001b[33mWARN: <class 'gym.wrappers.monitoring.video_recorder.VideoRecorder'> is marked as deprecated and will be removed in the future.\u001b[0m\n",
      "  logger.deprecation(\n"
     ]
    },
    {
     "name": "stdout",
     "output_type": "stream",
     "text": [
      "\n",
      "Total reward: -597.0358279244006\n"
     ]
    },
    {
     "data": {
      "text/html": [
       "<video width=400 controls><source src=\"data:video/mp4;base64,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\" type=\"video/mp4\"></video>"
      ],
      "text/plain": [
       "<IPython.core.display.HTML object>"
      ]
     },
     "execution_count": 8,
     "metadata": {},
     "output_type": "execute_result"
    }
   ],
   "source": [
    "env = gym.make(env_name, render_mode=\"rgb_array\")\n",
    "vid = VideoRecorder(env, path=f\"video/{env_name}_pretraining.mp4\")\n",
    "observation = env.reset()[0]\n",
    "\n",
    "total_reward = 0\n",
    "done = False\n",
    "while not done:\n",
    "  frame = env.render()\n",
    "  vid.capture_frame()\n",
    "  action, states = model.predict(observation, deterministic=True)\n",
    "  observation, reward, done, info, _ = env.step(action)\n",
    "  total_reward += reward\n",
    "vid.close()\n",
    "env.close()\n",
    "print(f\"\\nTotal reward: {total_reward}\")\n",
    "\n",
    "# show video\n",
    "html = render_mp4(f\"video/{env_name}_pretraining.mp4\")\n",
    "HTML(html)"
   ]
  },
  {
   "cell_type": "markdown",
   "metadata": {
    "execution": {}
   },
   "source": [
    "From the video above, we see that the lander has crashed!\n",
    "It is now the time for training!\n"
   ]
  },
  {
   "cell_type": "code",
   "execution_count": null,
   "metadata": {
    "execution": {}
   },
   "outputs": [
    {
     "name": "stderr",
     "output_type": "stream",
     "text": [
      "/usr/local/lib/python3.10/dist-packages/ipykernel/ipkernel.py:283: DeprecationWarning: `should_run_async` will not call `transform_cell` automatically in the future. Please pass the result to `transformed_cell` argument and any exception that happen during thetransform in `preprocessing_exc_tuple` in IPython 7.17 and above.\n",
      "  and should_run_async(code)\n"
     ]
    },
    {
     "name": "stdout",
     "output_type": "stream",
     "text": [
      "Eval num_timesteps=10000, episode_reward=-420.98 +/- 27.22\n",
      "Episode length: 151.80 +/- 30.46\n",
      "New best mean reward!\n",
      "Eval num_timesteps=20000, episode_reward=-561.62 +/- 27.61\n",
      "Episode length: 878.80 +/- 72.71\n",
      "Eval num_timesteps=30000, episode_reward=-249.88 +/- 48.31\n",
      "Episode length: 240.00 +/- 51.61\n",
      "New best mean reward!\n",
      "Eval num_timesteps=40000, episode_reward=-161.24 +/- 24.32\n",
      "Episode length: 338.20 +/- 107.08\n",
      "New best mean reward!\n",
      "Eval num_timesteps=50000, episode_reward=160.32 +/- 108.81\n",
      "Episode length: 241.20 +/- 55.82\n",
      "New best mean reward!\n",
      "Eval num_timesteps=60000, episode_reward=190.88 +/- 14.49\n",
      "Episode length: 646.80 +/- 65.03\n",
      "New best mean reward!\n",
      "Eval num_timesteps=70000, episode_reward=67.05 +/- 92.04\n",
      "Episode length: 139.80 +/- 35.46\n",
      "Eval num_timesteps=80000, episode_reward=267.52 +/- 20.00\n",
      "Episode length: 321.60 +/- 31.12\n",
      "New best mean reward!\n",
      "Eval num_timesteps=90000, episode_reward=67.08 +/- 126.76\n",
      "Episode length: 536.00 +/- 257.21\n",
      "Eval num_timesteps=100000, episode_reward=259.59 +/- 13.39\n",
      "Episode length: 339.80 +/- 19.18\n"
     ]
    },
    {
     "data": {
      "text/plain": [
       "<stable_baselines3.dqn.dqn.DQN at 0x7fef99c08c70>"
      ]
     },
     "execution_count": 9,
     "metadata": {},
     "output_type": "execute_result"
    }
   ],
   "source": [
    "model.learn(total_timesteps=100000, log_interval=10, callback=callback)\n",
    "# The performance of the training will be printed every 10 episodes. Change it to 1, if you wish to\n",
    "# view the performance at every training episode."
   ]
  },
  {
   "cell_type": "markdown",
   "metadata": {
    "execution": {}
   },
   "source": [
    "The training takes time. We encourage you to analyze the output logs (set verbose to 1 to print the output logs). The main component of the logs that you should track is \"ep_rew_mean\" (mean of episode rewards). As the training proceeds, the value of \"ep_rew_mean\" should increase. The improvement need not be monotonic, but the trend should be upwards!\n",
    "\n",
    "Along with training, we are also periodically evaluating the performance of the current model during the training. This was reported in logs as follows:\n",
    "\n",
    "```\n",
    "Eval num_timesteps=100000, episode_reward=63.41 +/- 130.02\n",
    "Episode length: 259.80 +/- 47.47\n",
    "```"
   ]
  },
  {
   "cell_type": "markdown",
   "metadata": {
    "execution": {}
   },
   "source": [
    "Now, let us look at the visual performance of the lander.\n",
    "\n",
    "**Note:** The performance varies across different seeds and runs. This code is not optimized to be stable across all runs and seeds. We hope you will be able to find an optimal configuration!"
   ]
  },
  {
   "cell_type": "code",
   "execution_count": null,
   "metadata": {
    "execution": {}
   },
   "outputs": [
    {
     "name": "stderr",
     "output_type": "stream",
     "text": [
      "/usr/local/lib/python3.10/dist-packages/gym/wrappers/monitoring/video_recorder.py:101: DeprecationWarning: \u001b[33mWARN: <class 'gym.wrappers.monitoring.video_recorder.VideoRecorder'> is marked as deprecated and will be removed in the future.\u001b[0m\n",
      "  logger.deprecation(\n"
     ]
    },
    {
     "name": "stdout",
     "output_type": "stream",
     "text": [
      "\n",
      "Total reward: 252.88935234615718\n"
     ]
    },
    {
     "data": {
      "text/html": [
       "<video width=400 controls><source src=\"data:video/mp4;base64,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\" type=\"video/mp4\"></video>"
      ],
      "text/plain": [
       "<IPython.core.display.HTML object>"
      ]
     },
     "execution_count": 10,
     "metadata": {},
     "output_type": "execute_result"
    }
   ],
   "source": [
    "env = gym.make(env_name, render_mode=\"rgb_array\")\n",
    "vid = VideoRecorder(env, path=f\"video/{env_name}_learned.mp4\")\n",
    "observation = env.reset()[0]\n",
    "\n",
    "total_reward = 0\n",
    "done = False\n",
    "while not done:\n",
    "  frame = env.render()\n",
    "  vid.capture_frame()\n",
    "  action, states = model.predict(observation, deterministic=True)\n",
    "  observation, reward, done, info, _ = env.step(action)\n",
    "  total_reward += reward\n",
    "vid.close()\n",
    "env.close()\n",
    "print(f\"\\nTotal reward: {total_reward}\")\n",
    "\n",
    "# show video\n",
    "html = render_mp4(f\"video/{env_name}_learned.mp4\")\n",
    "HTML(html)"
   ]
  },
  {
   "cell_type": "markdown",
   "metadata": {
    "execution": {}
   },
   "source": [
    "The lander has landed safely!!\n",
    "\n",
    "Let us analyze its performance (speed and stability). For this purpose, we plot the number of time steps on the x-axis and the episodic reward given by the trained model on the y-axis."
   ]
  },
  {
   "cell_type": "code",
   "execution_count": null,
   "metadata": {
    "execution": {}
   },
   "outputs": [
    {
     "name": "stderr",
     "output_type": "stream",
     "text": [
      "/usr/local/lib/python3.10/dist-packages/ipykernel/ipkernel.py:283: DeprecationWarning: `should_run_async` will not call `transform_cell` automatically in the future. Please pass the result to `transformed_cell` argument and any exception that happen during thetransform in `preprocessing_exc_tuple` in IPython 7.17 and above.\n",
      "  and should_run_async(code)\n"
     ]
    },
    {
     "data": {
      "image/png": "[encoded data removed]",
      "text/plain": [
       "<Figure size 640x480 with 1 Axes>"
      ]
     },
     "metadata": {},
     "output_type": "display_data"
    }
   ],
   "source": [
    "x, y = ts2xy(load_results(log_dir), 'timesteps')  # Organising the logged results in to a clean format for plotting.\n",
    "plt.plot(x, y)\n",
    "plt.ylim([-300, 300])\n",
    "plt.xlabel('Timesteps')\n",
    "plt.ylabel('Episode Rewards')\n",
    "plt.show()"
   ]
  },
  {
   "cell_type": "markdown",
   "metadata": {
    "execution": {}
   },
   "source": [
    "From the above plot, we observe that, although the maximum reward is achieved quickly. Achieving an episodic reward of > 200 is good. We see that the agent has achieved it in less than 50000 timesteps (speed is good!). However, there are a lot of fluctuations in the performance (stability is not good!).\n",
    "\n",
    "Your objective now is to modify the model parameters (nn_layers, learning_rate in the code cell #2 above), run all the cells following it and investigate the stability and speed of the chosen configuration.   \n"
   ]
  },
  {
   "cell_type": "markdown",
   "metadata": {
    "execution": {}
   },
   "source": [
    "---\n",
    "# Additional Project Ideas"
   ]
  },
  {
   "cell_type": "markdown",
   "metadata": {
    "execution": {}
   },
   "source": [
    "## 1 Play with exploration-exploitation trade-off\n",
    "\n",
    "Exploration (selecting random actions) and exploitation (selecting greedy action) is a crucial component of the DQN algorithm. Explore random actions for a long time will slow down the training process. At the same time, if all actions are not explored enough, it might lead to a sub-optimal performance. In the DQN code above, we have used the following parameters:"
   ]
  },
  {
   "cell_type": "code",
   "execution_count": null,
   "metadata": {
    "execution": {}
   },
   "outputs": [
    {
     "name": "stderr",
     "output_type": "stream",
     "text": [
      "/usr/local/lib/python3.10/dist-packages/ipykernel/ipkernel.py:283: DeprecationWarning: `should_run_async` will not call `transform_cell` automatically in the future. Please pass the result to `transformed_cell` argument and any exception that happen during thetransform in `preprocessing_exc_tuple` in IPython 7.17 and above.\n",
      "  and should_run_async(code)\n"
     ]
    }
   ],
   "source": [
    "exploration_initial_eps = 1  # initial value of random action probability. Range is between 0 and 1.\n",
    "exploration_fraction = 0.5  # fraction of entire training period over which the exploration rate is reduced. Range is between 0 and 1.\n",
    "exploration_final_eps = 0.05  # (set by defualt) final value of random action probability. Range is between 0 and 1."
   ]
  },
  {
   "cell_type": "markdown",
   "metadata": {
    "execution": {}
   },
   "source": [
    "Your objective is to play around with these parameters and analyze their performance (speed and stability). You can modify these parameters and set them as arguments in DQN(...,exploration_initial_eps = 1, exploration_fraction = 0.5, exploration_final_eps = 0.05,...)."
   ]
  },
  {
   "cell_type": "markdown",
   "metadata": {
    "execution": {}
   },
   "source": [
    "## 2 Reward Shaping\n",
    "\n",
    "Your objective here is to construct a modified reward function that improves the performance of the Lunar Lander. To this end, you would have to create your own custom environment. An example of a custom environment is given below:"
   ]
  },
  {
   "cell_type": "code",
   "execution_count": null,
   "metadata": {
    "execution": {}
   },
   "outputs": [],
   "source": [
    "# Taken from https://stable-baselines3.readthedocs.io/en/master/guide/custom_env.html\n",
    "class CustomEnv(gym.Env):\n",
    "  \"\"\"Custom Environment that follows gym interface\"\"\"\n",
    "  metadata = {'render.modes': ['human']}\n",
    "\n",
    "  def __init__(self, arg1, arg2):\n",
    "    super(CustomEnv, self).__init__()\n",
    "    # Define action and observation space\n",
    "    # They must be gym.spaces objects\n",
    "    # Example when using discrete actions:\n",
    "    self.action_space = spaces.Discrete(N_DISCRETE_ACTIONS)\n",
    "    # Example for using image as input (channel-first; channel-last also works):\n",
    "    self.observation_space = spaces.Box(low=0, high=255,\n",
    "                                        shape=(N_CHANNELS, HEIGHT, WIDTH), dtype=np.uint8)\n",
    "\n",
    "  def step(self, action):\n",
    "    ...\n",
    "    return observation, reward, done, info\n",
    "  def reset(self):\n",
    "    ...\n",
    "    return observation  # reward, done, info can't be included\n",
    "  def render(self, mode='human'):\n",
    "    ...\n",
    "  def close (self):\n",
    "    ..."
   ]
  },
  {
   "cell_type": "markdown",
   "metadata": {
    "execution": {}
   },
   "source": [
    "As you are only changing the reward structure, you can inherit the [original Lunar Lander environment](https://github.com/openai/gym/blob/master/gym/envs/box2d/lunar_lander.py) and modify just the \"step\" function. Focus on modifying the following part of the code in the \"step\" function."
   ]
  },
  {
   "cell_type": "code",
   "execution_count": null,
   "metadata": {
    "execution": {}
   },
   "outputs": [],
   "source": [
    "class Custom_LunarLander(LunarLander):\n",
    "\n",
    "    def step(self, action):\n",
    "        assert self.lander is not None\n",
    "\n",
    "        # Update wind\n",
    "        assert self.lander is not None, \"You forgot to call reset()\"\n",
    "        if self.enable_wind and not (\n",
    "            self.legs[0].ground_contact or self.legs[1].ground_contact\n",
    "        ):\n",
    "            # the function used for wind is tanh(sin(2 k x) + sin(pi k x)),\n",
    "            # which is proven to never be periodic, k = 0.01\n",
    "            wind_mag = (\n",
    "                math.tanh(\n",
    "                    math.sin(0.02 * self.wind_idx)\n",
    "                    + (math.sin(math.pi * 0.01 * self.wind_idx))\n",
    "                )\n",
    "                * self.wind_power\n",
    "            )\n",
    "            self.wind_idx += 1\n",
    "            self.lander.ApplyForceToCenter(\n",
    "                (wind_mag, 0.0),\n",
    "                True,\n",
    "            )\n",
    "\n",
    "            # the function used for torque is tanh(sin(2 k x) + sin(pi k x)),\n",
    "            # which is proven to never be periodic, k = 0.01\n",
    "            torque_mag = math.tanh(\n",
    "                math.sin(0.02 * self.torque_idx)\n",
    "                + (math.sin(math.pi * 0.01 * self.torque_idx))\n",
    "            ) * (self.turbulence_power)\n",
    "            self.torque_idx += 1\n",
    "            self.lander.ApplyTorque(\n",
    "                (torque_mag),\n",
    "                True,\n",
    "            )\n",
    "\n",
    "        if self.continuous:\n",
    "            action = np.clip(action, -1, +1).astype(np.float32)\n",
    "        else:\n",
    "            assert self.action_space.contains(\n",
    "                action\n",
    "            ), f\"{action!r} ({type(action)}) invalid \"\n",
    "\n",
    "        # Engines\n",
    "        tip = (math.sin(self.lander.angle), math.cos(self.lander.angle))\n",
    "        side = (-tip[1], tip[0])\n",
    "        dispersion = [self.np_random.uniform(-1.0, +1.0) / SCALE for _ in range(2)]\n",
    "\n",
    "        m_power = 0.0\n",
    "        if (self.continuous and action[0] > 0.0) or (\n",
    "            not self.continuous and action == 2\n",
    "        ):\n",
    "            # Main engine\n",
    "            if self.continuous:\n",
    "                m_power = (np.clip(action[0], 0.0, 1.0) + 1.0) * 0.5  # 0.5..1.0\n",
    "                assert m_power >= 0.5 and m_power <= 1.0\n",
    "            else:\n",
    "                m_power = 1.0\n",
    "            # 4 is move a bit downwards, +-2 for randomness\n",
    "            ox = tip[0] * (4 / SCALE + 2 * dispersion[0]) + side[0] * dispersion[1]\n",
    "            oy = -tip[1] * (4 / SCALE + 2 * dispersion[0]) - side[1] * dispersion[1]\n",
    "            impulse_pos = (self.lander.position[0] + ox, self.lander.position[1] + oy)\n",
    "            p = self._create_particle(\n",
    "                3.5,  # 3.5 is here to make particle speed adequate\n",
    "                impulse_pos[0],\n",
    "                impulse_pos[1],\n",
    "                m_power,\n",
    "            )  # particles are just a decoration\n",
    "            p.ApplyLinearImpulse(\n",
    "                (ox * MAIN_ENGINE_POWER * m_power, oy * MAIN_ENGINE_POWER * m_power),\n",
    "                impulse_pos,\n",
    "                True,\n",
    "            )\n",
    "            self.lander.ApplyLinearImpulse(\n",
    "                (-ox * MAIN_ENGINE_POWER * m_power, -oy * MAIN_ENGINE_POWER * m_power),\n",
    "                impulse_pos,\n",
    "                True,\n",
    "            )\n",
    "\n",
    "        s_power = 0.0\n",
    "        if (self.continuous and np.abs(action[1]) > 0.5) or (\n",
    "            not self.continuous and action in [1, 3]\n",
    "        ):\n",
    "            # Orientation engines\n",
    "            if self.continuous:\n",
    "                direction = np.sign(action[1])\n",
    "                s_power = np.clip(np.abs(action[1]), 0.5, 1.0)\n",
    "                assert s_power >= 0.5 and s_power <= 1.0\n",
    "            else:\n",
    "                direction = action - 2\n",
    "                s_power = 1.0\n",
    "            ox = tip[0] * dispersion[0] + side[0] * (\n",
    "                3 * dispersion[1] + direction * SIDE_ENGINE_AWAY / SCALE\n",
    "            )\n",
    "            oy = -tip[1] * dispersion[0] - side[1] * (\n",
    "                3 * dispersion[1] + direction * SIDE_ENGINE_AWAY / SCALE\n",
    "            )\n",
    "            impulse_pos = (\n",
    "                self.lander.position[0] + ox - tip[0] * 17 / SCALE,\n",
    "                self.lander.position[1] + oy + tip[1] * SIDE_ENGINE_HEIGHT / SCALE,\n",
    "            )\n",
    "            p = self._create_particle(0.7, impulse_pos[0], impulse_pos[1], s_power)\n",
    "            p.ApplyLinearImpulse(\n",
    "                (ox * SIDE_ENGINE_POWER * s_power, oy * SIDE_ENGINE_POWER * s_power),\n",
    "                impulse_pos,\n",
    "                True,\n",
    "            )\n",
    "            self.lander.ApplyLinearImpulse(\n",
    "                (-ox * SIDE_ENGINE_POWER * s_power, -oy * SIDE_ENGINE_POWER * s_power),\n",
    "                impulse_pos,\n",
    "                True,\n",
    "            )\n",
    "\n",
    "        self.world.Step(1.0 / FPS, 6 * 30, 2 * 30)\n",
    "\n",
    "        pos = self.lander.position\n",
    "        vel = self.lander.linearVelocity\n",
    "        state = [\n",
    "            (pos.x - VIEWPORT_W / SCALE / 2) / (VIEWPORT_W / SCALE / 2),\n",
    "            (pos.y - (self.helipad_y + LEG_DOWN / SCALE)) / (VIEWPORT_H / SCALE / 2),\n",
    "            vel.x * (VIEWPORT_W / SCALE / 2) / FPS,\n",
    "            vel.y * (VIEWPORT_H / SCALE / 2) / FPS,\n",
    "            self.lander.angle,\n",
    "            20.0 * self.lander.angularVelocity / FPS,\n",
    "            1.0 if self.legs[0].ground_contact else 0.0,\n",
    "            1.0 if self.legs[1].ground_contact else 0.0,\n",
    "        ]\n",
    "        assert len(state) == 8\n",
    "\n",
    "        # Compare with / without shaping, referring the state description below\n",
    "        '''\n",
    "        state[0]: the horizontal coordinate\n",
    "        state[1]: the vertical coordinate\n",
    "        state[2]: the horizontal speed\n",
    "        state[3]: the vertical speed\n",
    "        state[4]: the angle\n",
    "        state[5]: the angular speed\n",
    "        state[6]: first leg contact\n",
    "        state[7]: second leg contact\n",
    "        '''\n",
    "        reward = 0\n",
    "        shaping = (\n",
    "            -100 * np.sqrt(state[0] * state[0] + state[1] * state[1])\n",
    "            - 100 * np.sqrt(state[2] * state[2] + state[3] * state[3])\n",
    "            - 100 * abs(state[4])\n",
    "            + 10 * state[6]\n",
    "            + 10 * state[7]\n",
    "        )  # And ten points for legs contact, the idea is if you\n",
    "        # lose contact again after landing, you get negative reward\n",
    "        if self.prev_shaping is not None:\n",
    "            reward = shaping - self.prev_shaping\n",
    "        self.prev_shaping = shaping\n",
    "\n",
    "        reward -= (\n",
    "            m_power * 0.30\n",
    "        )  # less fuel spent is better, about -30 for heuristic landing\n",
    "        reward -= s_power * 0.03\n",
    "\n",
    "        terminated = False\n",
    "        if self.game_over or abs(state[0]) >= 1.0:\n",
    "            terminated = True\n",
    "            reward = -100\n",
    "        if not self.lander.awake:\n",
    "            terminated = True\n",
    "            reward = +100\n",
    "\n",
    "        if self.render_mode == \"human\":\n",
    "            self.render()\n",
    "        return np.array(state, dtype=np.float32), reward, terminated, False, {}"
   ]
  },
  {
   "cell_type": "markdown",
   "metadata": {
    "execution": {}
   },
   "source": [
    "Once you have cutomized your own environment, you can execute that environment by just calling:"
   ]
  },
  {
   "cell_type": "code",
   "execution_count": null,
   "metadata": {
    "execution": {}
   },
   "outputs": [],
   "source": [
    "## Enter the name of the custome environment you created and uncomment the line below.\n",
    "# env = Custom_LunarLander()"
   ]
  },
  {
   "cell_type": "markdown",
   "metadata": {
    "execution": {}
   },
   "source": [
    "**Note:** Refer to [this page](https://stable-baselines3.readthedocs.io/en/master/guide/custom_env.html), if you would like to create more complex environments."
   ]
  },
  {
   "cell_type": "markdown",
   "metadata": {
    "execution": {}
   },
   "source": [
    "## 3 Identify the state information crucial to its performance.\n",
    "\n",
    "Your objective here is to alter the input state information and analyze the performance. The input state of the Lunar Lander consists of following components:\n",
    "\n",
    "  1. Horizontal Position\n",
    "  2. Vertical Position\n",
    "  3. Horizontal Velocity\n",
    "  4. Vertical Velocity\n",
    "  5. Angle\n",
    "  6. Angular Velocity\n",
    "  7. Left Leg Contact\n",
    "  8. Right Leg Contact\n",
    "\n",
    "You can train the algorithm by masking one of the eight components at a time and understand how that affects the performance of the algorithm. Similar to the reward shaping task, you would have to create a custom environment and modify the state space. Again, you can inherit all the necessary functions and modify the following portion of the \"Step\" function:"
   ]
  },
  {
   "cell_type": "code",
   "execution_count": null,
   "metadata": {
    "execution": {}
   },
   "outputs": [],
   "source": [
    "def step(self, actions):\n",
    "  ...\n",
    "  ...\n",
    "  ...\n",
    "  state = [ # Remove one component at a time to investigate the effect on performance!\n",
    "            (pos.x - VIEWPORT_W / SCALE / 2) / (VIEWPORT_W / SCALE / 2),\n",
    "            (pos.y - (self.helipad_y + LEG_DOWN / SCALE)) / (VIEWPORT_H / SCALE / 2),\n",
    "            vel.x * (VIEWPORT_W / SCALE / 2) / FPS,\n",
    "            vel.y * (VIEWPORT_H / SCALE / 2) / FPS,\n",
    "            self.lander.angle,\n",
    "            20.0 * self.lander.angularVelocity / FPS,\n",
    "            1.0 if self.legs[0].ground_contact else 0.0,\n",
    "            1.0 if self.legs[1].ground_contact else 0.0,\n",
    "        ]"
   ]
  },
  {
   "cell_type": "markdown",
   "metadata": {
    "execution": {}
   },
   "source": [
    "## 4 Extension to Atari Games\n",
    "\n",
    "In the Lunar Lander task, the input to the algorithm is a vector of state information. Deep RL algorithms can also be applied when the input to the training is image frames, which is the case in the Atari games. For example, consider an Atari game - Pong. In this environment, the observation is an RGB image of the screen, which is an array of shape (210, 160, 3). To train the Pong game, you can start with the following sample code:"
   ]
  },
  {
   "cell_type": "code",
   "execution_count": null,
   "metadata": {
    "execution": {}
   },
   "outputs": [],
   "source": [
    "## Taken from: https://colab.research.google.com/github/Stable-Baselines-Team/rl-colab-notebooks/blob/sb3/atari_games.ipynb#scrollTo=f3K4rMXwimBO\n",
    "env = make_atari_env('PongNoFrameskip-v4', n_envs=4, seed=0)\n",
    "\n",
    "## Atari Games take a lot of memory. Following commands crash on Coalb. Run the following code on Colab Pro or your local Jupyter notebook!\n",
    "# env = VecFrameStack(env, n_stack=4)\n",
    "# model = DQN('CnnPolicy', env, verbose=1)  # Note the difference here! We use 'CnnPolicy\" here instead of 'MlpPolicy' as the input is frames.\n",
    "# model.learn(total_timesteps=1) #change the number of timesteps as desired and run this command!"
   ]
  },
  {
   "cell_type": "markdown",
   "metadata": {
    "execution": {}
   },
   "source": [
    "## 5 Obstacle Avoidance and Transfer Learning\n",
    "\n",
    "Your obstacle here is to add an obstacle in the path of the lunar lander (by creating a custom environment as described in point 2 above) and train the model such that the lander lands safely, avoiding collisions.\n",
    "\n",
    "You would first want to devise a mechansim for adding obstacles. For example, you could have an imaginary obstacle at some horizantal and vertical position cooridnates and modify the reward function such that a penalty is levied if the lander comes close to it.\n",
    "\n",
    "An interesting approach to solve this problem is to apply the techniques of transfer learning. For example, you could initialise the neural network model with the weights of the trained model on the original problem to improve the sample effeciency. This can be done using the following code:"
   ]
  },
  {
   "cell_type": "code",
   "execution_count": null,
   "metadata": {
    "execution": {}
   },
   "outputs": [],
   "source": [
    "## Specify the load path and uncomment below:\n",
    "\n",
    "# model = load(load_path,\n",
    "#              env=gym.make('LunarLander-v2'),\n",
    "#              custom_objects=None, **kwargs)"
   ]
  },
  {
   "cell_type": "markdown",
   "metadata": {
    "execution": {}
   },
   "source": [
    "Following are some of the resources on transfer learning that you would want to start with.\n",
    "\n",
    "**Research Papers**\n",
    "\n",
    "Surveys:\n",
    "1. Taylor, M. E.,  et al. (2009). Transfer learning for reinforcement learning domains. url: [www.jmlr.org/papers/volume10/taylor09a/taylor09a](https://www.jmlr.org/papers/volume10/taylor09a/taylor09a.pdf)\n",
    "   - Long, Old, Highly cited\n",
    "\n",
    "2. Lazaric, A. (2012). Transfer in reinforcement learning: a framework and a survey. url: [hal.inria.fr/docs/00/77/26/26/PDF/transfer](https://hal.inria.fr/docs/00/77/26/26/PDF/transfer.pdf)\n",
    "   - Medium, Old, Good for a quick read\n",
    "\n",
    "3. Zhu, Z., Lin, K., & Zhou, J. (2020). Transfer learning in deep reinforcement learning. [arxiv:2009.07888](https://arxiv.org/pdf/2009.07888.pdf)\n",
    "  - Medium, Recent, Good for a quick read\n",
    "\n",
    "4. Barreto, A., et al. (2016). Successor features for transfer in reinforcement learning. [arxiv:1606.05312](https://arxiv.org/pdf/1606.05312)\n",
    "  - Specific example"
   ]
  },
  {
   "cell_type": "markdown",
   "metadata": {
    "execution": {}
   },
   "source": [
    "## 5(b) Transfer Learning in minigrid environment\n",
    "\n",
    "These are some simple gridworld gym environments designed to be particularly simple, lightweight and fast. Refer to [this repo](https://github.com/maximecb/gym-minigrid) for a description of the environments. An example to load a minigrid environment is given below."
   ]
  },
  {
   "cell_type": "code",
   "execution_count": null,
   "metadata": {
    "execution": {}
   },
   "outputs": [],
   "source": [
    "env = gym.make('MiniGrid-Empty-5x5-v0', render_mode='rgb_array')"
   ]
  },
  {
   "cell_type": "markdown",
   "metadata": {
    "execution": {}
   },
   "source": [
    "You can train a standard DQN agent in this env by wrapping the env with full image observation wrappers:\n"
   ]
  },
  {
   "cell_type": "code",
   "execution_count": null,
   "metadata": {
    "execution": {}
   },
   "outputs": [
    {
     "name": "stderr",
     "output_type": "stream",
     "text": [
      "/usr/local/lib/python3.10/dist-packages/gymnasium/core.py:311: UserWarning: \u001b[33mWARN: env.width to get variables from other wrappers is deprecated and will be removed in v1.0, to get this variable you can do `env.unwrapped.width` for environment variables or `env.get_wrapper_attr('width')` that will search the reminding wrappers.\u001b[0m\n",
      "  logger.warn(\n",
      "/usr/local/lib/python3.10/dist-packages/gymnasium/core.py:311: UserWarning: \u001b[33mWARN: env.height to get variables from other wrappers is deprecated and will be removed in v1.0, to get this variable you can do `env.unwrapped.height` for environment variables or `env.get_wrapper_attr('height')` that will search the reminding wrappers.\u001b[0m\n",
      "  logger.warn(\n"
     ]
    }
   ],
   "source": [
    "import minigrid\n",
    "env = minigrid.wrappers.ImgObsWrapper(minigrid.wrappers.RGBImgObsWrapper(env))"
   ]
  },
  {
   "cell_type": "markdown",
   "metadata": {
    "execution": {}
   },
   "source": [
    "Note that with full image observations, the shape of the image observations may differ between envs. For e.g., MiniGrid-Empty-5x5-v0 is (40,40,3) while MiniGrid-Empty-8x8-v0 is (64,64,3). So you may need to resize the observations for transfer learning to work with the same DQN architecture.\n",
    "\n",
    "Now try training a DQN (or another method) in one (or multiple) minigrid env(s),and see if that knowledge transfers to another (or multiple other) minigrid env(s).\n"
   ]
  },
  {
   "cell_type": "markdown",
   "metadata": {
    "execution": {}
   },
   "source": [
    "## 6 Preference-Based RL (PBRL)\n",
    "\n",
    "PBRL is an exciting sub-area in RL where the traditional reward structure is replaced with human preferences. This setting is very useful in applications where it is difficult to construct a reward function.\n",
    "\n",
    "In the earlier section, we have successfully trained the lunar lander to land safely. Here, the path that the lander follows to land safely can be arbitrary. In this project, using the techniques of PBRL, you will solve the lunar lander problem with an additional requirement that the lander should follow a specially curated path (for example, a straight line path). Following are some of the resources that will help you to get started with this project.\n",
    "\n",
    "**Research papers:**\n",
    "1. [Deep Reinforcement Learning from Human Preferences](https://papers.nips.cc/paper/2017/file/d5e2c0adad503c91f91df240d0cd4e49-Paper.pdf)\n",
    "2. [Deep Q-learning from Demonstrations](https://arxiv.org/pdf/1704.03732.pdf)\n",
    "3. [Reward learning from human preferences](https://arxiv.org/pdf/1811.06521.pdf)\n",
    "4. [T-REX](https://arxiv.org/pdf/1904.06387.pdf)\n",
    "\n",
    "**Code Bases:**\n",
    "1. [rl-teacher](https://github.com/nottombrown/rl-teacher)\n",
    "2. [ICML2019-TREX](https://github.com/hiwonjoon/ICML2019-TREX)"
   ]
  },
  {
   "cell_type": "markdown",
   "metadata": {
    "execution": {}
   },
   "source": [
    "---\n",
    "# References\n",
    "\n",
    "1. [Stable Baselines Framework](https://stable-baselines3.readthedocs.io/en/master/guide/examples.html)\n",
    "2. [Lunar Lander Environment](https://gym.openai.com/envs/LunarLander-v2/)\n",
    "3. [OpenAI gym environments](https://gym.openai.com/docs/)\n",
    "4. [A good reference for introduction to RL](http://incompleteideas.net/book/the-book-2nd.html)\n"
   ]
  }
 ],
 "metadata": {
  "accelerator": "GPU",
  "colab": {
   "collapsed_sections": [],
   "include_colab_link": true,
   "name": "lunar_lander",
   "provenance": [],
   "toc_visible": true
  },
  "gpuClass": "standard",
  "kernel": {
   "display_name": "Python 3",
   "language": "python",
   "name": "python3"
  },
  "kernelspec": {
   "display_name": "Python 3",
   "name": "python3"
  },
  "language_info": {
   "name": "python"
  }
 },
 "nbformat": 4,
 "nbformat_minor": 0
}