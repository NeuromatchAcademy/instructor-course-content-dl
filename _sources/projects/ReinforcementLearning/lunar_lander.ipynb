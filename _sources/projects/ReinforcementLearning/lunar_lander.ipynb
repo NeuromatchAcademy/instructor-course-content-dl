{
 "cells": [
  {
   "cell_type": "markdown",
   "metadata": {
    "colab_type": "text",
    "execution": {},
    "id": "view-in-github"
   },
   "source": [
    "<a href=\"https://colab.research.google.com/github/NeuromatchAcademy/course-content-dl/blob/main/projects/ReinforcementLearning/lunar_lander.ipynb\" target=\"_blank\"><img alt=\"Open In Colab\" src=\"https://colab.research.google.com/assets/colab-badge.svg\"/></a>   <a href=\"https://kaggle.com/kernels/welcome?src=https://raw.githubusercontent.com/NeuromatchAcademy/course-content-dl/main/projects/ReinforcementLearning/lunar_lander.ipynb\" target=\"_blank\"><img alt=\"Open in Kaggle\" src=\"https://kaggle.com/static/images/open-in-kaggle.svg\"/></a>"
   ]
  },
  {
   "cell_type": "markdown",
   "metadata": {
    "execution": {}
   },
   "source": [
    "# Performance Analysis of DQN Algorithm on the Lunar Lander task\n",
    "\n",
    "**By Neuromatch Academy**\n",
    "\n",
    "__Content creators:__ Raghuram Bharadwaj Diddigi, Geraud Nangue Tasse, Yamil Vidal, Sanjukta Krishnagopal, Sara Rajaee\n",
    "\n",
    "__Content editors:__ Spiros Chavlis"
   ]
  },
  {
   "cell_type": "markdown",
   "metadata": {
    "execution": {}
   },
   "source": [
    "---\n",
    "# Objective\n",
    "\n",
    "In this project, the objective is to analyze the performance of the Deep Q-Learning algorithm on an exciting task- Lunar Lander. Before we describe the task, let us focus on two keywords here - analysis and performance. What exactly do we mean by these keywords in the context of Reinforcement Learning (RL)?"
   ]
  },
  {
   "cell_type": "markdown",
   "metadata": {
    "execution": {}
   },
   "source": [
    "---\n",
    "# Setup"
   ]
  },
  {
   "cell_type": "markdown",
   "metadata": {},
   "source": [
    "##  Update/Upgrade the system and install libs\n"
   ]
  },
  {
   "cell_type": "code",
   "execution_count": null,
   "metadata": {
    "cellView": "form",
    "execution": {},
    "tags": [
     "hide-input"
    ]
   },
   "outputs": [],
   "source": [
    "# @title Update/Upgrade the system and install libs\n",
    "!apt-get update > /dev/null 2>&1\n",
    "!apt-get install -y xvfb python-opengl ffmpeg > /dev/null 2>&1\n",
    "!apt-get install -y swig build-essential python-dev python3-dev > /dev/null 2>&1"
   ]
  },
  {
   "cell_type": "markdown",
   "metadata": {},
   "source": [
    "##  Install dependencies\n"
   ]
  },
  {
   "cell_type": "code",
   "execution_count": null,
   "metadata": {
    "cellView": "form",
    "execution": {},
    "tags": [
     "hide-input"
    ]
   },
   "outputs": [
    {
     "name": "stdout",
     "output_type": "stream",
     "text": [
      "\u001b[2K     \u001b[90m━━━━━━━━━━━━━━━━━━━━━━━━━━━━━━━━━━━━━━━\u001b[0m \u001b[32m178.4/178.4 kB\u001b[0m \u001b[31m4.6 MB/s\u001b[0m eta \u001b[36m0:00:00\u001b[0m\n",
      "\u001b[2K     \u001b[90m━━━━━━━━━━━━━━━━━━━━━━━━━━━━━━━━━━━━━━\u001b[0m \u001b[32m925.5/925.5 kB\u001b[0m \u001b[31m25.5 MB/s\u001b[0m eta \u001b[36m0:00:00\u001b[0m\n",
      "\u001b[2K     \u001b[90m━━━━━━━━━━━━━━━━━━━━━━━━━━━━━━━━━━━━━━\u001b[0m \u001b[32m434.7/434.7 kB\u001b[0m \u001b[31m42.9 MB/s\u001b[0m eta \u001b[36m0:00:00\u001b[0m\n",
      "\u001b[?25h  Installing build dependencies ... \u001b[?25l\u001b[?25hdone\n",
      "  Getting requirements to build wheel ... \u001b[?25l\u001b[?25hdone\n",
      "  Preparing metadata (pyproject.toml) ... \u001b[?25l\u001b[?25hdone\n",
      "\u001b[2K     \u001b[90m━━━━━━━━━━━━━━━━━━━━━━━━━━━━━━━━━━━━━━━━\u001b[0m \u001b[32m1.7/1.7 MB\u001b[0m \u001b[31m54.4 MB/s\u001b[0m eta \u001b[36m0:00:00\u001b[0m\n",
      "\u001b[?25h  Building wheel for AutoROM.accept-rom-license (pyproject.toml) ... \u001b[?25l\u001b[?25hdone\n",
      "\u001b[2K     \u001b[90m━━━━━━━━━━━━━━━━━━━━━━━━━━━━━━━━━━━━━━━\u001b[0m \u001b[32m374.4/374.4 kB\u001b[0m \u001b[31m7.4 MB/s\u001b[0m eta \u001b[36m0:00:00\u001b[0m\n",
      "\u001b[?25h  Preparing metadata (setup.py) ... \u001b[?25l\u001b[?25hdone\n",
      "\u001b[2K     \u001b[90m━━━━━━━━━━━━━━━━━━━━━━━━━━━━━━━━━━━━━━━━\u001b[0m \u001b[32m18.3/18.3 MB\u001b[0m \u001b[31m74.1 MB/s\u001b[0m eta \u001b[36m0:00:00\u001b[0m\n",
      "\u001b[2K     \u001b[90m━━━━━━━━━━━━━━━━━━━━━━━━━━━━━━━━━━━━━━━━\u001b[0m \u001b[32m1.8/1.8 MB\u001b[0m \u001b[31m86.1 MB/s\u001b[0m eta \u001b[36m0:00:00\u001b[0m\n",
      "\u001b[?25h  Building wheel for box2d-py (setup.py) ... \u001b[?25l\u001b[?25hdone\n",
      "\u001b[2K     \u001b[90m━━━━━━━━━━━━━━━━━━━━━━━━━━━━━━━━━━━━━━\u001b[0m \u001b[32m853.1/853.1 kB\u001b[0m \u001b[31m12.8 MB/s\u001b[0m eta \u001b[36m0:00:00\u001b[0m\n",
      "\u001b[2K     \u001b[90m━━━━━━━━━━━━━━━━━━━━━━━━━━━━━━━━━━━━━━━\u001b[0m \u001b[32m103.1/103.1 kB\u001b[0m \u001b[31m3.3 MB/s\u001b[0m eta \u001b[36m0:00:00\u001b[0m\n",
      "\u001b[2K     \u001b[90m━━━━━━━━━━━━━━━━━━━━━━━━━━━━━━━━━━━━━━━━\u001b[0m \u001b[32m13.9/13.9 MB\u001b[0m \u001b[31m79.6 MB/s\u001b[0m eta \u001b[36m0:00:00\u001b[0m\n",
      "\u001b[?25h"
     ]
    }
   ],
   "source": [
    "# @title Install dependencies\n",
    "!pip install rarfile --quiet\n",
    "!pip install stable-baselines3[extra] --quiet\n",
    "!pip install ale-py --quiet\n",
    "!pip install gym[box2d] --quiet\n",
    "!pip install pyvirtualdisplay --quiet\n",
    "!pip install pyglet --quiet\n",
    "!pip install pygame --quiet\n",
    "!pip install minigrid --quiet"
   ]
  },
  {
   "cell_type": "code",
   "execution_count": null,
   "metadata": {
    "execution": {}
   },
   "outputs": [
    {
     "name": "stdout",
     "output_type": "stream",
     "text": [
      "pygame 2.5.0 (SDL 2.28.0, Python 3.10.12)\n",
      "Hello from the pygame community. https://www.pygame.org/contribute.html\n"
     ]
    },
    {
     "name": "stderr",
     "output_type": "stream",
     "text": [
      "/usr/local/lib/python3.10/dist-packages/torch/utils/tensorboard/__init__.py:4: DeprecationWarning: distutils Version classes are deprecated. Use packaging.version instead.\n",
      "  if not hasattr(tensorboard, \"__version__\") or LooseVersion(\n"
     ]
    }
   ],
   "source": [
    "# Imports\n",
    "import io\n",
    "import os\n",
    "import glob\n",
    "import torch\n",
    "import base64\n",
    "\n",
    "import numpy as np\n",
    "import matplotlib.pyplot as plt\n",
    "\n",
    "import sys\n",
    "import gymnasium\n",
    "sys.modules[\"gym\"] = gymnasium\n",
    "\n",
    "import stable_baselines3\n",
    "from stable_baselines3 import DQN\n",
    "from stable_baselines3.common.results_plotter import ts2xy, load_results\n",
    "from stable_baselines3.common.callbacks import EvalCallback\n",
    "from stable_baselines3.common.env_util import make_atari_env\n",
    "\n",
    "import gymnasium as gym\n",
    "from gym import spaces\n",
    "from gym.wrappers.monitoring.video_recorder import VideoRecorder"
   ]
  },
  {
   "cell_type": "markdown",
   "metadata": {},
   "source": [
    "##  Play Video function\n"
   ]
  },
  {
   "cell_type": "code",
   "execution_count": null,
   "metadata": {
    "cellView": "form",
    "execution": {},
    "tags": [
     "hide-input"
    ]
   },
   "outputs": [
    {
     "name": "stderr",
     "output_type": "stream",
     "text": [
      "/usr/local/lib/python3.10/dist-packages/ipykernel/ipkernel.py:283: DeprecationWarning: `should_run_async` will not call `transform_cell` automatically in the future. Please pass the result to `transformed_cell` argument and any exception that happen during thetransform in `preprocessing_exc_tuple` in IPython 7.17 and above.\n",
      "  and should_run_async(code)\n"
     ]
    }
   ],
   "source": [
    "# @title Play Video function\n",
    "from IPython.display import HTML\n",
    "from base64 import b64encode\n",
    "from pyvirtualdisplay import Display\n",
    "\n",
    "# create the directory to store the video(s)\n",
    "os.makedirs(\"./video\", exist_ok=True)\n",
    "\n",
    "display = Display(visible=False, size=(1400, 900))\n",
    "_ = display.start()\n",
    "\n",
    "\"\"\"\n",
    "Utility functions to enable video recording of gym environment\n",
    "and displaying it.\n",
    "To enable video, just do \"env = wrap_env(env)\"\"\n",
    "\"\"\"\n",
    "def render_mp4(videopath: str) -> str:\n",
    "  \"\"\"\n",
    "  Gets a string containing a b4-encoded version of the MP4 video\n",
    "  at the specified path.\n",
    "  \"\"\"\n",
    "  mp4 = open(videopath, 'rb').read()\n",
    "  base64_encoded_mp4 = b64encode(mp4).decode()\n",
    "  return f'<video width=400 controls><source src=\"data:video/mp4;' \\\n",
    "         f'base64,{base64_encoded_mp4}\" type=\"video/mp4\"></video>'"
   ]
  },
  {
   "cell_type": "markdown",
   "metadata": {
    "execution": {}
   },
   "source": [
    "---\n",
    "# Introduction\n",
    "\n",
    "In a standard RL setting, an agent learns optimal behavior from an environment through a feedback mechanism to maximize a given objective. Many algorithms have been proposed in the RL literature that an agent can apply to learn the optimal behavior. One such popular algorithm is the Deep Q-Network (DQN). This algorithm makes use of deep neural networks to compute optimal actions. In this project, your goal is to understand the effect of the number of neural network layers on the algorithm's performance. The performance of the algorithm can be evaluated through two metrics - Speed and Stability.\n",
    "\n",
    "**Speed:** How fast the algorithm reaches the maximum possible reward.\n",
    "\n",
    "**Stability** In some applications (especially when online learning is involved), along with speed, stability of the algorithm, i.e., minimal fluctuations in performance, is equally important.\n",
    "\n",
    "In this project, you should investigate the following question:\n",
    "\n",
    "**What is the impact of number of neural network layers on speed and stability of the algorithm?**\n",
    "\n",
    "You do not have to write the DQN code from scratch. We have provided a basic implementation of the DQN algorithm. You only have to tune the hyperparameters (neural network size, learning rate, etc), observe the performance, and analyze. More details on this are provided below.\n",
    "\n",
    "Now, let us discuss the RL task we have chosen, i.e., Lunar Lander. This task consists of the lander and a landing pad marked by two flags. The episode starts with the lander moving downwards due to gravity. The objective is to land safely using different engines available on the lander with zero speed on the landing pad as quickly and fuel efficient as possible. Reward for moving from the top of the screen and landing on landing pad with zero speed is between 100 to 140 points. Each leg ground contact yields a reward of 10 points. Firing main engine leads to a reward of -0.3 points in each frame. Firing the side engine leads to a reward of -0.03 points in each frame. An additional reward of -100 or +100 points is received if the lander crashes or comes to rest respectively which also leads to end of the episode.\n",
    "\n",
    "The input state of the Lunar Lander consists of following components:\n",
    "\n",
    "  1. Horizontal Position\n",
    "  2. Vertical Position\n",
    "  3. Horizontal Velocity\n",
    "  4. Vertical Velocity\n",
    "  5. Angle\n",
    "  6. Angular Velocity\n",
    "  7. Left Leg Contact\n",
    "  8. Right Leg Contact\n",
    "\n",
    "The actions of the agents are:\n",
    "  1. Do Nothing\n",
    "  2. Fire Main Engine\n",
    "  3. Fire Left Engine\n",
    "  4. Fire Right Engine\n",
    "\n",
    "\n",
    "<img src=\"https://raw.githubusercontent.com/NeuromatchAcademy/course-content-dl/main/projects/static/lunar_lander.png\">"
   ]
  },
  {
   "cell_type": "markdown",
   "metadata": {
    "execution": {}
   },
   "source": [
    "---\n",
    "# Basic DQN Implementation\n",
    "\n",
    "We will now implement the DQN algorithm using the existing code base. We encourage you to understand this example and re-use it in an application/project of your choice!"
   ]
  },
  {
   "cell_type": "markdown",
   "metadata": {
    "execution": {}
   },
   "source": [
    "Now, let us set some hyperparameters for our algorithm. This is the only part you would play around with, to solve the first part of the project."
   ]
  },
  {
   "cell_type": "code",
   "execution_count": null,
   "metadata": {
    "execution": {}
   },
   "outputs": [
    {
     "name": "stderr",
     "output_type": "stream",
     "text": [
      "/usr/local/lib/python3.10/dist-packages/ipykernel/ipkernel.py:283: DeprecationWarning: `should_run_async` will not call `transform_cell` automatically in the future. Please pass the result to `transformed_cell` argument and any exception that happen during thetransform in `preprocessing_exc_tuple` in IPython 7.17 and above.\n",
      "  and should_run_async(code)\n"
     ]
    }
   ],
   "source": [
    "nn_layers = [64, 64]  # This is the configuration of your neural network. Currently, we have two layers, each consisting of 64 neurons.\n",
    "                      # If you want three layers with 64 neurons each, set the value to [64,64,64] and so on.\n",
    "\n",
    "learning_rate = 0.001  # This is the step-size with which the gradient descent is carried out.\n",
    "                       # Tip: Use smaller step-sizes for larger networks."
   ]
  },
  {
   "cell_type": "markdown",
   "metadata": {
    "execution": {}
   },
   "source": [
    "Now, let us setup our model and the DQN algorithm."
   ]
  },
  {
   "cell_type": "code",
   "execution_count": null,
   "metadata": {
    "execution": {}
   },
   "outputs": [],
   "source": [
    "log_dir = \"/tmp/gym/\"\n",
    "os.makedirs(log_dir, exist_ok=True)\n",
    "\n",
    "# Create environment\n",
    "env_name = 'LunarLander-v2'\n",
    "env = gym.make(env_name)\n",
    "# You can also load other environments like cartpole, MountainCar, Acrobot.\n",
    "# Refer to https://gym.openai.com/docs/ for descriptions.\n",
    "\n",
    "# For example, if you would like to load Cartpole,\n",
    "# just replace the above statement with \"env = gym.make('CartPole-v1')\".\n",
    "\n",
    "env = stable_baselines3.common.monitor.Monitor(env, log_dir )\n",
    "\n",
    "callback = EvalCallback(env, log_path=log_dir, deterministic=True)  # For evaluating the performance of the agent periodically and logging the results.\n",
    "policy_kwargs = dict(activation_fn=torch.nn.ReLU,\n",
    "                     net_arch=nn_layers)\n",
    "model = DQN(\"MlpPolicy\", env,policy_kwargs = policy_kwargs,\n",
    "            learning_rate=learning_rate,\n",
    "            batch_size=1,  # for simplicity, we are not doing batch update.\n",
    "            buffer_size=1,  # size of experience of replay buffer. Set to 1 as batch update is not done\n",
    "            learning_starts=1,  # learning starts immediately!\n",
    "            gamma=0.99,  # discount facto. range is between 0 and 1.\n",
    "            tau = 1,  # the soft update coefficient for updating the target network\n",
    "            target_update_interval=1,  # update the target network immediately.\n",
    "            train_freq=(1,\"step\"),  # train the network at every step.\n",
    "            max_grad_norm = 10,  # the maximum value for the gradient clipping\n",
    "            exploration_initial_eps = 1,  # initial value of random action probability\n",
    "            exploration_fraction = 0.5,  # fraction of entire training period over which the exploration rate is reduced\n",
    "            gradient_steps = 1,  # number of gradient steps\n",
    "            seed = 1,  # seed for the pseudo random generators\n",
    "            verbose=0)  # Set verbose to 1 to observe training logs. We encourage you to set the verbose to 1.\n",
    "\n",
    "# You can also experiment with other RL algorithms like A2C, PPO, DDPG etc.\n",
    "# Refer to  https://stable-baselines3.readthedocs.io/en/master/guide/examples.html\n",
    "# for documentation. For example, if you would like to run DDPG, just replace \"DQN\" above with \"DDPG\"."
   ]
  },
  {
   "cell_type": "markdown",
   "metadata": {
    "execution": {}
   },
   "source": [
    "Before we train the model, let us look at an instance of Lunar Lander **before training**.  \n",
    "\n",
    "**Note:** The following code for rendering the video is taken from [here](https://colab.research.google.com/github/jeffheaton/t81_558_deep_learning/blob/master/t81_558_class_12_01_ai_gym.ipynb#scrollTo=T9RpF49oOsZj)."
   ]
  },
  {
   "cell_type": "code",
   "execution_count": null,
   "metadata": {
    "execution": {}
   },
   "outputs": [
    {
     "name": "stdout",
     "output_type": "stream",
     "text": [
      "State shape:  (8,)\n",
      "Number of actions:  4\n"
     ]
    }
   ],
   "source": [
    "env_name = 'LunarLander-v2'\n",
    "env = gym.make(env_name)\n",
    "print('State shape: ', env.observation_space.shape)\n",
    "print('Number of actions: ', env.action_space.n)"
   ]
  },
  {
   "cell_type": "code",
   "execution_count": null,
   "metadata": {
    "execution": {}
   },
   "outputs": [
    {
     "name": "stderr",
     "output_type": "stream",
     "text": [
      "/usr/local/lib/python3.10/dist-packages/gym/wrappers/monitoring/video_recorder.py:101: DeprecationWarning: \u001b[33mWARN: <class 'gym.wrappers.monitoring.video_recorder.VideoRecorder'> is marked as deprecated and will be removed in the future.\u001b[0m\n",
      "  logger.deprecation(\n"
     ]
    },
    {
     "name": "stdout",
     "output_type": "stream",
     "text": [
      "\n",
      "Total reward: -469.6586736492694\n"
     ]
    },
    {
     "data": {
      "text/html": [
       "<video width=400 controls><source src=\"data:video/mp4;base64,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\" type=\"video/mp4\"></video>"
      ],
      "text/plain": [
       "<IPython.core.display.HTML object>"
      ]
     },
     "execution_count": 8,
     "metadata": {},
     "output_type": "execute_result"
    }
   ],
   "source": [
    "env = gym.make(env_name, render_mode=\"rgb_array\")\n",
    "vid = VideoRecorder(env, path=f\"video/{env_name}_pretraining.mp4\")\n",
    "observation = env.reset()[0]\n",
    "\n",
    "total_reward = 0\n",
    "done = False\n",
    "while not done:\n",
    "  frame = env.render()\n",
    "  vid.capture_frame()\n",
    "  action, states = model.predict(observation, deterministic=True)\n",
    "  observation, reward, done, info, _ = env.step(action)\n",
    "  total_reward += reward\n",
    "vid.close()\n",
    "env.close()\n",
    "print(f\"\\nTotal reward: {total_reward}\")\n",
    "\n",
    "# show video\n",
    "html = render_mp4(f\"video/{env_name}_pretraining.mp4\")\n",
    "HTML(html)"
   ]
  },
  {
   "cell_type": "markdown",
   "metadata": {
    "execution": {}
   },
   "source": [
    "From the video above, we see that the lander has crashed!\n",
    "It is now the time for training!\n"
   ]
  },
  {
   "cell_type": "code",
   "execution_count": null,
   "metadata": {
    "execution": {}
   },
   "outputs": [
    {
     "name": "stderr",
     "output_type": "stream",
     "text": [
      "/usr/local/lib/python3.10/dist-packages/ipykernel/ipkernel.py:283: DeprecationWarning: `should_run_async` will not call `transform_cell` automatically in the future. Please pass the result to `transformed_cell` argument and any exception that happen during thetransform in `preprocessing_exc_tuple` in IPython 7.17 and above.\n",
      "  and should_run_async(code)\n"
     ]
    },
    {
     "name": "stdout",
     "output_type": "stream",
     "text": [
      "Eval num_timesteps=10000, episode_reward=-643.45 +/- 127.77\n",
      "Episode length: 133.00 +/- 19.26\n",
      "New best mean reward!\n",
      "Eval num_timesteps=20000, episode_reward=-281.99 +/- 41.82\n",
      "Episode length: 243.80 +/- 86.36\n",
      "New best mean reward!\n",
      "Eval num_timesteps=30000, episode_reward=-53.03 +/- 25.70\n",
      "Episode length: 277.80 +/- 62.90\n",
      "New best mean reward!\n",
      "Eval num_timesteps=40000, episode_reward=-1.77 +/- 153.36\n",
      "Episode length: 599.40 +/- 237.70\n",
      "New best mean reward!\n",
      "Eval num_timesteps=50000, episode_reward=-64.08 +/- 10.78\n",
      "Episode length: 82.20 +/- 8.21\n",
      "Eval num_timesteps=60000, episode_reward=-39.08 +/- 38.00\n",
      "Episode length: 940.80 +/- 118.40\n",
      "Eval num_timesteps=70000, episode_reward=-41.74 +/- 13.58\n",
      "Episode length: 1000.00 +/- 0.00\n",
      "Eval num_timesteps=80000, episode_reward=101.38 +/- 12.00\n",
      "Episode length: 934.20 +/- 24.90\n",
      "New best mean reward!\n",
      "Eval num_timesteps=90000, episode_reward=49.22 +/- 50.12\n",
      "Episode length: 939.60 +/- 73.99\n",
      "Eval num_timesteps=100000, episode_reward=160.18 +/- 125.11\n",
      "Episode length: 523.20 +/- 204.27\n",
      "New best mean reward!\n"
     ]
    },
    {
     "data": {
      "text/plain": [
       "<stable_baselines3.dqn.dqn.DQN at 0x7b9548a1dc60>"
      ]
     },
     "execution_count": 9,
     "metadata": {},
     "output_type": "execute_result"
    }
   ],
   "source": [
    "model.learn(total_timesteps=100000, log_interval=10, callback=callback)\n",
    "# The performance of the training will be printed every 10 episodes. Change it to 1, if you wish to\n",
    "# view the performance at every training episode."
   ]
  },
  {
   "cell_type": "markdown",
   "metadata": {
    "execution": {}
   },
   "source": [
    "The training takes time. We encourage you to analyze the output logs (set verbose to 1 to print the output logs). The main component of the logs that you should track is \"ep_rew_mean\" (mean of episode rewards). As the training proceeds, the value of \"ep_rew_mean\" should increase. The improvement need not be monotonic, but the trend should be upwards!\n",
    "\n",
    "Along with training, we are also periodically evaluating the performance of the current model during the training. This was reported in logs as follows:\n",
    "\n",
    "```\n",
    "Eval num_timesteps=100000, episode_reward=63.41 +/- 130.02\n",
    "Episode length: 259.80 +/- 47.47\n",
    "```"
   ]
  },
  {
   "cell_type": "markdown",
   "metadata": {
    "execution": {}
   },
   "source": [
    "Now, let us look at the visual performance of the lander.\n",
    "\n",
    "**Note:** The performance varies across different seeds and runs. This code is not optimized to be stable across all runs and seeds. We hope you will be able to find an optimal configuration!"
   ]
  },
  {
   "cell_type": "code",
   "execution_count": null,
   "metadata": {
    "execution": {}
   },
   "outputs": [
    {
     "name": "stderr",
     "output_type": "stream",
     "text": [
      "/usr/local/lib/python3.10/dist-packages/gym/wrappers/monitoring/video_recorder.py:101: DeprecationWarning: \u001b[33mWARN: <class 'gym.wrappers.monitoring.video_recorder.VideoRecorder'> is marked as deprecated and will be removed in the future.\u001b[0m\n",
      "  logger.deprecation(\n"
     ]
    },
    {
     "name": "stdout",
     "output_type": "stream",
     "text": [
      "\n",
      "Total reward: 256.2258814134158\n"
     ]
    },
    {
     "data": {
      "text/html": [
       "<video width=400 controls><source src=\"data:video/mp4;base64,AAAAIGZ0eXBpc29tAAACAGlzb21pc28yYXZjMW1wNDEAAAAIZnJlZQAAqYFtZGF0AAACrgYF//+q3EXpvebZSLeWLNgg2SPu73gyNjQgLSBjb3JlIDE1NSByMjkxNyAwYTg0ZDk4IC0gSC4yNjQvTVBFRy00IEFWQyBjb2RlYyAtIENvcHlsZWZ0IDIwMDMtMjAxOCAtIGh0dHA6Ly93d3cudmlkZW9sYW4ub3JnL3gyNjQuaHRtbCAtIG9wdGlvbnM6IGNhYmFjPTEgcmVmPTMgZGVibG9jaz0xOjA6MCBhbmFseXNlPTB4MzoweDExMyBtZT1oZXggc3VibWU9NyBwc3k9MSBwc3lfcmQ9MS4wMDowLjAwIG1peGVkX3JlZj0xIG1lX3JhbmdlPTE2IGNocm9tYV9tZT0xIHRyZWxsaXM9MSA4eDhkY3Q9MSBjcW09MCBkZWFkem9uZT0yMSwxMSBmYXN0X3Bza2lwPTEgY2hyb21hX3FwX29mZnNldD0tMiB0aHJlYWRzPTMgbG9va2FoZWFkX3RocmVhZHM9MSBzbGljZWRfdGhyZWFkcz0wIG5yPTAgZGVjaW1hdGU9MSBpbnRlcmxhY2VkPTAgYmx1cmF5X2NvbXBhdD0wIGNvbnN0cmFpbmVkX2ludHJhPTAgYmZyYW1lcz0zIGJfcHlyYW1pZD0yIGJfYWRhcHQ9MSBiX2JpYXM9MCBkaXJlY3Q9MSB3ZWlnaHRiPTEgb3Blbl9nb3A9MCB3ZWlnaHRwPTIga2V5aW50PTI1MCBrZXlpbnRfbWluPTI1IHNjZW5lY3V0PTQwIGludHJhX3JlZnJlc2g9MCByY19sb29rYWhlYWQ9NDAgcmM9Y3JmIG1idHJlZT0xIGNyZj0yMy4wIHFjb21wPTAuNjAgcXBtaW49MCBxcG1heD02OSBxcHN0ZXA9NCBpcF9yYXRpbz0xLjQwIGFxPTE6MS4wMACAAAAG3mWIhAAv//72rvzLK3R+lS4dWXuzUfLoSXL9iDB9vPlXgof48Ap47RpYcIP3Q54gsW74x0/rAf20wsIwc7aVmYFW0hDU/KHInie/RfEfyuWRaPnyaOzUaYDjo/IH/MpznQ74V6tbSMnyrPOQh9k25XzvLs9DTGW5M5aq/jzW7NxaP262b69kgo0N2VCY3UO8t8kcD/+CT6r7TwpWz0eR6pyTFMZK+SzOrtRg+LShO4FeWFSG35z/jSitj5x7W06w910Ill5LAEYt8e+QSMQnDBp6XjZq7flD+5I9h9iAAAADAAPgwB7caa0FBjIweGi5EgzQU/+eN+BmMxihJgJw4oF/c6SVIHEPxSJDomHFi2FmYMgZyMa9TaPCXRfhkw0NzWRWEWgXWvSAAELA8+c9yPTgnAbgbgfIqA+B0D+H4UgrQLTeOXMGdVGSe4GHisN8UNKakbvn1oi2yVBEo41ys/AKpYNu93f2kWEPkDhyXCrcBWeZuXEBUTPI10/r30CFW4/MZ/L1dM2R3LoY/7vDZGacYW9p38kuffn6wFlgnfhy4kJwIxrcCS1dFt25KLUPeguieVsz31cEtpdXTahS2OjqAtULNuQGbDa1o54hvhM40YZ3RRM1E3R+tEXBOH3hDxUTf/Y0DNd2fWtmoKmwZg24/KNCTbIysiM8ZCU6aizG5RnsR5OmUUf9BRmWdM+PxLf8BAAQaAM3uzk4gathL4iwuUVhVjF1LLt5yFRSETnZmJgXtAyA2ZTLy35FeTfQrfyR+HmLedovsTS03ZlUiR1uF4i2Ha3zus2kSrR3zYEbntCTGrY/edAQ4Khd3xYui3aiHAkkNx84BHt3G/Zj52S7Ku88lxt+TrpENndVKhkcVtWvt96a19WPV5Bds1g0IpeST0B8qqISZP1o3lfl0ukMCdfBoQnqm7PT/4KepGjB0gVf+18nk5z9iIfbdSKdatiWOOWw0o1nBJ9j1dt9Sw2rCteAW8xXSKvVIUHBuVlfeHAIID5mjmVkdAgqr81ibqJwhx5CAWoHjPdKo1loLSnPPRWTuCFHwz1oycwRZdsqsSaQI5G0+KA+3GDCCNAQO3fGX75797fGhCafnfU2aIvIOEpJTHYX5y2tQVdpa7r3VuiPvVDq83PhnlVrRFCdG/hhf3heCht8R65j7d6D5M0l1YsTsYFpYLyMeo+9yc9R7IBFNOX5sRW8s0jYub8HEuPtVYfdzw58lYsg04DmIVL2ccNupRsA1EnHNgJA6wH/uvr8O+XboNHAYXNeEV0SNPMPav3+zX/I2Bd0UhElGZ7JARdq8OR/oP6ewTEjStsPZuuuVgsCER3wO2fJXdPuMeXLmqn8tVtR2TW8RkpB63QrFvaTJUjEuLafNMjiSMRoJsTivIKivhHbjUBp/rcEFA2A7ILsAluPk/Oz9uFhp1QbY0eYIGs4wzjYKoI6R99kv+fqgNvPWxxzExMt2M4N4/vGDIfV2ZkPgP9N3kr/hJtQ/bnk+puH+nBo7KF1ev2NJ1CORlpYKMR1qnzY6gF2Iv5ZkWSnN/FlL5Ryj7EC6RHHdZrQfsj5FVeNvP+Za+3+964jCU6MxX7JksBLb2cmiaek7sN9MSYkL8vU+fqr5cjN9l3+fej6TNHaG3HzL5DrfMJiUCx25FqL9co6rh1g9aCUB/CIbbW1zBUz6cqUHadTvZ/QOKm2W0bkKV0Db0Yy8Ww2hvWb5p0fy4jJui2e/LDwRN18AI/lopP8ynhD9U3a2oAYhYlvOtn4DVhEC3QVuyOB2y8QNmNvqhY1VQuECcVZG1pLA5q7rbjFuTRd0m+ec0z/05GNM8926ordV1bc7rngIHKxMLtEtJpqXylU/iA3aJSYBfMws3ZvATGJWz+fZTt5YWc3uUIhJr7OL5ifQV3MgVoxf22Nv+tY6soUd4LmojJiEAhVWs25N0LK4HF1yEDI/J1PEmbBG4HFZb0CEKHW7Af+V04uUJIP9gOtMkXvYSY/qnAvDWQxBCdcfOhoV0dms3LEDur8p1OuQvIPW0d5hPpelg2rUBAD9tx1Hq7ZHe8Z9L0/A1bxErQbv+P2G+b1T0DqtldBYAKFItO0JvRR1R6a0HVM1xaaVKvuK2P7LGq6iWGM/aOOXbGcgTRNpVWzv8BtjeQ1oRpu/1CVKEo9sJiRG6DXsf5oUGin4jaiwp5nmgAAAwALB/mm/mbghSB16tAoFyh94/OJQjYKK2KafY63TO4hn2Y/jRrUSIB0RTWo80udUTy6ZcFaiZV5r/HvUSLUgMNN7GbaO6QI2uAAAATBf9mV5g+oT21xt5dlRGFwnKfEtGqaN/IUp2QBm0PjCAmtiKwAM4BCwQAAAYNBmiNsQv/+jNMzf5+QftsH7CI4Y5IoAJGbqZx0+JZYrxdy5LkYX4Tv7d+Ez+sZMGziY8VkC/4lNF1N33yiZzLBthULUtoEHCDxG4Q8nHnVeB8PjgX5NgEhVsByAopX90tvMXJ23bCCDgBmJpwpxvi4t48shc6DZ5YyPfrMjYJsxgAEMI6TeC42xClHGuAvLKMmZLKCeeC9Fj/1j6jpFrK4LIi3bEHC0PUHkBgXNuvb4g+ZFu2Pquo2+TQKu6kHIhffdtU0E4V1TOhcEzEOlM9ia89px06eG6BGrSC40pJf/Kwl7mf8Ie3usBMC0Ag4AhB4PH3Ui0M0pnsdk7SCo1Yp0tKLHvmLv7zcbwvUZpXzibEkd9dj7OW/fU4kr+xsyGgpcVgZ+XIW77K1CsemTbuP0n/+8eF6ALpZ4cBXUr9d6U+d0hVuuzSzKgJSEu0HqDPL3BeRvSEgnLfFTIY8EhTrZz68yovbQosKGCFVqs4t8ujkoagkNl/9sb1QD/seQEbcK2AAAABuQZ5BeIR/D4Plgd2Mt7pmUZABs6GdlxL1gwJm9oUAwZHvK0B7WmF2R2LgnzZ23gARA5FNcoYMT5TxiDzyMQ+Foo9TP6ruhbieq8zB5TpDlL8mDojZHijzRqJzXqBSi+iS/+j0IyS1liE9wyfQDGkAAABTAZ5iakf/FPzrTW7lClELKq0fxEwb6AAbvLr5J3POQKrbEPDF1rCfEmABOOwRX9LfvAw1qp9dCl917taO2hmNKfVDeXy9BFsBtL7Pak4QE+lHvWkAAAEOQZpmSahBaJlMCGf//p4jA3GCyQv+scA0gvGlw2dwqP/xiATbMijBXF4uXNZHINMAqADcsvGR3D6/5Y/1IfDGFOsivxiIO2yVDvl9zkazTS6RiV3j+Di3dlGotbPo2o+WIAAAPX/+BCugUTT+4odGS33lV0z1GbdL7l0xn0xGnW0S0Sh5A9C9Hvb8fPLx9foaptnvu1qVkeimGi33KeBbXbVWRVHm/ACHJC40JFdmZLUdJL9K0R0oXvzGvg2Y6oQTUp5c0taSZeKuF17CBdG3LafPp6Hxv3uA9+vhRf+guVJm9AnyS4+CAj1A7hF9e+Mj+C1Q7yt6siLQCILwl+/XjQBukrPE/PFtGCmJoA8ZAAAAWkGehEURLCP/DfxJ+K2AAulFF59fWlTmJQarAdMr8XzLliN6prYXm+ArKlGNABB05zNEMvu+xPOwgf4AK6LMAzz0vPRAXvRNFVAkxF4kBVuxuuFLYGrEGABQQQAAAGsBnqVqR/8SrxRRTmezcAHFbuYbxXI+J1qlb7EBqLwF2sPB1G8u+iAz7sELSgCxpyBhs5vAAnQs4k/HDBxdcHGK60iksABxFMrr+6gEtSjq27Q6LgYBL8p/ZhwEPpn2vhlKrTiHmbrvZoxkgwAAAPRBmqpJqEFsmUwIZ//+niNNP9LunG9LrXFOIAIfH5NjLmaRUYWVc2yER3mJa6x6m0XKcNUFzQa5rBikpjCLgUzJVRgRa2yTUVYp6vdAAANH4zjSbHkF9Hsp5ZEo8bV57zyNmTmaz4MSaChNZtnNm7R9Y/hB+mK7uRDGM4O+7WpV5GWY65+KweFjARr4jR2CozP8vs+kUzC3yO+Ru8vDmTHjqJAOTQI+1PZNa7jkCchY7OtHZuKfHrjQWH92HWhLTOLvwEO/+vMRmo1AzAEr3q7naVSR9M2yqX51mPyYgHiC1nlQApaxth1ZwEC+Q9KtbBaR4MWBAAAAhkGeyEUVLCP/DT+fqspOiZoMW2e9BI5GgHCgCejDVtxj6zOkmJD5+kWDAG1SGYPxTwlilZfUoSH7go/bVKrUvEgkIcTHYY72hKwH6nr407RcLbBuZK0G6PyvjONXO4CNumARssxCUATuPxNPHaDoPjRhU7n+AJXE32/KsjmlRFGC6gtRbWmAAAAAVwGe53RH/xMEMEDgzazT+DITdG8f50kABOmwL2B82L3dg+25OJu6nBQjMxI1kYnXtCT97qdrK8V3FUkr2H2WAcoCD2F/u47WLk4oc0aRK7yAbowCCHJBJwAAAG0BnulqR/8TKDRkjOlXDL13ZCuDiEs0DTZB0AFAKLYoNWk7GZarlJeRaadzpbsmc40IPMhstIbXR8+PZh2LqZ8PVkp1IIK0dhl7VDTIodQDaMEiWNI3Xivhb6S8QXSc5VyORWT55gr9r4f+6NonAAABCkGa7kmoQWyZTAhn//6eIa+q4P4JzsVKk3HGtJEI5KJMoOpZkQaosXh14OpEW7d2WyjyrqmInbRGYgAAAwAWvXFU1+jAwcL90ZX3q0vd8PVV6hb1NN9CiWEjH7lPgM+UDDc26DCz4cSB9921TO7H2qAecml9fyNxuFklmCN1Num+WTzizSKSNEAID2hRlmv1/n/bGZtKl081Dc0FAZtj2nMvHlH0FFwJC+oSWlYlgrNzakABfYRvgf0mK/qROpOQjEB0Cvz6p0+Ml9fz0U8QTNFcnXfFCaJyC1H8IFxQdDC9RyVm1ty9Jl/TByxKHf+GGWTG00q7uUFwd+S0PIcv7dli7QTW7Q/RHgrYAAAAhEGfDEUVLCP/DfCPpJSqXMadw2T8nPhP7PYmsoj1BhACT1Knwpw2govtlLxQGrDRRFHwOOYWrF7YQAQCAPs+zdsXLeztoSCB4HW8IR3wBvTFh5JlvaXXLCVVuHLLzMd4eBxRx3YoDM2laZ0Z8luLqyJZXE/LPBPYVZZan0q0pqeTxGorBgAAAGsBnyt0R/8TBCnpbI7+LYqpXimI9KmEdZtvNxPLd/GExhAB/O0n/e28L2XYEDjZVThdmvSZoyKC50R3/JCDNI3xQ42KkrpSaJNQ+i4WzOZ2RtSFFF/b7nBAVmg2UvfR1lnmynrQ1FGeexPDbwAAAF4Bny1qR/8RfIZFZZMfq8o/p6UnBFpLj2jXSgBL5UEbWIDsxUdo0/kKWv3k+Y+PSNYfl5stO1F9BosBgDDjI7ITrMVgICAwbvfbkyq1kdXVPNSK/Kqt/QDyVuYsO4OxAAAAtkGbMkmoQWyZTAhn//6eHVz3bL6njAQ3nQOY42cf78i/8UGYAqBV2rfM9v1WGsSUlKf75/+1yXufKXR0F7KFxl/I2W81VEsZwJz8EwhfkRCHyulHVskojJY2hUJYAS1S2xDubvyM1Ssv+1tLQIH+Bmx/qqtXeqXiyoAq/ToZyLVrVDoIEgMicCVq521c542IXq+4xjk+XBptyrRT/O786ISVCbYgPhjtwKjdHgscUCYNNHIksR6RAAAAckGfUEUVLCP/DJVQdOcvFXbF4IHSwvaymSSwiUeG4OAFe1moVt/4yknZ40aWAxK74+KK/TAsNpfBPpLlHFy72VC5VUjjINOdrN6BkS0Cn5+qeU8kjHyMD1vtk4uVrE++DbM6sazZK26ppUrTTq+8BTAHzAAAAF8Bn290R/8RfVm8BiU1RQmV7WzwruA7WVmzRNVmaP4k577PywTykRW6mH1cAI7FYzZge1anjkBw1NKGqQXiieBoaJ8pVWMXjQBDbEzDgq8vdrK4362CPg27VBSofMUjKgAAAGQBn3FqR/8DhThiAhcclESDDq4mSQ15VDxEWRTcUKzMJcxkuDJ4gAugRTw30dDewxxi8woaA57agvIkvx5edfrY06yUEddgyV1kYkfyIlNb3t4GlcLdRXhp/9dbvxtsFVWQAAtpAAAA2EGbdkmoQWyZTAhn//6eEAgum865INOfBrhlI5Nqd2RVu/Cbms/Ra5MVADOqgCgQ65vJW+ps7j0gHmB8u/LEwJFZVVS5qAYe70vHZOe+l84am42AwnbaWVHYb1/qz1Modm1pR4ZvP1ieV8iHH4ATNKhlIumjGJjg8CVj14hfGaXkYDxcWnqYiKDaID0xyZrNt/4p5OwVJPCKvyUakpsXUqGe2Y4t57W+z8dcdPCuMQs1sw3TXVUPIT4tuFcBOwhn4Ix9uCqop8JecwEeC64rzj2TGJOl+AIoOAAAAHhBn5RFFSwj/wI6xpwvbI4ytZimiOcD645Hwh/YyR5Hm+jt5mgRVixsn8yj3+TXkpOBUCCHYAcBchMG27+Pl/6yYXOV/dPkxiBAnmzCL93+qydDiCtYbB8wTrH/UqfYgBFdtCrbZ78TZUB+D1l4Gw61vHvfd3nAAb0AAAB9AZ+zdEf/A4TfIAWaJm5m24DuLCDotDV41XAuYAN1qxQByHcWwlqOTf5bBCZJcONSDFZZuPVUVW8jJC9dplSg5PDXlO8h75jz6L4qL9MxLk8IlcbyceC78eMtdDFFoRLuSQ+r6DJtyAf2GqB1ErTxiplSvB/RgGMDnpasjYEAAABwAZ+1akf/A4WRMmLxuySdmBpi7vFCp+KEXl/uVsAfFpAAnbtJ/3iPX0S00t3gAzBHCmoaCHQMFWYNMf9/A0ik+T6OBVaw9OmCmjnpc+az/WPQSzfWcC6eBvDEjbdPDegUPOOmZ4B7wAQGt7teRDeCqgAAAPNBm7pJqEFsmUwIX//+jLAH3tPT2MuLIDFMjpPtLVFi8xl8Ai/DaAPCozfr38sX72p+7f8Hv1rNEfaGxIPB282YihzxFzHRsbSrxLlvjkp09DxuPUNFzxb+Z4zchz5mliG06jg5SLIcP/3WqLEiSyevkDthRS/ZmwqF0qGcLZHqNPugZikZtaj55MCcs6a34WxPfydsymytlfCVkQvLSZWM2b1gGMxw5doZsz2RNx9J1LSl5fGDLeqQ3H6zoGxjifoemCST1oGpdMcJXTEp1IQqJaTR10PM0yYxDKX9k+Jx1MBJp7UAXD3gF0tR4LMS5dFHFv0AAABvQZ/YRRUsI/8A2BMwZ44AcIdD0QGnHOVADWyU3lyO0eNvX1TlPRLNq8jILEtcvyaLLYjKBnftU+04iP1Qch35vbRtZjgpSnmRYCJa3xdV4FHeRkQAzm52oWXrML0NLzQcrDeL2tLG+J1MFwDuAAalAAAAaQGf93RH/wFZEz3JgCdLqXrBrv9yOLYAC1YQe9A6drZQv7oC0a46jPo74DJ4AbuIxrWy7Ia8HSwVlbC/u5+BydTWVWwq56/vNHVQ6FVyGuwZK0FFkf5oif+RWcoMDf1/nxPTybTW/BuBBwAAAGwBn/lqR/8BT4L/e3rXU9YNBLHLkphKHZjKCHVUg2G6A8SQfusgQAtAF+Y1/Hh9ZT7uKBv6NsoMmkQwrgE/E+gMxnfuW7aPBYfCcN1wnYB8IudpD97+e3seVBBBZJPHzkobpDh6hSXA/53wIOEAAAC+QZv+SahBbJlMCF///oywApfMuYZXBcpkQHcLFNIHR6iGlQ8z2Wa6grEUdfhmEOP8u7O/+MncmVkB7ouio7OKTlt4r/0SYcYNYLRu1ocdqJcdi7xKnefI7nwfLJeYVJQXQbFrji6B/sqStSeLdnfMEFr3zb126y9fVHEO3/56rCOcigyfHyOCEifySvN9jFhJI59jpgb6t34kkWY2ptLCoqmH+JSn7NGYo0uG2Je7LJW2AnWEBata6zGSzRKpgAAAAGVBnhxFFSwj/wDTa5CDRr67V25XsPFKgAg8pCAR3xwVMcNmLtSUbcy++B07vIIMsD9QT/WG/LdD4Dv6IOFpE2mohWGNZhQ3CByuv0roUIcqwxhQo3c863WBEhGbXbhx5TJ8SOoD/QAAAGQBnjt0R/8BUD5tMzzlPqHMSGDqCe1DTMeJFzfqw1vNZqlpAA9U+KRaBvEnTO0aX5NzYTrAcyucYbNtsiybZ+6VchWUz4VY1OSEmsCqRzOcAUnoFmNItLMzeMB2n5w2sHt7MD5hAAAAZgGePWpH/wFRGQiBYfJLvv4uOdoQsBHAAnVt5Gse29A0AntbisOIZqwLwcxXL9K5pXCwHADbCr9MzAh/+Zge48Fh8Jw3XCdgHwi3+y3dxFoRlqoe2pCV8gZJ5ZcfEXZilftMiuMDPgAAAMhBmiFJqEFsmUwIX//+jLAChcy5jAppOrxgyAEODfrK+4Ih/IcUPdAfVNoN0Vz2dBP/NhCIDmkfYC/sVobiQYZIWZuQ0CWB3G17IF1IFINioaH0lYXYg/oYIIQhNy8/3w06rkKkGbEHXT9M+rrHfW1QtpDPbZgl+RtaW555zK7YUWferxoPzjQEdt8OrxfFfqBkjgmP42aaqGUHn3jHUV7loux49LGsxrPdfw1W0gcbhtzn2N8pNyYX8YB8ueh/fWqXIfc1BAX5gAAAAJlBnl9FFSwj/wBPZNcfhpepFIyvoNkvfxeD5qAAWukCjokQzOWTsILr2K6fL8kzr3Pb4DNzGBqmYxv5izERLpoDeO0Se4d+rVFvx2jQYbgYewj5C50hiBKrmcvXT0B9pewqMvfwaRDKgvvW+6NRG2WC1eZdIfcR3eTkA/ScIWCrJk8coLN8SSRjMddgtALr6h9jSPL0PnngyoEAAABWAZ5gakf/AHwnDEWYOiCD/NnAQtXJSHA5IASilA0BSUAhmBNXSskL0yjSMi/vd2ZvDfA4gpD1oK+yhwNVttzPhhPHDaOxdQNwcaVH1tKzAjI9+/nhaJgAAACZQZpkSahBbJlMCGf//p4QAPJ7lm/fHtXU7f5icy7Acw15o0Ht6qwJa7RYVlQqUbzrDIFXmJXNCJtIAG7awvirRKr9GTXvf7mi6J9fh2PNmnlakDKoDgaD+VsSqoKegEPd/m3MOwW7P/S1T+OZFnCSn+RGKPKOtEMDRPyBe/PMzuZkK/IZACgzCA1W4kD5YMS5tOxuGm4wv92ZAAAATUGegkUVLCP/AE+NBPAQIbOrHYGi6FSZFF/zQXr0zLhgACx74OvaTlkwwW//MPd5w9bEoT8bg22zJW3KN/8jAy4WALf1AOGquxFdQGfAAAAAUwGeo2pH/wB8aHPL4iAwEBKFZALZP2Es5Gqh3e17YACV86jiF+fW2IszFbRc2XWuKfcsImh//RWJgHAEIDqlizrUHAR7RHaT9z8ePXiPHPoKsHtBAAAAwEGaqEmoQWyZTAhn//6eEADz8J0eiX5ZqWOBBG/yoKDtKwTrox9C84G2rt4AWbl3A2Y7d+JotJv/5tj1xZKtUex87OsbnOWKWUop1xUQrKKEMIN+xxWiMkY7EPJhgnP2CwaWHOb1poXuDbSzBsODGjuwbk4VXjXIXbjj2VcpTrS8vwc1bI287Q2yC6Wey7/8XuNWBX0O+nyAqmNU4Rqn3JERXo0QXeRWRbgnqJOIw2ZoY0gI1xIk3V7jjuuNndaXgQAAAGxBnsZFFSwj/wBPlKset4X1J1iQULJqSdZH/E67fWqeUAJFX6GK8w0qYlYABWIvSN9O1YRhzONsS4/7339h3mGzEalLt+OXCJqE+9TvhMdNpp7z7KJT5EvkfxKbeD4vvbiQRVPD9z+D3dLgBgUAAABYAZ7ldEf/AHwuiQEmqYmK/MjI98SNlyko3gAACW1lXokA5TPkCQnsogrF5awEOg5toY3aIXLDdK1sh47DLHu9zn4O5+zDCGQrTyuQ2QLPrRbVZeUG+OYVUQAAAF0BnudqR/8AL9Bmy+cf/qfvg1j0YT3emC9qqS6LwRRa/QAkVFS+KdbBtokNtEdGteb8i8MbCDwgLxahgh+JS4xwOTwg1oeQn5tkMmJQ6hyYPmz8MljTvOzm7bIwYVUAAACVQZrsSahBbJlMCGf//p4QAF15l0Chh5mnB6E4SEudfSFaCYMhVwLuH4GWxGm2ZkkYIrCbNt8r2lcd9tI0jnWDqJhXIhAJO6YAHB1o7BrD4dTG0QUI/I7/OqFEhj4DvCWJIqesBWH6mgBAEZIhtNMHXyATj8DhaeSiXUm/25oi9AiPWGtm7Ih0Hc2xtzOTlPtyRqn92YAAAAB9QZ8KRRUsI/8AHa0BnS2WZmZz51JrMSFcwbPkALMVU6y4Qft0spr+JPfTLegYA+bOVtHHo0KnUTqCM0+k6wKeaNyKRs7hzYD7XbAJUU+Vu9qbLd5Dh6utYz681F2HAXt4Ae7xhDJp0IDZldTbZOrqCSFYo6LpQtgJnS8QMqEAAABiAZ8pdEf/AC+pmNjZfQ94sf+LXI6a16BigNgIy/iS0I5xqnu+Wbd5gjIBm9pDgaiM4XUAwqNqU7L0Z5W89zNkMmNmvbzQn7V4LHyLH1fjQZXKAnIXGPhFCbRCd9Cx5oEMDPgAAABvAZ8rakf/AC/dT260k45XhVXSzWCbpVVIqcs0MCmgAagyX/3Hd2a+SuFygL4IDW+j/zrotuxHRuE1MxaYETWvW255/hrZ7W9xLMd2+ZFKnk4Nv/S/Fk//rqOzYZDhJK6YX4Y/6E3Z11zG9z8UYEHAAAAA6UGbMEmoQWyZTAhn//6eEABbOZdHomeNlNb89wD5m9BNCkL7//iKhgBBsAkNSsF/KvcJUcsm1DKTctLHeIStL+t+2q1iOsPYB4fdWGlhmG3Pbi3CcwXUVtrgI550OclpkUOvOguQ6zXMpJI4jMKHhpErxhNI/0OWkASeSirc0F1cg50+p6KONBIknBwo1RTSPe/4Uz/Drpu5+IIYLYHgINENg19C4XTIMomvnj7ijqGuJUInn5S+h4ZhkOlVqF26qm9IuszETKEJfs4xp54ukW4SGUCyyYv6TAZ6dZGM2rZ8iOzGUVM0E8XBAAAAdUGfTkUVLCP/AByjSQjyxDC3IdwhhI4+gCA3smk3Hhsy3t7Aut0U6rIrSWbEcovIFtKuL74UrwF3P052YFDFqPDPbo+QbvmOPZa6x5Qb8+M8hesBTuTfHSH7hf3m8aXmIrT6w5dvhysZwcYTAcYB6gr5hiBnwQAAAHEBn210R/8ALqSKZbCedV8qThaOgEXttPFqTi3amagiFLMCdtD6wJ+ReLx9144PzRBhl9yiV9MZz8JhOzHqTV0NfoBX5siZKsuviv0OMBl2G7s58Cx0BpYv4gtaOMV7hNMsyQbp1E4hw+x0wJ+KnquBnwAAAIABn29qR/8ALomArNwheRJ52oSdmfMVrYGZq8XMHBpXgBKANDPm1NlBNB0NDwLVi+sP/rX/okBdSFtyUOjiWetwZKMhwtjO9DBARuEgRy0GkakjT6rXYspsR36SLnh6yN1UsiyUYDhZL/7QKpNGsNhRA3BtkD95nipEq7M8DSmBnwAAAKhBm3RJqEFsmUwIZ//+nhAAIbJTg9RmRXAB/FqrElWRk/lYh7Pu7kDxsSlkx7i43qxKqo0qiTzJqj7be4IMiHn+T8ZPcaVqyuIuyqNWn7Ak8lbwTGeWnUKwkm2HTqJeNJ3k+q6y5b1hC45L7ErOSe5aG5Z7L17FRTkJ1RY82blRPb7N2q5OD8lXQL0jVd6AdFU8MENOR2U5iBetiF42hrDXkh6NPt1wUHAAAACDQZ+SRRUsI/8ACxgZB+mWkTFx3sfAvJPDPOM8/2CS+dVmXtkYCDI/ArDB+AD8TEXCfpiqwSlMaCbxcoLViia5P9EfNngOE70v8Y5bbdxQ7yAZWqfiDiohS5Xa9WWm5U4ZUIaFKMC15jCXBi8luxAMQLqp/e+TnpxCm0Bpw6a1VA3AVMEAAABqAZ+xdEf/ABFb5WcvxdePWOEQ+dZCmgD4ZwHnBYipBsS+7mpPWWXdgW1C+laEl2i1lVfZ94CyDLbivdEK6cZ+aWn4DAQ3apDBQTY76gODdGbvS7lmGx/+W0jVKiGSa9qR+F7V5kmIqRsETAAAAHIBn7NqR/8AEUhZ7dsdESzkGQQbwjA3kKSq7U1o5vXMU1ACVTLGiD0B/Oa6t/6utRI7//B/okUrca4HarnJkXHz31scimS1n2S/V7h6mKxtgiCviyx7zBCXL+5YjVPZgP0vN5UoGvBbcVRX1otF2DozAz4AAADRQZu4SahBbJlMCF///oywACI/3wI3O1RveNLACAAE8ebUP2ex3/kiee08NbUxfr/5PEIk3l3tfNOXGmq65X3kIhuPPizMk+pYvlxw2UcCiqTR73iX0bibgsYm8mEKPIaWJsdDpfDxWShwb7+66GlZcSZVC52g4zddAX75memN7581Xt12ok106ly0ItVXodwY9uqDIaLa4ofGIzQPfeaN4NjxfWD7KFDS0Ui8ynmWLZjH3KieRAHJ7COZdZO79/hH8sL4n8xg70y9BOHC9RcQF+cAAACFQZ/WRRUsI/8ACxGgfTiKTYKjeknu0uiZuNZavk8HA8s74Laqhj9+GgA+/cF0IIhLl39jhTIQ6nnViS0AZNYDHIvnAtjaqSwB5tBq/Mv5kc6RqgBMVZGPP/wcELgJaM0vxNHdZ7T1Jo1PwstvyDUFijqAPy582hpl12PXmsDRn9C0ciAQcAAAAE0Bn/V0R/8AEWBoeq7P+FhG1hck/RtcedPRC2RNqBIAnMT79pc0dP0QGx4L6wf/++AHSIV61VK0R2vPvGbzV8cJXb8e0/5KuLCK2OBnwQAAAHcBn/dqR/8AEVXdsUxsvlTqsgC45Hm44K+z8sweEpDurAATVgTyl9lGjh1CSDqyj3LPvMbg+URI+010/9IgD1svTX1mJ3sMecl4vrdDNvLAvZNtBsxzcrVpHs9y2IL7RI3gD/rBM312q+/anBoGfHJ74OLj7WYCmwAAAKtBm/tJqEFsmUwIZ//+nhAAIN+lNPGJbtrVP7VVARkign7Vz41oHBAAt6KwQGAQGfZcmvR6E7WDE188+MAgW70Ixh611ttIRrwAe7DXUd1k6Bmric0Mil+1JqyiLOHhOrOl3TQrXMYidOaTDeRa+TghILb5QC167O3r8Lb8NZRAQiDkPD+GGUJuRSK/QFz+yBzVIcSMFCTf9mbXbrlQYDc09wqUVGqj8i63izgAAABrQZ4ZRRUsI/8ACsqOPgTiQCkduaXT59Su+TKTislZx0Pekms1rDWGCy01FDAPi/S/ml+qj5T1FS1Mwt294eMsJg/RkcvEGN7VyYgR9+aRu2Jgm2c5OTNhWBOOhu+UX+jiSVKYWzrKhUD+SykAAAB1AZ46akf/ABBZIJxPGWQV37vAAWCGfuderQgM7ecDAj/nhLNwaBPZ7Eoy9XR+eaU2bLld76s5Cyq3StpRHpZpftXqCDEXm8Rjf8boSqen+N/4gMYp4AOaqHXkR4Yfk86xoVvS5asT78+DeIGD0O/QimTYbBnwAAAAtkGaP0moQWyZTAhn//6eEAAN37HmNMpBwtYAjH46MPoCatgUYmbbinNLRRchFuiPB9kHaMuGpMX81KW5xt6JHoyIeURnK73VO/2EkUYywoNtspbIsVaJ1Fgvc6jNJAHSR44/O1P44Agr5WGbiYucdNeCG8Nt4Pw9KcDcDwM9oVywIyLdwGirn5GLAaWEqClZAk+/EiRArpQ00l127ZKJgISkPqFCdyQKNos20uZi9kbsrWmLLQkPAAAAakGeXUUVLCP/AAR2Di0FbK7Hdi98g1IgxS/veTGMLvOE8gsRVxHwGKDGmoLdQAeW4C64lT8hK37MJ2oJSXZHz+SDth8dpT/8fClHsWURP3WdsZ7WT7DMm6FlYu52B6Vsy6J56Vgk0B1AwIEAAABcAZ58dEf/AAcSMfc2eEIgtLyCCenPyvb1CNWGQLmH4yePG0sBeliwwTDX8JgWqALWS1Vwfk7ukLWpoqAIooZk2HdnHytXs3N3fZCyCQ5CzYKTmC0Q1Tr17+LwIOAAAABJAZ5+akf/AAaZMDCtcJFh6lPBTQghNMpLZjyXcO7vJpKcu2u3p4AAQ6yegPjZSIjX6uMBahHieSCdiSL2xq5/dETdQJtNjYCmgAAAAN9BmmNJqEFsmUwIZ//+nhAADO8J0izeQ2FCswcQsMBXBuIAS2I2qPMNmTPVGxFjEkvk9iHPgBJy5iTFZpe+U+Ggq/Q6U1lX3/uEIaTKEpDoejUDJH6hVN+LOUhWiHtDMHjvY9aDm45Ce8upnk8iMN510L4v4XMJr0vc6KmO6VOAwjua/IkFdmvS9dqGU76HchnYtBR1bolqjwo2MseavLZfqgBaI2j/3WRVRnS4dMjkgmriUx2IvHEDhoSI3J/EyY9SaMlcq+U5QN+vIo/gD1F25+j6OS3VCIQfJXwDWsy5AAAAcEGegUUVLCP/AAQWAU6G4jTT/qnwBp515opbIU54AOJ2QblUmlWaom0+XTzc9HgQq9XWRG0lStLdPgym3SaiqfZk8kAbx2DI8bBKSMpyU78sdWakGfU7wklwmp5L3oUmWowZtkXsH39FMLBsQ41wAyoAAABzAZ6gdEf/AAaadQto4qQ69EppolINCmhso4AOL2MwIi3rfwW8ppsu97EBdpAkV0OHZ6QtwUXzI4V2PRYY5pkZNpQJ9bdN568FSfJzfHHTnz8UGOXhYLmkk4Bd5dy9kIveoeMqI9O+/PxzuYb3Z/iLBOCJgQAAAHcBnqJqR/8ABnHls4ZoE+E3SeYBUtQzcMpwpSOEMbDs5LlLTgU3bfSPtbTKNuZMjpotcFE2lP6W6SKxMFj935jVQZf5RtzjexioJyrIaO2B/ASPQKw8S2vOLXUebssqY3upcVy1aRV2IvmOFh9rqk3ljupeGNMETAAAAJRBmqdJqEFsmUwIZ//+nhAADE8J0k9bixDlneKIAWveShBVMrYfnb6IZYKn/QfLe4O9XUb8e7odu3I2knKmVkQMqEoNYQpbL62vk6I7wFf3wvLO0PYUj4VDqdmtGjNozbg/4P/MSJLIbLrYOKdJmIfCU6VeQon2t8VVFffIDfpQmNhGgqiGAMkD2rT9g9V0/rDppRQxAAAAT0GexUUVLCP/AAPiBF6S3Bq4xUaR0NV259bd3HJrEBYRYCcpsXGwnfniAIj21RA9i4xrm3yldtMyjyHcbMjEtPi+sbaRqD8aX7fuIe3UCPkAAAB7AZ7kdEf/AAZHCvWwva9BfvOIjtPDgAsCCjUMTT87cCIC+rxfx2ma4XCSzL9y16or8+bSHZYhgd+Z9JN6+OQoZ5PYF/EtE+tZviKAGgsMZY/uLPcAB8QQioGQCIQFhUmKqaxEipnqy6wiu9IJz1DOxKXTQzN7nGm6WBnxAAAAXwGe5mpH/wACdRBS/YAI4XJMBIArSCjUMdyK+XiVaQYGR29B2ny04lcsYBVEraqsF4bXw0/exgJhEe7uEjIyZL7HgJRf7kVk3SIJm0clsPRCLacL3PRwqbeD5/uwMgEPAAAA5UGa60moQWyZTAhn//6eEAAEtEnzugOAOUCm4R7b3a0z2rGtXMB/0qxO9+EA7GsUu08/7m6uhyVUNSHhcsZLST+CyzAZYJrYhrFLy0AB0997zhiyq1+hHLUfF8WJRm3Cr3+n2fXDfYrKZYFzw5pRlzbumbP5UHFyHqOjXfYHzfejxV5/5UIQbOmpyT+uu53H7A8S8+itLjw7Zwjrhf4+hh7/Os7BtsDG1k5kAJhChrZFNdQyQw426cMGfr+qa0bBN5Jp/WmjE0BjNYDGfn3sbv/81F7l5mG4VrtUZLJGNHAKsffFzcAAAABvQZ8JRRUsI/8AAYgID6Q0WB3Arvyk+1cKr4kQATQQoQTvOnkNLyJpDxlO0P3BGwfzBAeF9jmLG0VdY7KsqS8AlxgNLXVaHVsQiXBtAccxdCLlSnAZ3qdo0LdWWeKFAUGKNYxwVUAQ6ifkzJnnYBWwAAAAVAGfKHRH/wACawddC7rg4dR0G6mABxaKRvl+cKl+/+mhNTrgaFOQSs0C1xWDT+XAkBXojDY84udQ28GF7fPEI95bXeB/0b5Joa42IMcPYHMNSlgz4QAAAFcBnypqR/8AAmuZ1Uc8R9x+ohK75sTfxinFUJttIRyvkbCIAJ26F611d70b+lYqXGNuQpkXp0ge9PKtqfkb9qtm2EbLvn+R1idW60/0tiG5NhzUcptjBEwAAAC6QZsvSahBbJlMCGf//p4QAAS7pttSd5JMUvA5GdAlYAIb5ZfkPXT8TuAmEV9K/1a+A67gQ0tbjmylEHu2ueHtf54aULZNW1zNbzGmlsmPXDLGUOoUGMFh1x+obgCcOrcSZ42KspeTKbqBmVGuBz9mtkzv13V+810HIwi4VQNBvaKfuF9Qvsqnryf4Yo23/sYdXIsffticHyc5u4T05FWq7U+CaY3T8yzoUrqRUXGvFcT9/nDw5cTuUKDgAAAAckGfTUUVLCP/AAGIH7aQLtwWZqbeZYt+raMsYUOsql4cAJq7lUdEOJrRBYQAg7iMT40w0uVUgT1EjgSCQgaLJ1/HcPdRxBHpYXDTdIw0alme8JvJjadUVb5LYkRM81ZgJG3S+awVYNnIXHCxIQx4f1AnYQAAAGoBn2x0R/8AAmq/JBLIjuAfnQ3E0ChTJIfekPaSn9VgZJqgAJbi9MVqvMR3cmGy5jc3x/2cK4Wsl/7wWGNr0igPGBrzyarBgbbrxzZVS4hgQYYsO40wQwsxm3iogK803FM3pmhFbZPHGDPhAAAAYwGfbmpH/wACWxzDqg2UxwAWzCOzoQeXKzk2E3ewqzlVUnQwZVB8kjJtSgZI3CuTEjwjiebze9xkB/LLGSMHcqcmqcI6Bc9EZpxL1vSZmUGac8pUqrfo3zq4cOWR5SwRY2BnwQAAALBBm3NJqEFsmUwIZ//+nhAAAdz2PNfpD/sul/bhVTEoj5OxyBNX6uNU6iP9h4CbtLVImGmjIFMKxNRH1kZUvpqLBrE7iTre+tweEBWpY3WKIP/yRkTgccx1GZzd6tiDlo2hqJF35js+wWTfl1M4MYP1tjgPhfCFv3AR+kbw3dG0oFrBFU02a5T956hRf+gEPLSlQbgB0PFuRzi5B4WqtypKRx7jr9xBYCFAtfydboSHgAAAAIlBn5FFFSwj/wAAmsHh8HnwABsvmgK66tcyoU1giz83+qjdjKpvZPWBWkBMhe40ky+SCTpab5WRNZG3CdQxLTfEbKzT/1fGPuKCWC1idlFj1lbh7UsBuVGpYHkgmaoe8BjV3JzK2GyIpRT36h3pEi8ebaX0B5EXfeFxSxKq0cVm5mFdH2Pcsnwj4AAAAHcBn7B0R/8AAPlJeAHMD3mUucf05bXkMnhW61xUdp2hGYkoGrY4p1NgnHYPQHMnx3aaS892bSv2Xq5hF7B/lg2n0LAcLfhOfSBjzJ+siB1FpM275eQ90VBSgCjR2z4AyEgd6ggN5Y1jKRY5vzoCRL5F2WQ+b3ZDPwAAAFUBn7JqR/8AAOdofBhyPIGtfJXWhdt9PlRPYEJ0rASUdVERdqrow5cEb2R1GGqfpM/2YAFeVyAC8XDTdhjvjeWG9SqNJtw7o2kIZdXUeWQM1Oq7lEKCAAAAuEGbt0moQWyZTAhn//6eEAABxvyOIOm1x6MkMPy/AbAkL/mt504Sz0f5SerJmbbDlh0QcynTOW69XIfiwZY1MX/NphWJZJ0BzprtcPTB1NE8J7R26GDLOOUm4LgNvcqdZBMMf5rE/xOUV4P51YCiHq6D86piDxwAUDKWn4NMquhGDvAifWpgUgeWHoM+w5olJgzBNElkFrIbYCfROUNQVeZOVaSllWGB8z5kwbNPP3wX08dujSooxb8AAAB3QZ/VRRUsI/8AAJKg6v3bE2MeL8+/ixI3IayTFY8NqOR8c0xM0upvYXgoq2L0AOPYbDMpbsgW1tiXaDDk4AnO20vkGeE6GpCbIEHgLeoTWnsK58OvMDQup0XAZ11MQJCK0odPJd+9KR6MarW5Ok6V8pmNAEUAOaEAAABbAZ/0dEf/AADoe9trRfK9o/Cz7huDlRCd1IACWzPoZOvyzlsVBQYQNOQOwGP91inL4ofC0BLviQcwkc4HMs0yCC/6CBlEEKsYs1HLIenkR77nwxn0MN1iABA/wAAAAHkBn/ZqR/8AAOflOCXUZIYxv/l1/5NyWNjPXxZMis6AC3BPzo36atBXtpd1OQxtTU+VMWm0lmyeBuOG8fUXa1pmOhkIY+FZ9g6QjqS8wdRYBYA/+vrc8CV1rZN0L6xBQSC+Ox7kT5b8QTGlc846Z/EsYvZyJ4cfQLKBAAAA00Gb+0moQWyZTAhn//6eEAABu+E6PRM8ZO2hOlWNTIAbsTJlTowOpy5lkxDjDg2znkrjMAZlWVcJSq4NEoCwnaJthl3/AD81dNsYDcZEjrjSoZKpOgBIltxdQShs9KI1obOuAnpyIHaWH/kY+HEWOZy+YXetElv14QuJ0llp21iEcr6oetIM3D5P85Uyn9JfPZrEiqOSBzftiiDKeTpJOU9j5mGbsyJQQG/aKtrlqj/XjCIzkJIWEkcixQKFB5kgCeuS9ss8lFZzvtk+/ZWcMiaKFB0AAAByQZ4ZRRUsI/8AAI6/rtusg2hIM++uRcs68XhjvQ7oDSiWQ2gBWDeLBZr3z8G06AVRZw/Pa71d1stmk3opTUHONrqlwmL8IK9jaPgWBqvkWLK63S2Iz3XJpTIWrG/GbSui3/iDQpQTwWHLHaINcciMQOmAAAAAcQGeOHRH/wAA4kPtkwkxPVpoHlhN+F2gokwEYI2UNjEzAXQY3AbOefo2o2NYGyrAGz8h9CRAHrYtBvrMTjYY7jtc2+dtt09mTatBnv1HhfdDNLEuryb762Laz0r+vo1cExi649Q+mN0XuSWYr62CIDQhAAAAcQGeOmpH/wAAWKVR0LMHJuGZUpSxgAE19dXXzwvXlbyHx08rF/a1n1gg+0S9yjhHU2UK13zHGEi77dvevs1UhVGvAzv4yo+X/GqgYNoHCnGGMoXqL0Q6g8M2m0ikQgdvjcUpY3beZhBLifzCpzQtKgaEAAAA0UGaP0moQWyZTAhn//6eEAAArStNU9dIANzkixWxBmk5NdcEmR/jb6tyDVLsPQftgyB2REfthrr/CJ6sHUmWUU+JaQIGrWLQ5rNY/j2TaYcZtvy2Kpv1xj/kz36s7fSNP2bap7HqpiKm/agqAlswHb9R5EklKXtF7j5AZTQ1fUQ/KLrPn6MtjGo8bbsI7/LAyefO/dLithyc9TLwSscA/mywnJ3lAeIVjd1ZMwDRT/jRA3Ftz1F6e0K0WwfDgDwq5GrOgABmdRrmgmbwS+HF8XNxAAAAWUGeXUUVLCP/AAA3Vf4gGos2pAt8P0QGGfDVhew21U3YzhLTQhQc+3tXFivF8z0AV5rG67D6z6XKqpyMg/n3eOmna1+DVEGRHm6Y1DhAuduB2cOosVPswC7hAAAAYQGefHRH/wAAWKbp7yS5IAIFAPT9aiwQr2/e2NAvghT7/82ABsf9nQg89+zk2E3bk3H6z0eWU1GPQI0PJZaTOEeHYUbAXYJCn+EhvaQQIBEjjHOOUzJG15j7LaKTm8xCCHgAAABZAZ5+akf/AABYyoNE2q8IM9sLGth71CiXVF5jh0hXFKI46fABa5gZjQ4x5ef441lyguqNkcNOkq+Yn7s5QjUb6/U+L+hfpDYaoHZjGCR6XUzhJ+ggx2dIDQgAAACYQZpjSahBbJlMCGf//p4QAACtcy6RZlqfEQ/jxfTWSxdNfPgTwv9b5n2nJik+nY7Kr29nUNXKhebd1kDZSNwjliq3JdfgE9q96nK20rOnjrue0qoCX4nC3QMbxNVIPWrWROpO+kjDL3HL0oCB5aQtrupRrnfLBg3Ftx6R9M/j91wnshpMSAHqvvfDVGBK0V6Q3vuxaXFPbTcAAABjQZ6BRRUsI/8AADdRDwzOfBtLRtRMZwXK0ac7HAAJbBsSeG+x4GBICDt+JlCjOLJHeI8RoSUSyczxvd1tIPZ3+J8je9C5wxKp2QfF4VCviFofmxyaMMDI3GlLDRCA4eJFqBJwAAAAaQGeoHRH/wAAWJ5Sxv6h3vHdx57UJIGjQi5P5fIZ4y7OUAH35OdGRj/FkmcMbtELlhulLZWKfISdikio92/Y0bLBXzYmP2tczj7PMCOg7J2gZmTPpSBo09Nu/W6zj1MuE1AMjBwnPToFNQAAAHQBnqJqR/8AAFiQt+aYDsgzJKv5+ByvJgDOwzVLxPYugEwjuCVECTb/GoWO1VFQbPrrOlJWG4iwLx+VL/9Rs5jZ8xEXYpwiGOvl34tSUKvRAHzPQSwoyE0oMJSbv4RiSvE9mcb3w6vMMRGlFIMmSAqr5oCvgAAAAH1BmqdJqEFsmUwIZ//+nhAAAD+gTJJjxgAHBxFO8u1KDAWqMV/yNEXZjZGgU+0X9BSJrdPsXvC1uHykfEkN5QaSZnsO/OIfroSoR79dc6lcaZRyxf3E7nmzdRsCOwMjPGOq11BV8JdUgNDGODAipwa3zvJfo8i6snGQ/labgQAAAHJBnsVFFSwj/wAAFaCZz5uQvWTjkUZWwxtWkCEBAh66Ll/lQFVgVxceCdhUllconmJ/xRyuxCavSXDY0POLwZIbl4fEUJLYwrgqAk93Ef8H51kN6rL5cs7Q809F5SDrNfH2Op+aoVXNuYW3C0Thq5fiBrUAAABSAZ7kdEf/AAAhq/4tcwgidmxfx60N3pcWTvcNnk6qADgkbhsuRMvlwfbwsqaehtBURhF4N/BgV/6q2C28U3gDFVhtt/XZH7oes5nQVx+9Xk4CqwAAAGUBnuZqR/8AACG+/oJA3z4zrU3vZFHQhyG2nSu5ADL8PzyQMkBvn9K5CDe1HX//TPSJeuz0w3ITcK0SGixYHbMRCke7OIDerb5IWRxSqN959kmzK9Ukh1uHlSso3DXTGgG6fzoFlQAAAORBmutJqEFsmUwIZ//+nhAAAD9fX36s5ADXPKlE/66STQrZWlR307cGkPbh3MuBptF8eDy9+rqXrvNCy6T95EgAVJd9BLjUtDyFj+loz8LRMvV+h3ZglgLTsrYpNESs4GgoxBIKo38ELzyamNrURmy7lM8Q9RrXfNlt17y7m5CeF5afiX0UpthzX6ZXv8OWgstN+HY8gGxtfppQn288xg66Uh2lthKJrhLVnHZNM8V8iywOzHI9tGaosRa7dJHUlGbYGEneDBtEo0cvVaPGHIz1tjDY85QobxM709CvzU2QCJ3Wl4AAAABhQZ8JRRUsI/8AABWgnGJDpbawmPdvF1P0fm39gAcCdqpA8CHgSQu92HJkY3qEfmAoaFrS0TAZcNAGMUMjIQB3FTFvj/45SdaXOQzWp2vI3wdIcHIaUPd6uDYAk2H6/UCtgAAAAFMBnyh0R/8AACGsIJg4CAIxEy1/IK7/DNxzJ4s9ktHgBusIfpq0F2crksKj4Yu7xFXRCX4CI5Y4oTt+8n+296d7QnYv2GX2zLVy5/sM+HgOT14CHwAAAGABnypqR/8AACG+/oJA39D0d9snNq2LQ73wB5Eyp2gATtz3gLYSqbpit5CU/aix1Q7fsVoF3D56wqYjoZPK9rhCjv8BdI+R/BIuoz5nyNXHnShvzEx1dWTCMW5RkLnQIuAAAADBQZsvSahBbJlMCGf//p4QAAA/v9H0L3DFtPucGvW5GIXJeJ1pqvqeV2u0oNYfkGxu7GHv2VKyWLirKbIbe8CMOXMat1Rz6QHAs/evmXMimcl9oNHmC93QwGbT5lOgZQLM6u1QyIDbLa3KMwPmsNPfUirB+ZpJ/9Y/RI9gSzD1KrVNPavoqhxDx5QhYe9U/T2dklNr0o9kGYtfvNcY/SjSTrZpmfylAm+H86j4HE0GTB/p4Cm/hneT8Nrczshg/2ZSbgAAAHdBn01FFSwj/wAAFaCJk7mOkTZwg7EQI9TgTIkhGpxt1U8X2I6mzgCF3Wagx2Y7v+RN3v4CgnJ9TUQ61+b1IvHmNTeQmq02oakVA5f0lPi5EReTMwwSJi3mfWJBN1XvsakwrDjYpu2hfcDCFIGPygX6D5qCWvwBLwAAAGABn2x0R/8AACGr/kJoh9soD1fY3mWdGJ3WmAAJwfGlhHfQWyvQNdRw5tw/hoajMBuSDgTa4547eBUcG8MeApVXBKZjQUrbO9G5AymL3hkrU8+8AMbieiUxMWFG6OLoEXEAAABTAZ9uakf/AAAhvwcTuvPSTeIYVj+hUHmExEhupKaS312QJw8AAEoPJlFjkQCBuO35zSxkrK7u08F33znkES9pFQuTh7rLoxDKqda0P0BPOtCAH+EAAADJQZtzSahBbJlMCGf//p4QAAA+Xsdg/ISC3gq44ouwB/Pg1brtEi8Rw7eCwALzQdd3+Xdfbj4ECDk4froMbsea1XlsGdRUXqz3DUTkYQ6prwbSgdY4XBoEwC+l2/PZ807wxv567ANk9a4YpEQ5H9vWT6wbGH1Kfo6FmGwLMv/BZc5FiKDQMzrUSGNUuqU+0cVD7vP3Okb3h5Qdu2p74icZvCfhNri0wSUHjZ5lF3ofunNclP1Qtr2CdR+/0umyxzHEyolIjEb1HgoOAAAAZEGfkUUVLCP/AAAVoKdkcK/zSHMYxW1Msyc3k064BorMgARfd1uxVvwV4y80EhNNZVkpHxF59fqta6Z4hfkx1Iw6xrZNNJWqRxyACji53Q/YVVJrFdWYqGzE3MkdScs9sbFiB8wAAABTAZ+wdEf/AAAhrH2/sT00NimAKZ0sZvOFnnautR/1Sd1+lHgAG4kweu2zzz/Ql/iA8h9+INcO8OelAOMK7GID4tg1oh7Sx8B8zbKwWWDYqDb6AVMAAABkAZ+yakf/AAAhvx89dh7UhpSAj1SPMvkGRt3GnMhLryUs4A/h1JPWgDhf9/gAcBI/TVoLtHxiGp3X6k0kvHkf9xO15KcP5dyFIm1LvwKWTyl4huEgg3Nj1va4V0kmLuA8dgABgQAAALZBm7dJqEFsmUwIZ//+nhAAABiAN97c7hw6cgBui847WJbDQsSSM1zccQVe+8IuHiu8or7nqMI4W6SWbHxNLOYGohfETrzscCff8c6cwIB5w834B8avzyxpgoHo3eA5o1R8Bpowp6hji0xByLfOHaibVox2VwEw1tVuHHhyMDSNxqyeiYlAhMLB/+amAH0b3fDmyUE3ISXbbpF/ve4H3a3UGAfUN7mXZ1WBPnRV+LRvbgqi4sDKGAAAAGpBn9VFFSwj/wAAFaCgQYeoW7SKnwYagZ7lcQWOblq2sOYgBXA7kJR3IZxrKWZQxtLgAmA624CZMUav2rEk+GjWkmH+CbDGA6jVenz8oLGjY2dSvo82RBvOZ8VYyMTWqSDyl4Ox/eWcQPmBAAAAYAGf9HRH/wAAIaxB3Cx7id5OY3lKrwehd0QdnF6GyO1jkvcigBW+pBUNhIK6q1IVTL/tiw0d6MMg62J4+UJr3LPIayFKcV8xnIK/vCL1VkCGq5b7QXbSM3RdZfK3fkkCLgAAAGQBn/ZqR/8AACG/H0Fqdu+Rx5AZ3OtmEHxVss7eHlTfvpuD0AH857wFsJVcNU0+HXTHjdUX1HcHPt5QHU80W+JOCWjcJ6V5JAL/UBH2kMDuF1OehWKRKlJvoxxOeDYhJjJUhAl5AAAA+kGb+0moQWyZTAhn//6eEAAAGJ4TpDGRIw2IXbOjQWDGKvdJAAXUfcLQEysrivZGNKrcdvUICowF4SpewY5RCOj5CAgEna1Mebua8puj6tLjE5N41V3FFkVSYms33Gt+tMxOLKt91L2MtZLWchMWyD2o/SEuSInmIYa+fb0RYrje0Ben5PwOyQhyjZ8A9qpsFlZJEEmkhnwW/89ge6smPOn06FAYnTBQtREwDho72srZNGxmy3fN0v/6nF7fMYxwbCf/vsH1VskQTq7wRt3SBL6ng/6WjOeQp8Ns6dIwhnmcWy+jW2c2NWu2X4+fAI1m9bpkRYtWZHW+RQ0AAAChQZ4ZRRUsI/8AABWgoEJskN4TgST7T5R3I20HTXYKt3Cp0FiRgBfX5sARgV4yGQBUF9zbJdqkWP/3c9LJChcG+bsWdxcQKAFRMxmuEYAdzMW5i0O7UaV6fpsNDOr4xv6NU8gqQJUo02MN4EH5QX4eZsxAHsqckMGG5C8IKKjqny4P1KFmKTzSFA7YyQYjsf8+OR3atPm3Y8MboCAgPt6nAQ8AAABkAZ44dEf/AAAhrEHeMa6tp3tJ39R4rwzlcmgAWu5144Min0UHCxvIGEqSHQGUuT8OUIzx5Kv5yUoEVObLqWX1sPix8HxNxDAFg5fdE98UBXl+YdZI6wbe3of1YkY3rMbmPwA44QAAAGABnjpqR/8AACG/Hz9uC6pMTj33yjN8CgWuB52WsgO47LyPbysXBR0jxxsbPkUHHj79UzLRJPvKBRKEPz4tFGvJkNHXvsuPnh80NpZad9IlIBvSpeF985ohYODv/ggWA/wAAACuQZo/SahBbJlMCGf//p4QAAAJLaG339tGAAXFqL9gJg+9GI2v4nBXuewcvRLqMwWuZaxVTm88vvEbEgV/3WTofFkqeqj5+n+f2W2/A60yOeApnSbVq0Ddlj6OPIiRSgcrCxH/fZCN80WsF0PmgJjGU102XB5hCWXblNOVUVuzgC5uUzatXThIPTtiMMzikx+vzUPve576NRAuPONbEcpIK21KYhDbIGAukzf/+tLxAAAAdEGeXUUVLCP/AAAVoJ/TzFnhlx8JuoeHewjiSH9YtaL4QCZu/aYupZsAa2hdO5HJ4NxpQtLw4I96OWFR5nO9cJPNu+2hDbGwXJkabziW8kn5eq5s84LiRwHBJrZKYosvC54liSOXvxY1EZ3YjlcXZgr5uYf5AAAAYgGefHRH/wAAIaw+bH8MMH9FOCWw1gATthHZdYfixtFsdCXWmq8a2yyiKB9dv8ZGVdYCwMG0DgzjDGUL1O+Pk/f4DtTb8HCQrHBwhF3REdDy1qaMLmvaPal2kgAVmv2lbBTQAAAAYQGefmpH/wAAIb8dLMAzeBEj7Aj3UlqeWsnQKGW2Q8UsoNvsnpAT7/x8ANqn7SIY3ukGcmwid2Z9Wo0GsGSTtzbSQwgaH4FaM6BpOmmze+mBbCC8alL5876G/YAOC5mwU0AAAACdQZpjSahBbJlMCGf//p4QAAAYnhOknPoTGGuZ3KRarRYADgvZmU4+fQNBFZDS0XKHwx+s9Cqv6S73I45qpjZdXFGuN9zX1R27nRLlab2KEHZfPR25IlwDtZ2kRs4K5A1kL838M/0prqhVnCJI4zks9MIsY1OgMHM9luqpUBluJdqlL/qlSnJQBHq6uvszGuj1ngMbHVIF8l9X3CGDgQAAAH5BnoFFFSwj/wAAFaCf08xXfnhebwSUcJ2MAAM2vNH4xt88yKy42gNPE6AGZtaOmDte+KnaG8eQQe6jUp0iUZIbEjbIvnN2mMCxeS7iEP2w4feFXin9evDB21b9s7Iy5DfcChAGHWzufw44zor2PuAxbrGjAwWMJwAe28PZsm4AAABYAZ6gdEf/AAAhrD5sgFbp820qidQiHKDnfWHekSG07QYSliZ/pbQArfYqRHE7c1sDibmz/QF+9MstWjynSPwrU4j/rZpQoTj117Hp6TmUuMP+d6mISTQIuQAAAFMBnqJqR/8AACG/HSPtmQIDoju8hsAALNb20/Gjg8Du2t+XypN1ooLkCsMuYnmlRKWuzghd7D1bFCzRMRErkVYQaFivSiuBDxlHucnpJutoKt6BFwAAAJRBmqdJqEFsmUwIZ//+nhAAAAkvaJAeLjVvYcoAAVKFo0D8/is8akMGY4fKZFdXdJNThBWjo9OjuawDIjmItkz7neRmWxGKfmoVzF3wNwRTKsyGCXZVTaRoSegnbOC0UgwCLzhthHnlrs1Zds3SKdT2Hdbq3iV1hIEKh6ZSz7KBmrkskxM06/bz9lFf/2TckYkusiVTAAAAVEGexUUVLCP/AAAVoJ/QsyiMwLL7OnSGlKQKCvQqMvO0R5ltQ4o/htjhSkkT/1MAK03gw6YmYh9p4X+wyvmS+jZm6j22PlWCsqU/OH0KFNkYp9QG9QAAAGIBnuR0R/8AACGsPl2UrZxtjnBpkAABLHnwD7Kab0qXodBSd3ui3daX+xGYv0No1fz7TBAy/rSr4VXbGWMzSOJ7IzvZrFrGtgwjKvt3eizzPs5d6fpMgmF7FUxNquoZqDCEPQAAAEABnuZqR/8AACG/HSJZ4yIEtT72JfbzgYHG1KAD5kDDR7SlbZhBmGnqWMcIf45qF+hSYncBzaErrRj5YX7ewEnBAAAAtEGa60moQWyZTAhn//6eEAAACSij2U9No4VYQIAaNYY+xsx6e8KHAjC1t4j50j/WWbxBxGRZ1NO0XNn0qY5ZzVf2goOE+hUantg4dUtQXbNS7DCxts0az6uJPteqXKzg290C4MaVspNmPRypa+qQdj0JAE7M6XBVLLZK4+haaJA3agfvPUaoMiTrJjTxesul/DXAXcRDTq4E+hWG5UeYPmn8mTJgrpuP4c7uQBT5FljvBzcubgAAAFNBnwlFFSwj/wAAFaCf0b8ETc7+6zI/S3rcDaVDIdtB8QJUrj18J9b+6ADbGxy4iQn/Xqm4MHuj35l0CCHb2xWhFcPKgCo9BIa42E4d6MfqnYhswAAAAEQBnyh0R/8AACGsPl6fk9GaV1zNKzPh6aDWgPdDjYubGH/I0AI90Rz27lIZ5oS0b2HfmEDZ4KVNyuQyWevtnlu6WWgU0QAAAFgBnypqR/8AACG/HR7xF9Gg1arcEhedPdH6QAP5kR5BYasnyeJmq2kQwLCPHQr8VuSbawzPbqWFRRoclGP6mXhSd12w9yAvvJCZG4X9ubXEH9vTkfOFIgf4AAAAlkGbL0moQWyZTAhf//6MsAAACUKP1Bj+ftYVVzKpCwiu5Ng5prMbusF5ol8WAFKNLCo/VRSj2/ZEfC+1Ov8NhjrzdUWa29eAXpHPwObtUsWTGNkdjHqmURj9ODQmPDi56D2RGU01NXeRGNhJGB54FIiL3AwDPCZIK2FZ00VGTSbfCUtQxvFX7kFx2+Tblmj3RnOswlKpgAAAAFRBn01FFSwj/wAAFaCf0aZsKaaC+uAqNYLmXhpvynOz3GE/37ACqooWKPWcA0B18nM9GuQbchzZRzbBDlaPvRSFBnkqm9tY2Zyoinkw9Fb4mZbqBN0AAABUAZ9sdEf/AAAhrD5dlK++N5UcDNQrJb7m4reuj8YC3xo/TX3gAJuedKbHwfh5LmPM/zEKjure3kj7/+BSmT0h+jlk1/JVDBsTR403DH747gSdNgppAAAAUQGfbmpH/wAAIb8dIjXIhMJrvVxPBHnuYs7dU9VKa1g88k4CeYkhACIOhethj+nQVeI1r0Hke/l96KaNb9htVq2Sqy3rmk6bJM+xJ6EglYDPgQAAAI1Bm3NJqEFsmUwIX//+jLAAAAlP9wGN2X6JLUsdirwf1A9dw8Tk8gxO12B7rB11Q82RpE7XUNnyPBtgfqfYgdgV62DDKa6giU96FntH9A+PDNAi9Si/HdqCj7vHbAmxbB6Xo2bn7r997c4pm3/zA8SPR6ju6A5SU14E8Rcoy214uEScq4Bx08/y4GRwv+AAAABkQZ+RRRUsI/8AABWgn9HPaNFAT0sIEq8IN0Pt0KKRC1LyOQ7N7rbRm4t2DuVQIbOlLWKMXGdrSYoXS96DOb+LbVy92fPoiqnxhtlkgrVcth2MhaMdNrsk60HluA6xdN2DsIyI+AAAAFYBn7B0R/8AACGsPl2/EcABVLV0MHsY4V0oSrVQD4ui6NiYN2ex5YdXuVz3usK/TL4al7wyGh0LmjTPiftcSe+J0FwrY9+3FvrnVwoOsAAABl5SYq0CywAAAE0Bn7JqR/8AACG/HSMY9bnn3ViA2XUDYB2oCGZJiOCp6KmCFI9YXRa6Jtx1AABsFoxc2qsWJ5JyDfw7VCLVWPOCTi5O1Ijd9Td59uPhqQAAAL1Bm7VJqEFsmUwUTDP//p4QAAAJN03LL1fpqRit3DwVqxByu1noBZvly2ZP/fkvBlhFlM8OAHpnrewX+UW2qvsfdPCJv6x8pJAlkGs+df9A+3oKIXv6npMgjTb1h+DXLLGf2WcomlHZzyHMzelQmILy2iYp+22ushKnUNjyA9HseTY0WpY9+ZMF6vO+SjFOhGM5dqZ9OmVMPcZq//2A6Z1jDioixwsqZcloosQAEsgnZQrGyaM30d6miST+5oQAAABFAZ/Uakf/AAAhx8eXd8uAv2KmcjL0FDKLTTYACZM9w9mJBJSUqCd5gqS1kDsVMfUVVwzBrtks4hwyaesBUogtbuz+YFBBAAAA30Gb2UnhClJlMCGf/p4QAAAJN03LL1XCEf7ZFAH9QAfuJdmMiqFek5TnmU1eGJdxFmpebqQvPhLLXlWUKD412Dz9tV1TOMHRLBa3WYGAwg4ZLKqrgjKChYhvoVdwVahcpQ7RMdQ+RLtJYvWe0J1aly8Z7v7ztNY9TwqBCwkti5TDFXYn6b1k/loG74vLAtFyfoy4qZhV/Q66543/p+e/4D7ci0U9YOM9V5cHGrodjruGpeTmtGbjlQR0MeH2xGAfn8bajSXZZGNmOx8zC9OgCJKPzDN9XlWvbDNhLKj6PmAAAABbQZ/3RTRMI/8AABWepuFmgNvMQyiEGwgs3S3fXME/Uw/cXbonV0ucAAbt6GKvOGIn+LgTx5Gq19uvlOCuzUws/jWOvebon6HTMGpKxTkoc34sCaSF+2+JZfMCkwAAADcBnhZ0R/8AACGsPlyNdj60RiINVCq2qW1Qg++qL7HWddSJm4gADZ6wCOs5PnqNAiH+SFAHVgddAAAAXgGeGGpH/wAAIb8dEfE7VIhZw+gAAzDhoeToG63CMeDkfSK+dSh0UsQ4kIgo+1vSMgMfKEXZOhIZo5O9NDohi5aPbxkeA9I6lHEedt8FARq0zzHA4ur2p9tut9+rAu4AAAD6QZodSahBaJlMCGf//p4QAAADA43CWtDkRs0rTi4GsBEXpNCviIcCrkAFh35MjixYNP4U12xcHiF06dIESY0uZNyU0uMhYrtuA/N3PGtPd+O+n4TNhfdnmKAx/lTt9ki3YQ37Rn/BnMs45/ruQTvIUGSp2zhFcT+xyNx/niAvjolPfjy3E5UuNO1+bOPRvXQ92P60pjPZUtJu54kshIjNgsy2kuZGp/j6g2XKijE5ODY1W8Ma/cMQMIOTk6YVM6zXb/f3vSZQja5R6D0leVaMvVJjeNcpynqsV/WqYr9f6LzcuFTn8nshAHU+x0N0UGtzkq2B1q5O058JlwAAAHlBnjtFESwj/wAAFaCfzh1Sutu3RL/Z9VHokvyFR7sYy1AEAQSpEDcBCS70RAowTaagUPOgMctYl3G0FXV8b5q7fHZz3uOcSsVf5d/wluAcstafUiKFABswCMaZtMSOxOasKaj8AOYAjTyaUa5h7hlFPiI86H58wGLAAAAAZwGeWnRH/wAAIaw+P1KDbhRELQAfiEQwNX6EUYUD/2C0F8qXsBU7Psfx8mTVysAljh9LhOqRl4eBbHQzrpzKCo5aA4/b1pYwm6wRweF4xmBF4ZGjKYoOrsAbS7caea53laD+ObxfiPkAAABmAZ5cakf/AAAhvx0R8Txf8GhNZZDVXEPHin+AAimSBpiS62nh258yXEpuw4M/TL4al7LKiAjjxlPdC8HbzbGUm9/v+qZTqxUTw/XG3C/yfs3FwyNc3GiD1oMWC1HkI4Hi7H292CXhAAAAxUGaQUmoQWyZTAhn//6eEAAAAwOInFrCH2zGY9T8cTnnUY/JLgmIItgBV7lD5xI5y/9j39VROC2/NzdTZyij2Q7+EOvD+faGMCqpjSECl+VWdELwJmWQ3ZFALChwcgVe5dxCrQ+/7dQPRPGI4r+iu31xs39zwN6kPQp+3XpLG8BeyPDbvRPT9ilto7oHCDmVq47ZxTsGAWg16olfje4eScIyK4BD7eGmfPCn3J8t2l7Js3qaV2/w2IZt/u6lOt7ZTosZtNm4AAAAXkGef0UVLCP/AAAVoJ/OHVME5OGKRE04S9ZZNGDxYJ+RT5HH7aFf6v1MlKEGSbABOnjhgM2fEB7DzQrEqWgVgz6d4OUjeobwNRyHvsg7CdvqJx/YcnE4Bm/OvOKEO6AAAABWAZ6edEf/AAAhrD4/UnoVcHtzzeXUH7UgWdkV+xyyRgqnQTWkxqEAcb8f/jvTmPdH6MEEpEpqGHvMph22FtPxtIaYZDEh0hf3yyzQbkVWFP8oVc7EglcAAAA8AZ6Aakf/AAAhvx0R8UHfCweMq8q5HSfV1S0OQPdKv88ABLZ5rXSTvYAWtBiYUwXNkyrk8T5gNlpXoDAgAAABAkGahUmoQWyZTAhn//6eEAAAAwOIgeGacy68T0k0QVfGt6n80tbnAyKXH1u9AySWQBwyoVSmKXL9EIkfThJ9R+bP2EmeLg/BVvhZfxpGsms8zygnNDPZlBgPhlJZbjxidKszzfA/wox0c3TII1ud6Y6bD25rxh99PQIhtA7Nu3WB7Q8GVH+i2WDkuXlnvdbbxiSGJPu+98osCU/lQeTISD98aDZArWbkLj0E44/pRgWsfrm/4T4tQ8Fq/4n4XDfRqQcUZeKjQbhDd9KOSVlEAWvimMOlJvgFjUronn8hgQ/OczgztZAfRleieq/dxYylYvBS1b1u8Y6OgRo2fKAwy9WUEQAAAHFBnqNFFSwj/wAAFaCfzh1TByEvwaFMNM4AvsNAL+7OKSHI5gn5V40TvmCbYUDVJgtop8xp45CrZtUKeBkArpYJAgIPeIdXUAHFE4yF1hnXy6QaSxMNFP/i2WZYg4SEpSdG0BFROsU9B3QBomP7+rDggAAAAD4BnsJ0R/8AACGsPj9ShKidDx7D8ZnGfoQr73BVv2FHQN11MWQbi2+//dsAEvMY8l9EoZJqv7H8PxD8GX4B0wAAAEEBnsRqR/8AACG/HRHxO46DVUoJSTiEKpeasgwa5w34kV9eIQ5LOxOK2U/YiVbqVvmiDYHHv3SgAOs4ahkDXhB9wQAAANxBmslJqEFsmUwIZ//+nhAAAAMBWLPqDD1SvYwCZKdACPXxIstSs3Jk7H3hln6+7gWY7OTjPyEwOnGKBTvMse+eTCmxdjM4mHu/Tqel2hFSbdBXx+b0GmCHrv9GD7PE3B7beRBXp4vE2YlH5cyoiM1Ipj7AYbC1+HexnWH/wNsBD47QJx33lcLTa1KU7Ejh7VKfrs58ZzQPwcnLLtWfsYhrBW1ILu+xReRSFIJLvfQZg+ymqff/BHYIwaTvNS9pXuuzbln93FbIk2X2E8rCb9RjX3jwNJmQSO7X3ZtTAAAAlEGe50UVLCP/AAAVoJ/OHVMHOAKdDNgcoDGfqsb/jogCjxivW2SBUZC3Z9CywunzU1IO6ooDnn08YuRv/evN8lOLVKYfEe1PaBMc1b5zmNbXAR1nvLw2FjIDMHLLLkEo0nKdyTIwrBKcOH66OXuTpw8L0GNLg45acSvtdsew3ZDKYN6B/IMvN2G+kTZ4ozwVfevfwUkAAAB6AZ8GdEf/AAAhrD4/Ulp8zTipIZRnP5JUJAFrL0OBrDFjk/9ifMfh4YB1hzAGBeLhQqqI7nBNwd0w4jKCV1afDlTzHStdMpJ/xjrQq4j0wsLPzg5y1ZrvF5BSO7ZMMXcisOgq1JBFRpNVcOrbcA+RpUXcWfMWZ5G4A1IAAABCAZ8Iakf/AAAhvx0R8Sz/QEQ8RT48V1WlArt1qzErcOpn682ADyAgDlATJTbphiSsrTJdnCbgxXueb93jRQwhYD0gAAAAyEGbDUmoQWyZTAhn//6eEAAAAwNjwnSTyiwBUyF3t2jHfsqeSNYJOvxypTiPOU1VmUSMAFon28ghkR+wYmHUHXGjAmeNupi2ZrH0nBSgT6j1i6db3zGhnHCYcX62IUAzA8VGywOn4R1LyjxLTdnVru3vXA5nPNFRnmo3tuEoh4P1xglPgfxMDk3VnScb29aylhqkxKhvrFHeuboMiJ2DTriLWhCHQeqp3Gqy7TrDTvcj3TaMjBwSmUL7p8rNAMRsaNpxD9AOkYC5AAAAgkGfK0UVLCP/AAAVoJ/OHVMHOEOSSrEoSh7/MKC+LZtt5OqQAeuTaFOJgxiLQM2yFduvO/ktJcSjIg//PQfbDKJPjoec+wKa+uMVpl+XA2vv3HKjbM5vQhtH6qRJDDHxD4gfUkttiCQcnOXkqb5Gk5Boi6rd/lzYVQRsUglcer+MDjgAAABZAZ9KdEf/AAAhrD4/UfgLTzXpPH1W4UyCyuylNBexX683S8KgBqxx71+kYFVyb9NWfiv0HJYU550XhEEYurEVr1P4ou5jx91OVOJHg/d174iRG2MkvCldgdMAAABJAZ9Makf/AAAhvx0R8PwWhgDsMp7bfQKMd6kvhgA4B9eMqpaPJZn8VBxRRxI90HGsnOU4xnlbZHyFz3PvqtormAZIpUAEwfsBlQAAALtBm1FJqEFsmUwIZ//+nhAAAAMBWPF1caeAOWpToLh5ml98ncB/gL/sKg87IscM+/yNXXL+GNCKrNcLwHB+Yo/XhvhwmG2JfVumDHfgnLOBdl20lvvhx7yc4QAYf+6l1XDP0vJ3aITF9sOINdI6mwIYdTu6GU1T86WPgczJLdD2Kj9o1yRLc/L9pYY1EmngrZ4w9ETiHWFsx024X1oyH/YnnAHInO/faYEmxqpJBEqAdupfFWfNhKruLWDBAAAAUkGfb0UVLCP/AAAVoJ/OHVAzSUSevYGh5VIlzlKywAjYHLIbUduHkhnsoIr8dnN2Z36C1hPzjqvdznlJ9swqE/QnVQ6xa18dmnAij1TNmo+rEfEAAABXAZ+OdEf/AAAhrD4/UfgMwfim6qAAlN+VkSClOdygVky5u1k/rqd9HiUD0Ug0t+Y+o3DO37pAgoBSuZpnZEjMQRjDxsfUGL1JJRK7VF4giYfwARNJiAIeAAAASAGfkGpH/wAAIb8dEfD7jzwUseOxFHgvYzOw0/zRxIZCXvAAODP86N+mrEFqdqXWM3ZKAwoTvZrPkFP2V7Rxf0J71YnVjABWwAAAAORBm5VJqEFsmUwIZ//+nhAAAAMBWPDkbkK9VBwhgyJIVEwzEABxiO/NkSZ0RTMk6w/n3KHXmIQHuFs0k2OMe0vMrSj6dJrlu28AROr6K1FpbICpwVJB8VbkYbpmNOdp9tpOXlo1ObdF7rdFtI8fEt71jaISJWLoPvPnalYD3L+N/Yz5PvfO5xU1fInZ1yjBQKDszSWuauHdjBaUwnoKu6x28mNnFx8u+J82NgoZ9Kx1FDPRWWoFL8r5Eoagt9t9Sg7JWiHgNbIl1zmcT8veuvHNU0L789qDY6VZMbJTYCfrEO942JkAAABaQZ+zRRUsI/8AABWgn84dUDRdOmyt0kOCbvUYEEM4aAEttvv+vGSlf5v61R7zo9bTlWGbMPliFqSXDQvI63EkHPWJtxPsOmStRNmCl/QJe4lVUCZRGtufqxBwAAAATgGf0nRH/wAAIaw+P1H4EHkgBIWz1xKc1wSby2BZxQAwL9WxtEJOFds1x7nQeXx8FA6j6AK/R/dY3U92YJb57tzk6kEx/P+2oq6C/JQI+AAAAFkBn9RqR/8AACG/HRHw/AuGgAK1jbcFaAqW0Bk11xFU09pLJRLsw4B57UIl2RuYKsANMKYHfvtYRbSnhFkUWhGXitrjtQ2gZzGCF6fxuRZZToPp4b+Sm9AW0QAAAO5Bm9lJqEFsmUwIZ//+nhAAAAMBWLPuHpACCr4OXBrvDzUW3tAOqJhxH/fQN++ElBN6sGeEF5RKA0ESdDNg+tSZd3eYGTmCQUJcXfE04HQwXJPXs3DTRbPUqU3jbMLEaia8ffhp8ZPnQaR8GfwLLpAu63I4XSQ9u+SCF+cE9J52tgdqcWXbMFD+ScdzarWgT5ep7IJHdmCYheAEflGLnPWvlgB40I4HQprYz+IBIr1HBCqd3OhjUaRQ3gN0UoqqrfGU+o1ypbaiOZaftsKn/onuzGDt8WrFnny5FqG9RQ6GI8rU51ovSKZAQrhsYWpAAAAAbUGf90UVLCP/AAAVoJ/OHVA0xywCAFrHEUfXxN0kpDKoNNmF6ssM+vpjAekog/Sj440xShzv1OK4irHZlcYmK3QhQRr+XMhIfrH+aNkYPLqBz1Dma28GouSiYy5QbA7KIt7TRX6PTkbVenjMCLkAAABYAZ4WdEf/AAAhrD4/Uff8h0ABsreri6sqvZB7HnAd8qzZeQIzhwBsyRfhHC1uBowkoQfuderQgM7ecDAj/nhoQYZ+U1z7dbVlFoWCpWXdUxzCc72n+2CbgQAAAFQBnhhqR/8AACG/HRHw/AeDO75fBcAAunjvz+tZCP8XsgrSQtCUWyDkqWF4SDlOaBIS3qvA2tcuVkydFflUt52CVbkFV8hdkS6EUEALvAVIvVRAUEAAAADqQZodSahBbJlMCGf//p4QAAADAVjhMy99kwg3N5ArseHNH80gQZ9T9XQi9LPS3XgTykIrp8JUrTaDMkm+JKadziW29q3pn2xVcDSzqRtB6unRD5zIFu2pcpAh/YDEP7vkrgcdfnWjEcxiiAlI3cL1lOOOAJ9V+vujtjKT8JUtCdSeSuOciAB2BUf/X1x1yOblcRno8ZrNv1rr1qqkgFEeAFf+iOpObcqMyQFp0UVMZmy+Q5UL6ozuPMr0xxZf+TQEZX7KXWJUDPyNt/qVTX3HOz1/fCl7ANnHxyWfKMeDWd2706Y3LkVaruyhAAAAS0GeO0UVLCP/AAAVoJ/OHVA0XqYzzYmrG55hebjr0DjG67oiIbZFRAEYrPAEc6otvjAdLgkwimQkljQjswJR/eZa20AsKBcTIVAwIAAAAGEBnlp0R/8AACGsPj9R9BPsiQOAKSW1J1Nv4PSsxhTTPjeLsu6tO0hq22pQvNpugIOTPZwFLwFOdXL/Mp7GTgNJQDjdjUVJwgVoSkZNqR6vWAJwSE25fUlsMZlQU1gOwAM/AAAASAGeXGpH/wAAIb8dEfD8K0vWivNfmG1jEVaTEqbRHaKAAXefCiIkJ9gynt5fwjWpRXgHqGjcF2xrzVFdiuUPDLBcV+BwPmAHHQAAAOBBmkFJqEFsmUwIZ//+nhAAAAMBWQYdQq0gEzxxOXln6PYi9ToOvEDKFeZabIZbAn5sgER9M495vhxYGKiaE184TsSlm5+n8FIAYwLH9v3IDumHCYIRS6Bqmw330h9JNKJ3kiQWjj0IZcnBkP3P/71BzxMbnnd3f7iaEVjI/81m/wHz1MK5NaVKrhpI2g+lB9oME8XlfQxxEX5mkreblTlmhGGE8PNXc+pk3o5GcPODAXkXsvhoxBuHCrfymriaU9hUXH/oR5SyMr9L4Lt2N0/B+3KTqkLqrthV/XdqP4q1IAAAAEtBnn9FFSwj/wAAFaCfzh1QK9ibwl9tHf1eST4JyAJjwbOcP3BaTouu3TIbVVzSm3skaxTneqnHsxASk8m6oAL7s2M2Fn0l1MygBNwAAAAyAZ6edEf/AAAhrD4/UfgwkYjg3YxnfY29Zf39ehzwA5PX/8NBaN16f65sFANOo3xgs4EAAABOAZ6Aakf/AAAhvx0R8PoISwJxQkoQNQAVHyUzRbjS0Kh0e1Ld2WkNn3srWO3T2PyejOnkOqc+ibfsyzaQp18P27SXA7Ozc6KrmY5sIFlAAAAAl0GahUmoQWyZTAhn//6eEAAAAwFa/o+nSYS31uIkh9H3rkSKyzBLi8I1zH2qcvciN/H1rzZxZV1zmOQ2P3TbxxtXRYLffEMLgljBTTgaSp+0Zrl95NiCiWZ8SNTpazdf2+IYMpKJlwro5nQGdK+hRqPW5Va/XMSJX0DLgDd/K+e7oc8SZfTq7STwUByjchiu5dL9htdU3+EAAABFQZ6jRRUsI/8AABWgn84dUC+wkzHgEykMr4qh+fNVjoxZfY2y+6REmwc3j9JUTD0su4XLKmGI8YLeoEBH2GSSAeJvoQ2YAAAAQgGewnRH/wAAIaw+P1H18VHLmv7Ig26oACa3wua8MAHGwjs6EHlys5NhN3sq6TEwJI0+6pbGPs65yyG49iFLa8cE3QAAAEYBnsRqR/8AACG/HRHw/AmDazT/jFyZSJnK0vfdr3YAAcYQhqMv9JP3pJNVN7rQCdmD+dWjhGzthYyDD//IYmJjItDNgK2BAAAAzEGayUmoQWyZTAhn//6eEAAAAwB+qFqibIFRSADWna+PCGoL6qxRfCQAdiqYaaUaJocnR+2CCqHqDvoyojpYA/h+nBn3Q1NLtnK3XEZU3JhFOhGLMYGmNZzE9wtwa9rcbRGyfJ+mjZz5Y9sY4CqkgAq6ht2HTo+DcFGfzqtqOOJTJnVWMJA4EaKsw9hL7LvWLGtpgdS0v9uJq5pExbIW/lvlue9Q62L8o8t3Ok7SvA2H7tqgq3Wq6xK0QJ1LuJJ/MITJ335/2+6q72NdlQAAAGRBnudFFSwj/wAAFaCfzh1QNJxlZVkIiW2Nnz2y+T7gA5wuR0LcoEve+wqSZDeMJ8WsOp8WCoGhQ3oeA3db/r8t8xVsWQ9Tc3XoBsEgS3p688xXCU+RNb7BoaAchBc5TdQfOBvRAAAAPgGfBnRH/wAAIaw+P1H0DMSkhuKqAdRbLrkO+B7MAIzzH1ygPhLnM5xp3xGjR3VvX2jucOoY+M18uM+uzAFJAAAAYAGfCGpH/wAAIb8dEfD8GwOcl+VPd2TjuTnBoABxhCEIm7uSyof2s2pgUSsTKtdF+0X/yq85wXGTHjVQExHNe4Lli6yUOBknnzM14/Ja9rMgSl0JeqWTxiSVcybHCKCdgAAAAMdBmw1JqEFsmUwIZ//+nhAAAAMBWuZdKu6MlIMOpGJOzdOQsG4UZ4e8/TnmpACKS4q9MPlMKBw/5auGfWo5eRRGAAHLyuosCbb+3lGIan7v5M+WVBHZEODD6EiEMx8+RRWJ4q/YlDVR368z/iq6ztUfaX86KnSMCpz1BJpfe7NXpWuZredHqd/A2I85ZGHuSoq7vLgXHcn1DzL23i1FJV2z43Y0ETHl/uLf/X7Rda3EnfBLm90T4OpZLotrmwi05cHXHUND8FKTAAAAUUGfK0UVLCP/AAAVoJ/OHVA0EQ0p2SzXJLrU2pUYjb/ccIAWhLopvSI1/PgMBIGIheKI5JneiPeSAfJd7nGIyIfzySyZVI7VybXgnFZ//chdwAAAAE0Bn0p0R/8AACGsPj9R+A4V0oTDaQCXMqacPh4H6YIkWAEzdxULuoAW1qDfV/Hjnj61W1veyeyaaDygk45cQbjsTG9+GeggLci1V5CbgAAAACkBn0xqR/8AACG/HRHw9xtq+YFiBucgLsdr2dibwiKT4W5lDyNZxesDpwAAAMVBm1FJqEFsmUwIZ//+nhAAAAMAf1PmAfENTke1JTNYLKI/NoAETi9HpK/jAJVQMVEDl6uGaNA4bQ80UeSiW6pwJOxjWXYNtmm3IlVS+zOk7Gj2pOzKQlPt3u/BnV3hpv0IBi6z1OTQHYSrwpORBc2VCgA9ByXOFvaBdJvGxz/tRnKT11+pNWtwjryfvlGxiii4wXFGp5JnL6hg0bE23GqIJmCcMJyxvvkNezJnvg+tSFqRwdvY5CvZvU6yu4lKKUXYHwN72wAAAD9Bn29FFSwj/wAAFaCfzh1QB+Y9A4OGTOrWKuuQYxoR106mZyKBQe82n8CgWwJq/T61ABs9FN3rUgNSqt+YD0kAAABFAZ+OdEf/AAAhrD4/Ue4MzOF6OcZYH5nML251T6fHPnFsQ6v//7DgAEN0IPL4al6K4kZJiVD0hHnmojZbx/qYMxxOtw6YAAAAOAGfkGpH/wAAIb8dEfD3G2r0gJMsqBOR4W1F+AEZExB1kS+3Zx5KtUt5ZUcBflGlblWjYFR8APSAAAAAxEGblUmoQWyZTAhn//6eEAAAAwB/QND0gQAN0b6S/Q0QPwPPQ1q5H93bPOtD8Qm0PGi8XC6j6fpd7vWTgtxZpj+GxVGps1UBKq+rmDXvaQPmEo8ECVsW2qgHEvKRbbCe30dscU/eNUze6hy7Zj5Xf8tKZ1J6IBr10whVdYdzqAuzttnCZ57/A98O29FLHetcsWBxzR2CUGrIfwpDe0hUCu/ov4tORaKUmyLTHEssmhht/c1dBLdzcx4XcZxAJ/BMZNto7oEAAABUQZ+zRRUsI/8AABWgn84dUAfmPNpI1mh3OTwU1nYJPfF6HREqwDwAfukCeUPqSYIrIy8nqy8emFTc2RplJO3yXD1FLhGmj6wOmaKnF5UUYHdmqBgQAAAANgGf0nRH/wAAIaw+P1HuDM1KtZL0BUd5OItkABMtbEA61Uts0mjA1pMfN/fKDdrw9V4RBABZQAAAADgBn9RqR/8AACG/HRHw9xt+o3NCyiAW3sdqwIROiHOKZruHwAg5I8uOSmqaraHLZBPnwjNQdX4dMQAAAMNBm9lJqEFsmUwIZ//+nhAAAAMAfsqOY9ACo/VqzrwN/epe7BYSMUfNUNDh9PwaeCrM67VRnSl/m23V5xathavIAostLZNc5dj+NNQrawssvuxQdXatulv0Ng8gC0kloRfKfNqfKiafAzvSfsN0dRO7x05qq019WC4KUav6mVm3vNIQuO9n47lHAngQ/Blnhmr4uIdjhJq9iBYY0ti39gOr0Oy0ejyxdF1pQEjRwX/BkLyKrnGKb81xviLXzIH6wBL9LLgAAABNQZ/3RRUsI/8AABWgn84dUAfmPNpOd1QQY6Z0Ly9sBr2k0XHYx+jgAhMDHLWJd1OIwOtx6OqFIuDGpGcnBXb1UCaHVtdw+fbUVgH1YRsAAABCAZ4WdEf/AAAhrD4/Ue4MzUFjeimc8Ids5NTrb8DHYABJ+Eld4jPn6w/m3qc/rydzjysBkBLx5xmLEZ0Rtl7NkBbRAAAASgGeGGpH/wAAIb8dEfD3G35MIFBYbdCqsYgJWABW7nEjATFK8xqqu5cWyJOfMiWeU544r9X7wWHwnC4GrYyJ7elPYXwkcoUG4A7oAAAAwUGaHUmoQWyZTAhn//6eEAAAAwB+yoJpUAI5jG+ekv7S65BwGcblwfQrVH+8ZRQU3RZQk3A0Kb/eyYiSxn1rOkatDmXr9y124XTtCWDo6kwkoP2+XuUoQYYLnYxvFyUtg6Cp3xDuCQZYJKWWTgtWsFgj6q7Th8qhF4YCPFmgIg5oottyrcFVwzMjYXIYDJ1EVT5XtA9npSUua1asEJvEv6mU/9E6M/lityudLHZFEbNhhqmMHrCQdlal0XteTE4JZcEAAABFQZ47RRUsI/8AABWgn84dUAfmPIJNHJygIIUABOcVDSrgX9VGf5wUNGjQpgMFz4BnIfMQ2kERAoUKC+rUnY2KldP/GDlgAAAAMgGeWnRH/wAAIaw+P1HuDM1mb0xcYMnEnKDjA6vOAB+vHZaTgTqW8xG7DTVwh9+AAHpBAAAAPwGeXGpH/wAAIb8dEfD3G36BWxoCDQNUubzgIAC0FWW1D888j1yJJbASIJ6g1pMpNzVfiHfoMmv6p+eqjQCkgQAAANJBmkFJqEFsmUwIZ//+nhAAAAMAgpGBwARB600wDRgfw0/hHYDzmQPG5oex2KIZqDnpYC93rA2UNQalhaz+8+pgKrWFwxZmuCskko8loKivfHsp0C7XyLNpzo7EekeZN8xlQAEj6mnB8Vy3UMXW20A26+SsO0Pg3bWK4Pil+g9eKtcC1wHq/hNliHN20R6u/uy/1Rw8zS1/8KsIc0g5ElirE2F/XoQBZGxv22h+LQpcFoGwpKDKt5x7OfPBZxaGlhxZinGJiAJA/kmyYAk/tjdWHpAAAABqQZ5/RRUsI/8AABWgn84dUCc4oymh1soMi+A2SHQOuJHTQOP6DaabarAL3MAIP6SIHsXGNc2+xZw+XzDDIIpPPAj8Vj3iuBVhK7ohB/veTyBOS48FybY3rxaC5GPzoGPKzyCPYmGJwvVhZQAAAEYBnp50R/8AACGsPj9R9g3ZA+AUpCPKQ4ry/408SjHsCRT9hTWM4IAP5iFfONw6EN7ul9WpwBQnNhPpGmRkT4rWF8pSig9JAAAASgGegGpH/wAAIb8dEfD7HAZDS0yfsM30Ul3riuRNYcWCgVXYfpgyIAEQbgoPXpeTZqoklFdWXQHnI93dW+/zyW7Uz7r0Gdhe/QP8AAAA6EGahUmoQWyZTAhn//6eEAAAAwCDfFavaxG8AVeAtYzG9uJCrUAvWp3ohZjBnxD2DU+IPDyFTXeziI0Gafm5Vgnal057M1FAcfd6wELhW3YEtz2ZdBpc7AAhM8pC0tDzyvAf/SfXBfIUGM7/z3dYMfROWwh8Y7486mkI0Q3L2lJRGI4dVy6bEdXfyRaL48Zaj6M8l1gnyO2zH3qsVtB596TiT8WJsScocWDKlMRaEnGL1NeM/WBG+bRQZW877hPJPGOX+lr37y6msNl+e2NgK9LHOh975g4r0ZbvUatoqxjauCW9sfLnx00AAABeQZ6jRRUsI/8AABWgn84dUCvngvdPvfAAsOKHN6OxrCC9cTbY4ANz9NzwTz0GtCAi3M/0F7ZC7kr3IT6rOEtIww4Be2y+sE72hMY+Q/8cSFUV/qyEZ1vb+v+w3rmBbQAAAF4BnsJ0R/8AACGsPj9R9g3ZBLUV4wwAsENB5fDUvZZUQBOPla/Wimj46h4cppmREyWiwqxdhOTqip8J0OUdfXzn10helyrJbXdfZX72W+a8sAf4wkJBxBoliyq4ID5hAAAASgGexGpH/wAAIb8dEfD7HAZDY1PrAAauEdpEMbzmDtfrnN+/JxLD/Ry3hI3+h9R4WVe65ehQr+V52T60mEtrPfw2THwk6tl6JAfNAAAAnUGayUmoQWyZTAhn//6eEAAAAwB+yoFEHSfrg9wAArw1V2KJDYY5l1fOCxHP1bucY9R2GHduxqyQwMlACXvYDhGcHo43ogItEzGWbqiW6AyIktIUXyF53Ir18Xns53YlKJTSbd+SA4YUZQFBgjEvfh7SnwXxD20tq9zAFQuZD4XmiVglJFiWO4nyB3R+N1GiBclJ9voGZeBlo8EnfWEAAAA7QZ7nRRUsI/8AABWgn84dUCvngvcpxk3KNR3WwJIzSH+9UiNa3AhaNgAc3Zm2B/3RIOFIVsQo5v/qxlUAAABFAZ8GdEf/AAAhrD4/UfYN2QQnXJdZqvbFf5COF438mKgKdzzmxiBQAANh68nzHx7ZHArjaC+G9dfmlnlkMhfWnXoYAELAAAAARAGfCGpH/wAAIb8dEfD7HAZDN2xdylyT/fzOyjdAB+wlI356/yqFvvhjY8rGdk86j+L9relUZ8Syyh1+hdRiC4iAAAtoAAAAwUGbDUmoQWyZTAhn//6eEAAAAwB/eE51pNhcjRlklIgCtMD/i1B0K3f8vzOWl0+2muMacS0pe6zmmpq8KvgYFDVdyLZUCKDzPRdSdam3bjYK+8ewtMr7caxRI8l5Ag/StqhNWr6WlCSvkZQxfHwlLGFJQ6GXN7LIIbp9r/OO+iDTfOsPspvkQTO7hI4j8zdLwabOlsQfM7+ux+te9dNT/p/j6XeYCm5XC4euCYAvnxcEWwnTjRYAWw64UfVeKzBqyuUAAABcQZ8rRRUsI/8AABWgn84dUCvlQaN8OIwRPpUOxL9SlbczFpFo4dKv1MHH5ysvjwT3iADcMQ2H0ehe0SVCxGnKCT2uxGOVoKNJxEG0vrTNSeFtSU06Zj9P46n4ws4AAAA+AZ9KdEf/AAAhrD4/UfYN2QKRpq4KiudodzmvQs4PxgFWxHlxu1QAat5dah0/i72Yg93tTYt+bwiySen0DqgAAABfAZ9Makf/AAAhvx0R8PsbBjfqtRvGj3l8C/bKEJGvgBtnr+dgW07uidQM4nUP1qB8sPzDSLWfA+etG43Dwtrk9Bxcorc89hFjg4lv6oMJACnyyCldH3fevnGPgyh4KmEAAACJQZtRSahBbJlMCGf//p4QAAADAHy+DZ5OmUf63Kmlp2DYAaYiu3oz3u3FCAQFlZtm0p2GNqnG7T/ScXaG1fR3oc7oSdQm6Vb6N0leVgv80WKN2dtbhnaDZT+mMNTMd5FvLqQkuOjMwCaCyN7gPboBCxm98kM1R6Wr6IV+eVJ+E/8c3GYdNf5944EAAABOQZ9vRRUsI/8AABWgn84dUCvngvXZmHz8c183j7ayuZBZavmG8xVJkgAJ26NAgddLwYmoRFy4axi6PiiSjqNZPxEFgBwUosEMPBt9WOOBAAAAPQGfjnRH/wAAIaw+P1H2Ddj98BE7/62AF9ziygctG685zbEqctK13JR7g2T3Ucz4JoD/cJ19XGnzGzDWAQcAAABJAZ+Qakf/AAAhvx0R8PscBkMmbUgmTF0DHV+MdOQzyfvC61xWf9dABsVm2zHwlaaXansxRx44KH0EXO6NUR4ABiGE2KiMVoBdwAAAAJZBm5VJqEFsmUwIX//+jLAAAAMAMYVisQFQBHgC4bj6j81wv9Ggbc7I1WDzo9mMQaucWoKuT7gRKDO9xvuYJc5EG7MIiXI7iAwoo9YclZ1AzwhCQ8r9aOAh8RMuA2IZ5+5kWKg0dp61zbJYzAt5c/taVyLM4E1jAoS3DAwqQfDMAVi7h55wxNWhcwrJY0+N6rQMEDHdErEAAAA2QZ+zRRUsI/8AABWgn84dUCvngvcoFZp0sGH+epnKJ9AzOkkc3Jy9z9HMe8akx6qMggUGU0RsAAAAQAGf0nRH/wAAIaw+P1H2DdkClcJFHfGGtDEgcSh/YP7kfaF/wAZ2M4zvuq2E8YR75iAwJKdHvydj6SKiYB8gCTgAAAAzAZ/Uakf/AAAhvx0R8PscBkM3gJcNK0ZwnALlWRiPut00zUAH5/jt7RCCabcL5GvZ0APTAAAAlUGb2UmoQWyZTAhf//6MsAAAAwAxVrQtWAIBrKR44EpPSxBguzJ7p1laNz0zZXDKavI8EZmilk1686IsgGqetDMIpWOezidD4YbJNrkZ3ZmM5jImLmu2/qFpsdUoAkfccvWV+LAkhD4Yj7ND5ks3KWxM2/XFaK0Z2yRBTAMp4iFtG3fM+AKPx4RzpJaD5upa3N8beIO6AAAAPUGf90UVLCP/AAAVoJ/OHVAr54L3JvxyLr6Pwi0Ke2DaH11mM+mQEzw+p5J40Hk+X6gACIBXRqbZ+4oAeEEAAAAvAZ4WdEf/AAAhrD4/UfYN2QQdV4HC+J6nFef8IAE78F0CddAeQu6lMDlxM3AAIOEAAAA5AZ4Yakf/AAAhvx0R8PscBkM3gB7snXmGT2C8UJoVfbrPUArh8AIPI3q9zgRHB5L89UN7Ep6J1CXgAAAIQmWIggAO//73Tr8Cm1TCKgOSVwr2yqQmWblSawHypgAAAwAAAwAAAwLa9HiTO+TU8TYAAAMBBwAoYVMRISAUsbwqBIiSFwOMvwIaP/0CHu5wADbZe+QOpeEZ2nHK74/RlAcNl5wPIVx+4NnmNjQqEe5WiMMt+ErZScF2hVadPrh+TlQoNzvGz9vGTHeTH72TlpUQZgQLS4w9rnr5BR2nZKQC6/OtD+L/WnJIuNW09C4LDQyPdafw0IoMCJigYVWcB/+hVh7pAMkrEmPD+O1HeTJ7AhpBJForkEa//MZ5tMl8mg892popJP+5T1JaJcZKJRMeZxXzQ7ZTqzuwXywqna1NSlHJtiznp4RYMXzps5bULUwGcRB5O9J5to1nt+Sl0QOW1H8mhnLiaGpmFdg1UC4uyEFsNawjuN2STMAELu5yBnHMc9w8s5eVjwRYHOC5is2bsHhObR6hqrxzu7xTjqlbG4vPrgPgP631XUbfIM1+vsbev2rK9EwtbMVHsHPOZU8bNOIFkW78cuVvueX81hDP/oSv5oHixyLR/P6P8j75PpHMJsrSMi+MDsBwiYMe9CSGqRZqsMyIMfSdjARUBKtJ+H4LG1ElI5JAzwdz7N22uzzKSuvhg4XXmMdgSSxiYyTMTFFIll0ZF+NgGr+4wBcN091/xkQcDMykPVgZXYlaUJ451poj7FdnI/GXVlNfcYYJn7t4GWZNmSaC8Y2Vv6dmUl4cHELjudKMzFF/sc8pyciUSOEdZOg26riU4nbecXsJVnlc7jjRZQ22TQrucBULKlBrXs/8FtFkiyzudgAJogK7igfeAHvuujEjmO2a7J7AL+fzMtEoPELBy2tfqv4SD2ffrdaMmH3jfaDArFHiPCbIAoBeKeeGhkUhwP3niLtZPMxAu3ww1N5oDdGa6XXeho2cg/Yes0uMHcfz/hEN9ijsGHMNiHYNVKGxXgw8rzry662JJ8P7svNPBED3l/xCUw05eYpuFQyHeaO88PZW80LUecgYvjaOEzGMuVug3PPfU9TJUJy3pRmN1J+czDAAHS5IZYHLzemSoOO08+/6pDsn2D23d+R1o/2IpAEeS1Lxz4dwR5NUHuib+tMJfCK5pD/wONFXx8AKbbyDXSxggoPcTKna1r61AdhLN0lynA1W1J7ukaAyieuwAblWI0SsoxJ/0lMR2IN3hjJRUVCqIdJwjlcF0w1ybxYs7410zxHmUl0jGLJcIBIrP+JY4LisTDbYflRwGR1ZiB8bsB6J1GJSThSHpn0uxdMZuGVBzv8bOfhg5jrOwLs292+C4YkeIAQf2ELDyvkxZQLyz0JNXHXUkIycDUaD79jq8oGmMlFNWp9GYrafEbA3vBvQFDYTfvTUTJwOeY1G2oLVP9DrIYIaj3X/9hPGxv/RoNZ31t/ZdQYmxgguRrE8lV+YhqBqjp+oZA7SM1SQ9CrCjkNHHBycJ5NQotZZ5j67xZ678nkHu1ALZV/yyKKjpMfsuH4/WjWD4hZTxzQIWx9low565sOPd29d1ubiHsexDtsZnMy7i7UWO/JD4vAJqtRlDmiHJC3klOp6wkTIJwmmqNpjVYfGLeehTIaHE28sZqc0pFvRSg3WLs2k60ycmyKEPRc0ljPFL0Z1+n8wRqLD3Gdkgi5Ox5nm1i1in1hkgC5j4sWhm/vmgDLDdr6l94UGa9AgnsJefVLcJsWnCfGz+MHYbdnN8gfYw5C+PsIMjRRjbdTxAsgpv1frgTjJx6g+y4JL4qlMPWrgKnFlemr34tcC3uG4JgOxkW5logJqdWbHamQ0XCrfTfHOdb0FHjxPWrSlGcmJjq5Ii4GD0kJ1GZLPFOkohmmDlKXmkNSGltH6TxJETIyS+Eq8Nu5Z6W+QKsC70VDfTXKk417Mf+M5Z9cUUfko/xaHghZ7I/dM/7bK7Ka7BJLeSe4+OlpH18ovzmkSlQvXfjzJ0kwgOjQczrGAJwqYMH6LZV1h7I0xh1fRFeJ8qr/x3Nz98xAU+sDvq2KtRbpdnYVhHS6/MlmAozHk0ABpioDqWSRVcwOgr0A+FL4xGRVDn31+AyHj3vIRLeihFq7hOP9AxIOpnjg47g5dfnVEVduEKYV/EOfzQxLQq/5Xj6wU69JhSjO/YuuKyTY+B3AsJAiCeYAFOqyH4BM1Vq/48+k4tzr4JhGfW/dCzuN+3+n3SiT/LkXQw5esHePT+EPU74807u8DJdURsPriqHCUCJ6oLIcr0jsJfWia7WOW8JTqJ4zlAYOYEY9NeRSdHuZXRDTpWxYaLaVCVsq801my7ZcPo13pCbZG/WS8n4EgMaCzGMmkx1ZkJCrot0clL+0BD6w+PI3oahFlnpkGiXp6T4LOzdFWOM/fdeHvhH0/nucY3gBhjAP+DoPVwPLQjf7gPnp85VVf8mQ1AK+ArVzTaPdX2yoPas/UCg0N8YOS0Gy5/xWH2l9i28ZOQoJDKR15GPX1u+EQNGi6cAK3eCxipszQnDlZvmaJxN0RFClD/GoOcHehQTiNBxgol7uNlPhTnKuN8NYnlwcXCy7Q/1r3hOW+rn50MYkgOtmpalMYJFGYTF/bJ/Fv9YOVBXEjIL3SRbEv7q59HF/YKW9ky7YIHJtnqjBEaJHqQndDiJWPBCrhLhwihTYD5PcL1BHpBnAG3gQgA5OXpz7p5VA8ta/gHxDieKuDCRfgvrZlww4In7hUW4pflSw7Ts2GiesRjq8sheUaHs8ev4eXi3mmo+oAMYbAGw17QdTww//uKy/iwrHd+IADaH2/5L6/w1Tc/fLR2uA0VDfrBPm2HMkpA9l4mjiZP8qW4x/4ZpABZAIvAAABTEGaJGxDP/6eEAAAAwA3OXuAARq3V8i3Y9cyJOdkigwH6g+PpPCzxKoj1GjBEOXGJTnLqDhO7VdlkF9cwTRkWav9JyibwR+5ZAfErNHfXb+2rSFDDTSGNGAeTCefb9gxobPeN9DoCP7QqsHB0u9G7KIeWoigUQKHGHpVKAUgl1pj1ycu+zsoyqGDw+Huh/ogcC48oZSPfB8wI7k0kv3WxWjuz/yfV8Vx+RTvSDTjMfBPMP3rZ9FOEr1QEOygeGIy7yuyFXbVHVf+/VoyeSrB27efDzIl8i64qZXOdUsszurNPBDMijLI6lLMK2Sklk84ElWUBZiRZJXSh2OVlXbmMqlXsBR6IzdKCbDHMRqpiE3pVoHhjLGUdtsUgAl2VFmxS2xijQRjrD6E/PZckBNeU18WDIHijHgM+VFHyXLcUcaMaZ72wU+ziqyWyhFwAAAAXkGeQniP/wAAAwAbC7pF8VACo9vuKEA5F3DS6ep+Ps91uBRh+nK6Vz2gRnUjGDSy1gVN0bVsUNxp5ASWzKsWLYckKHsegngAXgL3GQAYOF1MuEMgEHe0u31pO1SARMEAAABMAZ5hdEf/AAADABxScLAAD+VYmtPoUQUvV+bit/sC78Oce3SIAQaWDFxm5M2/NDk/PesQ+GYJFsKAMwCtADjYR8jZ0TV6zX/Sp5ABbQAAADcBnmNqR/8AAAMAGwkQeEuyhCAod6MXhd6bgT/gQ56/de31Eh/cjJvXl9qTyHI/T2FJ3WMPADLgAAAA80GaaEmoQWiZTAhn//6eEAAAAwCSb55rHnEAEIVawxyE5bO2I9JNVzBtrD0dWDS35MVdS6NxRhnYdGLD8LBIRDRj3PTTHgzCL09bbxt9/zuSOmFdYoM07t7Rk9r49HUSC+6ivcTdQvjfDZ2llaCUXGaGvv92R0GjKCrFORkZSXXX9Ldwm+WbDQYfY1Z7scyGkGt2r773OLB3jh+ufqACv//QOFk7gvQrjKDgPsacTupv8cWdQaIUREHd/RyiFyB+Loox7+D+/SNxV3Qam/K7+WQOfFsmi/uNhUrCykovEJVXbwZ/hp+ucanrk3WoViXgjzUqYAAAADxBnoZFESwj/wAAAwAQ1/YX1acG1w4sXPGMOLi6SQAmjyBEvIkF9USs7/fOahGw14xR2pHXNizBhdQAbMEAAAA+AZ6ldEf/AAADABr87eAHMJWrR814gumaxSJ5XMQdgK8nL8Eqftikleicxq093GjPhuB4zDJH3MEWpNPoAVsAAAAzAZ6nakf/AAADAAmvtcAVbAA9rddInK66ZtqUPojr+hUjgGn13lX8O8svZ+9v2o54jLaBAAAAmUGarEmoQWyZTAhn//6eEAAAAwAw4vOvr6OAOM3YZ1HnhTue498rKNtwiVkMD/gucltXcI0eUTNSdv6kmwSy5qzBoS3wqUZnw7kccx7cWsKfJcMp0seOEb2v7goCd5ZTAzR89DuFsCBlyhFRCgQB5Lokp/BNvGxHx+QFUkEe5ZKyqY1XPcBLCdMSDH9X/rykX0mPbXXehjsDYAAAADRBnspFFSwj/wAAAwAPjEfT1BXrigKUpACVasRy0FU0xyqnYQr4jqUSJzh//gD4y/LBAK+BAAAAJAGe6XRH/wAAAwAJqv4bK5N3NDOvbyTLXPw3/H9E+nxdlG3C2wAAACUBnutqR/8AAAMAGR+sd1DV1OBznMNPNohDb8UIjuktyGFaAIeBAAAAmUGa8EmoQWyZTAhn//6eEAAAAwAxBwpNXiANpm4blucQ0YOWCW6h8fJF7Hkf3KHY5mJ40NXFq1rZdQJVibYJKz278ujkAAeqHymVBivco0PjNu3gmiCJDgCcz5HDF/vN8omPn5CXRjbhxTbmLzsXmKPdFcqTjQmujTiEH11sRWLEYMGbS/mGuDfc6fnhiJHk448dNwdyGCEMOQAAACpBnw5FFSwj/wAAAwAqGJ8dIHm9xdE2RJ1mmVu7NIBD4UkfVj9qN8wgBvQAAAAZAZ8tdEf/AAADAAPhD6wqPGcIWqMsCahJwAAAAB0Bny9qR/8AAAMAQX46WYTPsNq717eNgy2QwnxTQQAAAKJBmzRJqEFsmUwIZ//+nhAAAAMAf32PAR3/k4AOj94QDeu9PBKo+R88wScuGI9dMF6iGpeZVY7i4KhGpd2btU20PP+PEIff+XOmJTusauVknizBr4AYSaxGa2Kk18HbJ+pg5q0+z5jWoBB4+YUhmx9KBsJCTHRnxj4KDfORXZZEQ9M+8Y19ile+qx2qil2bFKHEGuWZ3kUHaKSOTdMoyK081/oAAAAmQZ9SRRUsI/8AAAMAKgqyH2bjxb8shZz92hIW5PKTA2j6D/PGTcAAAAAdAZ9xdEf/AAADAEFYfPj4Nk8A1GJ5X9F1PIkq42cAAAAaAZ9zakf/AAADABkpOawe87/gOFNHp4nwBQUAAACFQZt4SahBbJlMCGf//p4QAAADADD0GSHgA6P5SLZFbRbOjcxpjVQSzvFh5xuaAQpv+/vA8Lvtm7kkgHUcNVcq7wglbw8UPODNp0OMKQqgPf6mCARO1uA6XqIAVVNd/XbwSE36JdUSDDccgvh8wVWX7VGREgy0y/zDVZSuNH8tedZcCQzCfQAAADBBn5ZFFSwj/wAAAwAPMBGF90+wUAATsqxh3USSI23Xg27CDXE4YmH/yjL15ktqYUAAAAAaAZ+1dEf/AAADABiL2o44Q5DoediWkUpOhxwAAAAcAZ+3akf/AAADAAmscwIpmQC/3YT3DVjULJlsCQAAALxBm7xJqEFsmUwIZ//+nhAAAAMAMPQXA/i23+c7s+dUALZ5HRtCp2p6tYm59dctPCFfqhuswSpJYZXBWELj2WXeUUJm5/9wyEV+p6+fNKoj6V9tzRRmNUFxFQFRYBzgL52mmHwCMRPff/tULqz6vj4cPh6H90T/MX4pEgvqWmfCiJlncMDiUhGsSpbPIXYUIrPzsqez8ouIKJazOyNpBGi/rIBTxlzutjgYHsfGhaAiJ3Zccl1gJGae8EMb5AAAACpBn9pFFSwj/wAAAwAPjEWmf5vQCvj6WinjAbavnwVSJ5ftbEEWiz44cfAAAAAdAZ/5dEf/AAADAAjrS5gBJ9K7pfoZjmCIkGqfc+cAAAApAZ/7akf/AAADABkfqqcQEPEy9oAEJNe8nayWVLBTRREpG8TfJgwO78wAAACpQZvgSahBbJlMCGf//p4QAAADADD0GWZXAEezifS99uBw9TfYvr7FCvebeDYBIhYovpG/oyRweR58m8Y+NJuo9KZUziuJnc8VJwTKiV3rwphs6hgkQ7zXqKdYjsoP2SZb3CTGpX3r9VCYYedbn9td+HhZXLjNeD8A99Mer7rZIBerZtNbTAH0lsnRghCdQghpJhu7FQ+Llt1kkS9EfSkgq6DT+Of/HUI2oQAAACJBnh5FFSwj/wAAAwAGIu1y0sIYX0sg+cJAKki9ibJgsHOXAAAAFwGePXRH/wAAAwAJqw4/vSQ//pS0KSrCAAAAHAGeP2pH/wAAAwAXzqWH5Mb39nZxJxgYQlFXWUEAAACaQZokSahBbJlMCGf//p4QAAADADEbyU/dOikweikALXDTbBzadQAPShWc1Mzig0fQ6rL4upXAIMz4FvIrYQJ7z/nDv8b6iCu6sLfa4SbbRbO8rHBba26TWntFacujS7zcEJMASC9wn3asBxa0WPyWoYofIWs3XlWhgJ2LQi2HYdEbOK16wWIM6F+umn6sAFyTG5JCoTX7hA9tFAAAACxBnkJFFSwj/wAAAwAPfg66Ek1eVSZADR1y7wtYiRbSokJm6p5ui9di+0UwIQAAACEBnmF0R/8AAAMAGRwrhOiZvSgr3Krq1/wbVTLjMhIuJbUAAAAXAZ5jakf/AAADAAOg/6qqrOG4abik4mAAAACYQZpoSahBbJlMCGf//p4QAAADADD0G86wA/XZhSSE9Eep2T/Z9n3Bsz3K7/I7QHLFTXDKIpR/eDwz0TeaiNAMGq5jChxuIYn2R5eF1bFYsyDBqmzTpdunw/60lpUvKW/DRYa4dvKbbZ5ANlyF3VkzWWlBqd3lJNFIn4cpSW3PTvNoHC7iXB3vpyFJzkfKooBklowvKwvRCiwAAAAnQZ6GRRUsI/8AAAMAD21MycOU73e/JYRzIkTH/4ebfmmwa3V16X5hAAAAHAGepXRH/wAAAwAZK95h/rJ6USFjwvEYnxl6zB4AAAAhAZ6nakf/AAADAAj1xUAEMYVbLv5l8zOQ4Y9S6ZxfPxWpAAAAl0GarEmoQWyZTAhn//6eEAAAAwAw7G1ul3TONj7CAAjA1Lv0B+LeAT//sYndzI0BBSJy8h8qlNpoVc1SdRChJ2daihp9KjNk+n1NoKS7XtDrSMD39VdaedWPfuX3KbCKO5RCXUD9jCaIOkHb4ku7Opuc9It7GjHn10PNfXrz7ZkZeXqJr7EQgLCBun5c8RUqHjEskDcIKUgAAAA0QZ7KRRUsI/8AAAMAD34OwFcABD8JHQt7k1dIdUGOnisiFaad35GBq54/dakBQA5RtU5uEQAAAB0Bnul0R/8AAAMAGcu6XtmtpOBTCZo/MyQT0eim0QAAAB0BnutqR/8AAAMAGb9tNNLMm1074If56mbSlFoccQAAAIRBmvBJqEFsmUwIX//+jLAAAAMAMUBrZK/BxpqIoVmueAI7Q3ZyQr79jBiczJi7yhWC5h+HV4BTiduZXs9EpZ127sQhN2jgz8q+rT4d0dqns2O+NMTO+dLKs4F9ngBlgmq9fdo4PX2CdX8k7d4WA846hQmGe9s7+FTlUa1fGi74vzEQZUEAAAAuQZ8ORRUsI/8AAAMAD35WX8OFrM9sU2bhV9zXzIX7GlSAByoMxZpSaNb+Loou4AAAABwBny10R/8AAAMAGcvXCSZbNCnQQ9pKflxDKQgwAAAAIAGfL2pH/wAAAwAZzxgpis/4500dRxMqvnJPVFhAdQgxAAAAjUGbM0moQWyZTAhn//6eEAAAAwAw7G22cNMgA/mcT3IQO6+rsR+mI0iEKATXPQtQTXXKlyxnhFCz6MNOYyq0PgmioWhk9jE3AbDiuoZXsdAwrnNCPBKI1HgIyV3+CLSDOuW0SUzqRXHG72IqrwRuQmvcGjQuX8ixJj8cdD8iOC+ZR9hZ8wY37johXo6G7AAAAClBn1FFFSwj/wAAAwAPjEY/SeecM7MHY5BM1i+RwogA2PGwQrnUeCxbuAAAADABn3JqR/8AAAMAGSXWGAA/OQoRmYiGiBduR+1ajJrn+5OVO/4o77KO4DkErXsJUmEAAACZQZt3SahBbJlMCGf//p4QAAADADJ8JznkqwZpEYAI5AEd5r/E7L4HuQOBkCuxRVEhToQsu6uSCie96iGn7ee0tUg9Dz71K9amRo1anSZqakKLv1eCsk/dd/73NAxoZa8UtN9gstOw/jQNiviJMra2lA02Vc0MQ6Y9kayD+j8joWETLqqisM5VhwszVECuOgVwipuAJl4qobibAAAAS0GflUUVLCP/AAADAA+4LVNhFgBasrfFu3yMf/si1wbNLmbhgkrzuMOiT0ug4Mr6mc7n93IZBA1MOyYgVDpRuOpPaD3+zlLugpfl4QAAACIBn7R0R/8AAAMAGbwLCFIaYiZVQt01m6YeOo+K6+D/i4nkAAAAHgGftmpH/wAAAwAZKT8kIq1WyDzcsUmwyo4oFKB1wAAAALBBm7tJqEFsmUwIZ//+nhAAAAMAMixtuLoO7sAC0fWQ2bMkvJgNghgrB6LJEKHKzcOVbuI+dVp8G4ucVhAmHDCICu8bHxDqVsc364MTIpTk6v1DHDBcK+ZVbgdTGimP+eNUgLVunc6H3LItPvZzh2H5m8XnAzKNY8/Y20TfeiQSGLMcVyM5rTBYu0BoUIV8SHsD76xAvXv7jav01Die3Fw+gu9Sj6N86e6/6w8xXZpSQQAAACpBn9lFFSwj/wAAAwAP5S3aV2GsCqaUAlcwfi4Dh+6r73ECs7sG7+ecdiwAAAAnAZ/4dEf/AAADABnME5ngcwRrSvkkxAATLTna0AuZ8JbJnWwTW0VMAAAAIgGf+mpH/wAAAwAZySpZ8gpng5S96IANGLgboseZcEWkp4EAAADJQZv/SahBbJlMCGf//p4QAAADADIz9qnvIBKdRRqEfKYbbPfspG0LZaNmPMBSeuADJkuzkKwGVtIDFZydsqtcQKTF9fTMtN7lBh51dCH+c3uxcuw7/dDJpw2dBpqD/A2v6yPedwxKQfJ2I8AzjxkXOjoKsjfVBF3hsBxnCP2U/qI2n/TCx+vALEo1e1yjaX+RdDUYnPHcvLh03C/3FHir3ZRjzJwj/AWAS+MwvkcFqSDC4yIUbIpCOGuguOty0khRXJEu8orWomnwAAAANUGeHUUVLCP/AAADAA/e2sIBQmKzgqFeyZqXUABAGen2SJxD3iAJNgPIgM2yeOoilX1eIRUxAAAAGQGePHRH/wAAAwAZvCZ8iU9FnMCtkWaU490AAAAxAZ4+akf/AAADABnJq4ABSGY5vINPu6Ehj3NvwO5a+OeRMtLqfcEMfbmmbsv4v6g6YAAAAPlBmiNJqEFsmUwIZ//+nhAAAAMAks/Pc40Acoc/Kq7qXGwbmWUGAPCmJgC9eFJydcIssVS/NoEAYxz8iEdsVcQRaIus8hygG+IEdDgGq8SZesg3pea7aSuBNJoBaVIe/AoeH7B2EGjhQULILu1qoPTXM7mcht3WX1hBGNJ5p9EaGMvP5fnyPXiFImthzQvKZdLo3Q2ERreuHf9iJX6KNYj2H0/lLJpMw0JtOWbsO0v7NDRGtUYqYifu9yXZsZvxQjZHEpzZzQnhUFRRMCDC6R/stWlo8AHgbzicKSs48vFY/3Y1FF0K+RUBrDAI0Z0cih1LJieiH8t9jPkAAAA2QZ5BRRUsI/8AAAMAJbyipzP9tAEKDMb5l3z/xbnxnZr2bBH2P6gZBDTtsGslEWymSvhuQK2AAAAAIAGeYHRH/wAAAwAWuNhLrKrpR5Ex1nhUuYrI9Zfm6C7hAAAANwGeYmpH/wAAAwAZzrssVhcnr6Jr6OKNk63jDaoAINBSuOSnVNVtTYj5WI182vjnunBsytXYAu8AAADwQZpnSahBbJlMCGf//p4QAAADADT65xK1iVaoAJ28PG795KsOp2xmNtuZ79o63HPLEI9Q5G37PdpDSxVwu6Fo4crq3X015x+XtfJna8bxlL5PsU6u1QnXplSRSiaOa1L2hQqlUJ/A2hM7Fzhdc22PWLNmx9DF2xODVckoYKXlibdkjyMEe/1c9g+mt5EPcxp1NeAftS0PyyMsMmIJOeMSrXE0AatddeHqwSPpRS1fNUUeaRFpdkbpQ+QvUXnTyBJvFA8WIp9buoT2p8daW59i6EGP8khSvv194cgZHAnBCVYAAL38rpT5/K0lrCVUsIHAAAAAWEGehUUVLCP/AAADACoYogS4JI0abPAB7qkqhX0rJs8zxjItANkGCDlPqnO67fyUcW4miChO39KQ1QneAu74u6zWMYwjSExCqoXZUsJI3jSQkvXTCiIFJ3QAAAA3AZ6kdEf/AAADABlwHEGhYLkXyoqE5CO5Yik9HHQAQpuQxu0Qzgd9qsVkyRxnipGTdbqQwLBxwQAAAE4BnqZqR/8AAAMAQX5AWFLiwACPdipEcTtzWwOJubP9AXKzrS5LNRrzmqgdGgaiauAnUB2WUWN+BqoD/xgf3i29/i/Qi31rK4vS7z10mUkAAADfQZqrSahBbJlMCGf//p4QAAADAH99jwgew4XztOfhJoBMMT81egu1yTLOBRVaw/Y6Q7Wx4rFC0pLPhKO53uX/vCkWHJUOjaSn/85vdNxQVNmc/3s70O9YLbmU2tzn+VotluTaqO2ZqLUV78UEJ/WtbDf/IpV4TZ9HUUnN/LorTC17Fa4cfmfVOKtseJbo6QD4J2Q8Qw7pw7F6gxWlBRZpSq6mDBsyfs8hGK+5v/yiKcWE/B8JyvIdt+qGZcKuPFeVfxkk8yQiBOPQ532IkeGqQkPgTlMzqgIweV8fInuSlwAAAEtBnslFFSwj/wAAAwAvqEC+bndR7YihYHrdIOo2MMz7zCXs/RLjmb0DbzmTpH69m8RABddebObpfdYY1Gqzgik6nzIiu3Z2kNIf5gQAAAA7AZ7odEf/AAADAEFYht5Jig7Q5bpAASny/1VrMu1j/b7JkAQKisdfkAiQNVxHu4DRN3aFOLEtdj3sxg0AAAApAZ7qakf/AAADABm/bGxZ9GEZvc5azQ6DOHeEAQ3Wm2omfFiFZTeyJBcAAADPQZrvSahBbJlMCGf//p4QAAADAJKj/H4CgEHUSj4aRydZBgGEAyedgnUhdvPOkjIpwMsVHMhk8WOa/4PpKQtOL9oAL4LLDFnBLrPR/ah6aGPnynsunH4dsM4EfjVg/RqRIe11MESJHtFsSnaIq4duj7BAXOivRMPQeZCW2afvG/a+czccbXxLqo8901JfwCX3kr1NM4z0j33Eb85yuq+g0wqg1JMs1dxsY6d5zSvumhF7kfM8FRD3ug7zTRctrrJJGanIpJCo6nwyL07FhLI1AAAAMUGfDUUVLCP/AAADAA/gLeY4xrY5C94+rfl03nFPBgN0GL6rtLtC2Z08sk+qmQ+QXcEAAAAvAZ8sdEf/AAADABnMGhzX/IB5dbKqgAmYbqhwTViG2TovbhVxt17UihFdC2tBZUAAAAAZAZ8uakf/AAADABkft7na1vJ4LWQFbJWRywAAAJBBmzNJqEFsmUwIZ//+nhAAAAMAMkJXhtXLPNmPtC7BljwZT4gCjMrxnHePo7gp3oQhfO4mRgRHr2UiJiKMEAPYpaZoO2hkQIErtQ3llMPr3tQjd3G03NCw3sxLNBRKAym32e1h4BdpcyawJ/8Mk8vDwDlcgWiHHX+9sXCl1xh553lPosEFSz/PdVtuCRCbOnEAAAAmQZ9RRRUsI/8AAAMAD+ARR+ttIEAZnHog5RdGB+fplN6J06Nt8cAAAAAcAZ9wdEf/AAADABnMGp44hRM3PCOM6M9MEomymAAAABkBn3JqR/8AAAMACW+pmbJTkB0pT3Pd/emBAAAAm0Gbd0moQWyZTAhn//6eEAAAAwAyLr0ABnWvmDnNpdscdqvQ2W+XOBgYtLjGqsa4uOdPDn6c3Zbb6Q762XewlqCLyH5hQ/RQPxDpm/i6uGIBil6PhxEqfKKnwHNmNhNSABj74mQdtIg9JjfpwTg168invrjvhlzKNZHYGoz6/gNrm3Itlf81sFeC1S77UeXOpnbH1zN7MndzhQyvAAAAHkGflUUVLCP/AAADAAZK7W0JCKv2fNqpBNVbJmK5YQAAABgBn7R0R/8AAAMACfe1+hrZfa8W4tYYElYAAAAYAZ+2akf/AAADAAlsjvBMMMgpdhQgRnugAAAAj0Gbu0moQWyZTAhn//6eEAAAAwAyNsImlAFtTAlghsmh5xu2DRZxjfyO+kGJ8zlGy//j0dl9madvQIvt6icjwNv2S+DseE4lyOvHMxXWFgWn6dWJygkTDZJ4mn8lWaAhBsgNxILS0PCpxPlnPHaopKJyLGqIaTExr8w0fLuqtlJtQPhI1Cqmqt1fFXwxigjrAAAAIEGf2UUVLCP/AAADAA/gLZkMF7Xo07jR7oPrmufxax8wAAAAHgGf+HRH/wAAAwAZrGidq2A7brRg/IYy3KVJ1xbnugAAABYBn/pqR/8AAAMAA5+b4znM/m6HzvTBAAAAO0Gb/0moQWyZTAhn//6eEAAAAwAHEFu8AC2au5cvdRif1t4NNzrQajEA6ubVChUqb/aEvtmFAo8HU/I3AAAAHEGeHUUVLCP/AAADAAI7yHoM8tJq34OCE14MS4EAAAAUAZ48dEf/AAADAAFrFJ8ERXvUo2kAAAAWAZ4+akf/AAADAAOK/S5TMVU2Dq5fgAAAABxBmiNJqEFsmUwIX//+jLAAAAMABx1sYUWBP2qrAAAAHEGeQUUVLCP/AAADAAI6/ruJy29It06CQDsx+10AAAAWAZ5gdEf/AAADAAOHAvLwA4QOx1KrUQAAABMBnmJqR/8AAAMAAWvMJkSo/uNBAAAAGkGaZ0moQWyZTAhf//6MsAAAAwACl/Dp9jKgAAAAGEGehUUVLCP/AAADAADi7hSNwXg7+SjTUAAAABQBnqR0R/8AAAMAAWsUnRZRmG4OWQAAABQBnqZqR/8AAAMAAWvMJuVyiuODlgAAABdBmqtJqEFsmUwIX//+jLAAAAMAAAMDQwAAABdBnslFFSwj/wAAAwAA4u4UjoPi4c0aagAAABQBnuh0R/8AAAMAAWsUnRZRmG4OWQAAABQBnupqR/8AAAMAAWvMJuVyiuODlwAAABZBmu9JqEFsmUwIV//+OEAAAAMAAAypAAAAF0GfDUUVLCP/AAADAADi7hSOg+LhzRprAAAAFAGfLHRH/wAAAwABaxSdFlGYbg5YAAAAFAGfLmpH/wAAAwABa8wm5XKK44OWAAAAF0GbM0moQWyZTAhH//3hAAADAAADADFhAAAAF0GfUUUVLCP/AAADAADi7hSOg+LhzRpqAAAAFAGfcHRH/wAAAwABaxSdFlGYbg5YAAAAFAGfcmpH/wAAAwABa8wm5XKK44OXAAAAFkGbdEmoQWyZTAj//IQAAAMAAAMAwIEAABQbbW9vdgAAAGxtdmhkAAAAAAAAAAAAAAAAAAAD6AAAHKwAAQAAAQAAAAAAAAAAAAAAAAEAAAAAAAAAAAAAAAAAAAABAAAAAAAAAAAAAAAAAABAAAAAAAAAAAAAAAAAAAAAAAAAAAAAAAAAAAAAAAAAAgAAE0V0cmFrAAAAXHRraGQAAAADAAAAAAAAAAAAAAABAAAAAAAAHKwAAAAAAAAAAAAAAAAAAAAAAAEAAAAAAAAAAAAAAAAAAAABAAAAAAAAAAAAAAAAAABAAAAAAlgAAAGQAAAAAAAkZWR0cwAAABxlbHN0AAAAAAAAAAEAABysAAACAAABAAAAABK9bWRpYQAAACBtZGhkAAAAAAAAAAAAAAAAAAAyAAABbwBVxAAAAAAALWhkbHIAAAAAAAAAAHZpZGUAAAAAAAAAAAAAAABWaWRlb0hhbmRsZXIAAAASaG1pbmYAAAAUdm1oZAAAAAEAAAAAAAAAAAAAACRkaW5mAAAAHGRyZWYAAAAAAAAAAQAAAAx1cmwgAAAAAQAAEihzdGJsAAAAmHN0c2QAAAAAAAAAAQAAAIhhdmMxAAAAAAAAAAEAAAAAAAAAAAAAAAAAAAAAAlgBkABIAAAASAAAAAAAAAABAAAAAAAAAAAAAAAAAAAAAAAAAAAAAAAAAAAAAAAAAAAAGP//AAAAMmF2Y0MBZAAf/+EAGWdkAB+s2UCYM+XhAAADAAEAAAMAZA8YMZYBAAZo6+PLIsAAAAAYc3R0cwAAAAAAAAABAAABbwAAAQAAAAAYc3RzcwAAAAAAAAACAAAAAQAAAPsAAAtYY3R0cwAAAAAAAAFpAAAAAQAAAgAAAAABAAAEAAAAAAIAAAEAAAAAAQAABAAAAAACAAABAAAAAAEAAAUAAAAAAQAAAgAAAAABAAAAAAAAAAEAAAEAAAAAAQAABQAAAAABAAACAAAAAAEAAAAAAAAAAQAAAQAAAAABAAAFAAAAAAEAAAIAAAAAAQAAAAAAAAABAAABAAAAAAEAAAUAAAAAAQAAAgAAAAABAAAAAAAAAAEAAAEAAAAAAQAABQAAAAABAAACAAAAAAEAAAAAAAAAAQAAAQAAAAABAAAFAAAAAAEAAAIAAAAAAQAAAAAAAAABAAABAAAAAAEAAAQAAAAAAgAAAQAAAAABAAAEAAAAAAIAAAEAAAAAAQAABQAAAAABAAACAAAAAAEAAAAAAAAAAQAAAQAAAAABAAAFAAAAAAEAAAIAAAAAAQAAAAAAAAABAAABAAAAAAEAAAUAAAAAAQAAAgAAAAABAAAAAAAAAAEAAAEAAAAAAQAABQAAAAABAAACAAAAAAEAAAAAAAAAAQAAAQAAAAABAAAFAAAAAAEAAAIAAAAAAQAAAAAAAAABAAABAAAAAAEAAAQAAAAAAgAAAQAAAAABAAAFAAAAAAEAAAIAAAAAAQAAAAAAAAABAAABAAAAAAEAAAUAAAAAAQAAAgAAAAABAAAAAAAAAAEAAAEAAAAAAQAABQAAAAABAAACAAAAAAEAAAAAAAAAAQAAAQAAAAABAAAFAAAAAAEAAAIAAAAAAQAAAAAAAAABAAABAAAAAAEAAAUAAAAAAQAAAgAAAAABAAAAAAAAAAEAAAEAAAAAAQAABQAAAAABAAACAAAAAAEAAAAAAAAAAQAAAQAAAAABAAAFAAAAAAEAAAIAAAAAAQAAAAAAAAABAAABAAAAAAEAAAUAAAAAAQAAAgAAAAABAAAAAAAAAAEAAAEAAAAAAQAABQAAAAABAAACAAAAAAEAAAAAAAAAAQAAAQAAAAABAAAFAAAAAAEAAAIAAAAAAQAAAAAAAAABAAABAAAAAAEAAAUAAAAAAQAAAgAAAAABAAAAAAAAAAEAAAEAAAAAAQAABQAAAAABAAACAAAAAAEAAAAAAAAAAQAAAQAAAAABAAAFAAAAAAEAAAIAAAAAAQAAAAAAAAABAAABAAAAAAEAAAUAAAAAAQAAAgAAAAABAAAAAAAAAAEAAAEAAAAAAQAABQAAAAABAAACAAAAAAEAAAAAAAAAAQAAAQAAAAABAAAFAAAAAAEAAAIAAAAAAQAAAAAAAAABAAABAAAAAAEAAAUAAAAAAQAAAgAAAAABAAAAAAAAAAEAAAEAAAAAAQAABQAAAAABAAACAAAAAAEAAAAAAAAAAQAAAQAAAAABAAAFAAAAAAEAAAIAAAAAAQAAAAAAAAABAAABAAAAAAEAAAUAAAAAAQAAAgAAAAABAAAAAAAAAAEAAAEAAAAAAQAABQAAAAABAAACAAAAAAEAAAAAAAAAAQAAAQAAAAABAAAFAAAAAAEAAAIAAAAAAQAAAAAAAAABAAABAAAAAAEAAAMAAAAAAQAAAQAAAAABAAAFAAAAAAEAAAIAAAAAAQAAAAAAAAABAAABAAAAAAEAAAUAAAAAAQAAAgAAAAABAAAAAAAAAAEAAAEAAAAAAQAABQAAAAABAAACAAAAAAEAAAAAAAAAAQAAAQAAAAABAAAFAAAAAAEAAAIAAAAAAQAAAAAAAAABAAABAAAAAAEAAAUAAAAAAQAAAgAAAAABAAAAAAAAAAEAAAEAAAAAAQAABQAAAAABAAACAAAAAAEAAAAAAAAAAQAAAQAAAAABAAAFAAAAAAEAAAIAAAAAAQAAAAAAAAABAAABAAAAAAEAAAUAAAAAAQAAAgAAAAABAAAAAAAAAAEAAAEAAAAAAQAABQAAAAABAAACAAAAAAEAAAAAAAAAAQAAAQAAAAABAAAFAAAAAAEAAAIAAAAAAQAAAAAAAAABAAABAAAAAAEAAAUAAAAAAQAAAgAAAAABAAAAAAAAAAEAAAEAAAAAAQAABQAAAAABAAACAAAAAAEAAAAAAAAAAQAAAQAAAAABAAAFAAAAAAEAAAIAAAAAAQAAAAAAAAABAAABAAAAAAEAAAUAAAAAAQAAAgAAAAABAAAAAAAAAAEAAAEAAAAAAQAABQAAAAABAAACAAAAAAEAAAAAAAAAAQAAAQAAAAABAAAFAAAAAAEAAAIAAAAAAQAAAAAAAAABAAABAAAAAAEAAAUAAAAAAQAAAgAAAAABAAAAAAAAAAEAAAEAAAAAAQAABQAAAAABAAACAAAAAAEAAAAAAAAAAQAAAQAAAAABAAAFAAAAAAEAAAIAAAAAAQAAAAAAAAABAAABAAAAAAEAAAUAAAAAAQAAAgAAAAABAAAAAAAAAAEAAAEAAAAAAQAABQAAAAABAAACAAAAAAEAAAAAAAAAAQAAAQAAAAABAAAFAAAAAAEAAAIAAAAAAQAAAAAAAAABAAABAAAAAAEAAAUAAAAAAQAAAgAAAAABAAAAAAAAAAEAAAEAAAAAAQAABQAAAAABAAACAAAAAAEAAAAAAAAAAQAAAQAAAAABAAAFAAAAAAEAAAIAAAAAAQAAAAAAAAABAAABAAAAAAEAAAIAAAAAAQAABQAAAAABAAACAAAAAAEAAAAAAAAAAQAAAQAAAAABAAAFAAAAAAEAAAIAAAAAAQAAAAAAAAABAAABAAAAAAEAAAUAAAAAAQAAAgAAAAABAAAAAAAAAAEAAAEAAAAAAQAABQAAAAABAAACAAAAAAEAAAAAAAAAAQAAAQAAAAABAAAFAAAAAAEAAAIAAAAAAQAAAAAAAAABAAABAAAAAAEAAAUAAAAAAQAAAgAAAAABAAAAAAAAAAEAAAEAAAAAAQAABQAAAAABAAACAAAAAAEAAAAAAAAAAQAAAQAAAAABAAAFAAAAAAEAAAIAAAAAAQAAAAAAAAABAAABAAAAAAEAAAUAAAAAAQAAAgAAAAABAAAAAAAAAAEAAAEAAAAAAQAABQAAAAABAAACAAAAAAEAAAAAAAAAAQAAAQAAAAABAAAFAAAAAAEAAAIAAAAAAQAAAAAAAAABAAABAAAAAAEAAAUAAAAAAQAAAgAAAAABAAAAAAAAAAEAAAEAAAAAAQAABAAAAAACAAABAAAAAAEAAAUAAAAAAQAAAgAAAAABAAAAAAAAAAEAAAEAAAAAAQAABQAAAAABAAACAAAAAAEAAAAAAAAAAQAAAQAAAAABAAAFAAAAAAEAAAIAAAAAAQAAAAAAAAABAAABAAAAAAEAAAUAAAAAAQAAAgAAAAABAAAAAAAAAAEAAAEAAAAAAQAABQAAAAABAAACAAAAAAEAAAAAAAAAAQAAAQAAAAABAAAFAAAAAAEAAAIAAAAAAQAAAAAAAAABAAABAAAAAAEAAAUAAAAAAQAAAgAAAAABAAAAAAAAAAEAAAEAAAAAAQAABQAAAAABAAACAAAAAAEAAAAAAAAAAQAAAQAAAAABAAAFAAAAAAEAAAIAAAAAAQAAAAAAAAABAAABAAAAAAEAAAUAAAAAAQAAAgAAAAABAAAAAAAAAAEAAAEAAAAAAQAABQAAAAABAAACAAAAAAEAAAAAAAAAAQAAAQAAAAABAAAFAAAAAAEAAAIAAAAAAQAAAAAAAAABAAABAAAAAAEAAAUAAAAAAQAAAgAAAAABAAAAAAAAAAEAAAEAAAAAAQAABQAAAAABAAACAAAAAAEAAAAAAAAAAQAAAQAAAAABAAAFAAAAAAEAAAIAAAAAAQAAAAAAAAABAAABAAAAAAEAAAUAAAAAAQAAAgAAAAABAAAAAAAAAAEAAAEAAAAAAQAAAgAAAAAcc3RzYwAAAAAAAAABAAAAAQAAAW8AAAABAAAF0HN0c3oAAAAAAAAAAAAAAW8AAAmUAAABhwAAAHIAAABXAAABEgAAAF4AAABvAAAA+AAAAIoAAABbAAAAcQAAAQ4AAACIAAAAbwAAAGIAAAC6AAAAdgAAAGMAAABoAAAA3AAAAHwAAACBAAAAdAAAAPcAAABzAAAAbQAAAHAAAADCAAAAaQAAAGgAAABqAAAAzAAAAJ0AAABaAAAAnQAAAFEAAABXAAAAxAAAAHAAAABcAAAAYQAAAJkAAACBAAAAZgAAAHMAAADtAAAAeQAAAHUAAACEAAAArAAAAIcAAABuAAAAdgAAANUAAACJAAAAUQAAAHsAAACvAAAAbwAAAHkAAAC6AAAAbgAAAGAAAABNAAAA4wAAAHQAAAB3AAAAewAAAJgAAABTAAAAfwAAAGMAAADpAAAAcwAAAFgAAABbAAAAvgAAAHYAAABuAAAAZwAAALQAAACNAAAAewAAAFkAAAC8AAAAewAAAF8AAAB9AAAA1wAAAHYAAAB1AAAAdQAAANUAAABdAAAAZQAAAF0AAACcAAAAZwAAAG0AAAB4AAAAgQAAAHYAAABWAAAAaQAAAOgAAABlAAAAVwAAAGQAAADFAAAAewAAAGQAAABXAAAAzQAAAGgAAABXAAAAaAAAALoAAABuAAAAZAAAAGgAAAD+AAAApQAAAGgAAABkAAAAsgAAAHgAAABmAAAAZQAAAKEAAACCAAAAXAAAAFcAAACYAAAAWAAAAGYAAABEAAAAuAAAAFcAAABIAAAAXAAAAJoAAABYAAAAWAAAAFUAAACRAAAAaAAAAFoAAABRAAAAwQAAAEkAAADjAAAAXwAAADsAAABiAAAA/gAAAH0AAABrAAAAagAAAMkAAABiAAAAWgAAAEAAAAEGAAAAdQAAAEIAAABFAAAA4AAAAJgAAAB+AAAARgAAAMwAAACGAAAAXQAAAE0AAAC/AAAAVgAAAFsAAABMAAAA6AAAAF4AAABSAAAAXQAAAPIAAABxAAAAXAAAAFgAAADuAAAATwAAAGUAAABMAAAA5AAAAE8AAAA2AAAAUgAAAJsAAABJAAAARgAAAEoAAADQAAAAaAAAAEIAAABkAAAAywAAAFUAAABRAAAALQAAAMkAAABDAAAASQAAADwAAADIAAAAWAAAADoAAAA8AAAAxwAAAFEAAABGAAAATgAAAMUAAABJAAAANgAAAEMAAADWAAAAbgAAAEoAAABOAAAA7AAAAGIAAABiAAAATgAAAKEAAAA/AAAASQAAAEgAAADFAAAAYAAAAEIAAABjAAAAjQAAAFIAAABBAAAATQAAAJoAAAA6AAAARAAAADcAAACZAAAAQQAAADMAAAA9AAAIRgAAAVAAAABiAAAAUAAAADsAAAD3AAAAQAAAAEIAAAA3AAAAnQAAADgAAAAoAAAAKQAAAJ0AAAAuAAAAHQAAACEAAACmAAAAKgAAACEAAAAeAAAAiQAAADQAAAAeAAAAIAAAAMAAAAAuAAAAIQAAAC0AAACtAAAAJgAAABsAAAAgAAAAngAAADAAAAAlAAAAGwAAAJwAAAArAAAAIAAAACUAAACbAAAAOAAAACEAAAAhAAAAiAAAADIAAAAgAAAAJAAAAJEAAAAtAAAANAAAAJ0AAABPAAAAJgAAACIAAAC0AAAALgAAACsAAAAmAAAAzQAAADkAAAAdAAAANQAAAP0AAAA6AAAAJAAAADsAAAD0AAAAXAAAADsAAABSAAAA4wAAAE8AAAA/AAAALQAAANMAAAA1AAAAMwAAAB0AAACUAAAAKgAAACAAAAAdAAAAnwAAACIAAAAcAAAAHAAAAJMAAAAkAAAAIgAAABoAAAA/AAAAIAAAABgAAAAaAAAAIAAAACAAAAAaAAAAFwAAAB4AAAAcAAAAGAAAABgAAAAbAAAAGwAAABgAAAAYAAAAGgAAABsAAAAYAAAAGAAAABsAAAAbAAAAGAAAABgAAAAaAAAAFHN0Y28AAAAAAAAAAQAAADAAAABidWR0YQAAAFptZXRhAAAAAAAAACFoZGxyAAAAAAAAAABtZGlyYXBwbAAAAAAAAAAAAAAAAC1pbHN0AAAAJal0b28AAAAdZGF0YQAAAAEAAAAATGF2ZjU4LjI5LjEwMA==\" type=\"video/mp4\"></video>"
      ],
      "text/plain": [
       "<IPython.core.display.HTML object>"
      ]
     },
     "execution_count": 10,
     "metadata": {},
     "output_type": "execute_result"
    }
   ],
   "source": [
    "env = gym.make(env_name, render_mode=\"rgb_array\")\n",
    "vid = VideoRecorder(env, path=f\"video/{env_name}_learned.mp4\")\n",
    "observation = env.reset()[0]\n",
    "\n",
    "total_reward = 0\n",
    "done = False\n",
    "while not done:\n",
    "  frame = env.render()\n",
    "  vid.capture_frame()\n",
    "  action, states = model.predict(observation, deterministic=True)\n",
    "  observation, reward, done, info, _ = env.step(action)\n",
    "  total_reward += reward\n",
    "vid.close()\n",
    "env.close()\n",
    "print(f\"\\nTotal reward: {total_reward}\")\n",
    "\n",
    "# show video\n",
    "html = render_mp4(f\"video/{env_name}_learned.mp4\")\n",
    "HTML(html)"
   ]
  },
  {
   "cell_type": "markdown",
   "metadata": {
    "execution": {}
   },
   "source": [
    "The lander has landed safely!!\n",
    "\n",
    "Let us analyze its performance (speed and stability). For this purpose, we plot the number of time steps on the x-axis and the episodic reward given by the trained model on the y-axis."
   ]
  },
  {
   "cell_type": "code",
   "execution_count": null,
   "metadata": {
    "execution": {}
   },
   "outputs": [
    {
     "name": "stderr",
     "output_type": "stream",
     "text": [
      "/usr/local/lib/python3.10/dist-packages/ipykernel/ipkernel.py:283: DeprecationWarning: `should_run_async` will not call `transform_cell` automatically in the future. Please pass the result to `transformed_cell` argument and any exception that happen during thetransform in `preprocessing_exc_tuple` in IPython 7.17 and above.\n",
      "  and should_run_async(code)\n"
     ]
    },
    {
     "data": {
      "image/png": "[encoded data removed]",
      "text/plain": [
       "<Figure size 640x480 with 1 Axes>"
      ]
     },
     "metadata": {},
     "output_type": "display_data"
    }
   ],
   "source": [
    "x, y = ts2xy(load_results(log_dir), 'timesteps')  # Organising the logged results in to a clean format for plotting.\n",
    "plt.plot(x, y)\n",
    "plt.ylim([-300, 300])\n",
    "plt.xlabel('Timesteps')\n",
    "plt.ylabel('Episode Rewards')\n",
    "plt.show()"
   ]
  },
  {
   "cell_type": "markdown",
   "metadata": {
    "execution": {}
   },
   "source": [
    "From the above plot, we observe that, although the maximum reward is achieved quickly. Achieving an episodic reward of > 200 is good. We see that the agent has achieved it in less than 50000 timesteps (speed is good!). However, there are a lot of fluctuations in the performance (stability is not good!).\n",
    "\n",
    "Your objective now is to modify the model parameters (nn_layers, learning_rate in the code cell #2 above), run all the cells following it and investigate the stability and speed of the chosen configuration.   \n"
   ]
  },
  {
   "cell_type": "markdown",
   "metadata": {
    "execution": {}
   },
   "source": [
    "---\n",
    "# Additional Project Ideas"
   ]
  },
  {
   "cell_type": "markdown",
   "metadata": {
    "execution": {}
   },
   "source": [
    "## 1 Play with exploration-exploitation trade-off\n",
    "\n",
    "Exploration (selecting random actions) and exploitation (selecting greedy action) is a crucial component of the DQN algorithm. Explore random actions for a long time will slow down the training process. At the same time, if all actions are not explored enough, it might lead to a sub-optimal performance. In the DQN code above, we have used the following parameters:"
   ]
  },
  {
   "cell_type": "code",
   "execution_count": null,
   "metadata": {
    "execution": {}
   },
   "outputs": [
    {
     "name": "stderr",
     "output_type": "stream",
     "text": [
      "/usr/local/lib/python3.10/dist-packages/ipykernel/ipkernel.py:283: DeprecationWarning: `should_run_async` will not call `transform_cell` automatically in the future. Please pass the result to `transformed_cell` argument and any exception that happen during thetransform in `preprocessing_exc_tuple` in IPython 7.17 and above.\n",
      "  and should_run_async(code)\n"
     ]
    }
   ],
   "source": [
    "exploration_initial_eps = 1  # initial value of random action probability. Range is between 0 and 1.\n",
    "exploration_fraction = 0.5  # fraction of entire training period over which the exploration rate is reduced. Range is between 0 and 1.\n",
    "exploration_final_eps = 0.05  # (set by defualt) final value of random action probability. Range is between 0 and 1."
   ]
  },
  {
   "cell_type": "markdown",
   "metadata": {
    "execution": {}
   },
   "source": [
    "Your objective is to play around with these parameters and analyze their performance (speed and stability). You can modify these parameters and set them as arguments in DQN(...,exploration_initial_eps = 1, exploration_fraction = 0.5, exploration_final_eps = 0.05,...)."
   ]
  },
  {
   "cell_type": "markdown",
   "metadata": {
    "execution": {}
   },
   "source": [
    "## 2 Reward Shaping\n",
    "\n",
    "Your objective here is to construct a modified reward function that improves the performance of the Lunar Lander. To this end, you would have to create your own custom environment. An example of a custom environment is given below:"
   ]
  },
  {
   "cell_type": "code",
   "execution_count": null,
   "metadata": {
    "execution": {}
   },
   "outputs": [],
   "source": [
    "# Taken from https://stable-baselines3.readthedocs.io/en/master/guide/custom_env.html\n",
    "class CustomEnv(gym.Env):\n",
    "  \"\"\"Custom Environment that follows gym interface\"\"\"\n",
    "  metadata = {'render.modes': ['human']}\n",
    "\n",
    "  def __init__(self, arg1, arg2):\n",
    "    super(CustomEnv, self).__init__()\n",
    "    # Define action and observation space\n",
    "    # They must be gym.spaces objects\n",
    "    # Example when using discrete actions:\n",
    "    self.action_space = spaces.Discrete(N_DISCRETE_ACTIONS)\n",
    "    # Example for using image as input (channel-first; channel-last also works):\n",
    "    self.observation_space = spaces.Box(low=0, high=255,\n",
    "                                        shape=(N_CHANNELS, HEIGHT, WIDTH), dtype=np.uint8)\n",
    "\n",
    "  def step(self, action):\n",
    "    ...\n",
    "    return observation, reward, done, info\n",
    "  def reset(self):\n",
    "    ...\n",
    "    return observation  # reward, done, info can't be included\n",
    "  def render(self, mode='human'):\n",
    "    ...\n",
    "  def close (self):\n",
    "    ..."
   ]
  },
  {
   "cell_type": "markdown",
   "metadata": {
    "execution": {}
   },
   "source": [
    "As you are only changing the reward structure, you can inherit the [original Lunar Lander environment](https://github.com/openai/gym/blob/master/gym/envs/box2d/lunar_lander.py) and modify just the \"step\" function. Focus on modifying the following part of the code in the \"step\" function."
   ]
  },
  {
   "cell_type": "code",
   "execution_count": null,
   "metadata": {
    "execution": {}
   },
   "outputs": [],
   "source": [
    "def step(self, actions):\n",
    "  ...\n",
    "  ...\n",
    "  ...\n",
    "  reward = 0\n",
    "  shaping = (\n",
    "      -100 * np.sqrt(state[0] * state[0] + state[1] * state[1])\n",
    "      - 100 * np.sqrt(state[2] * state[2] + state[3] * state[3])\n",
    "      - 100 * abs(state[4])\n",
    "      + 10 * state[6]\n",
    "      + 10 * state[7]\n",
    "  )  # And ten points for legs contact, the idea is if you\n",
    "  # lose contact again after landing, you get negative reward\n",
    "  if self.prev_shaping is not None:\n",
    "      reward = shaping - self.prev_shaping\n",
    "  self.prev_shaping = shaping\n",
    "\n",
    "  reward -= (\n",
    "      m_power * 0.30\n",
    "  )  # less fuel spent is better, about -30 for heuristic landing. You should modify these values.\n",
    "  reward -= s_power * 0.03\n",
    "\n",
    "  done = False\n",
    "  if self.game_over or abs(state[0]) >= 1.0:\n",
    "      done = True\n",
    "      reward = -100\n",
    "  if not self.lander.awake:\n",
    "      done = True\n",
    "      reward = +100\n",
    "  return np.array(state, dtype=np.float32), reward, done, {}"
   ]
  },
  {
   "cell_type": "markdown",
   "metadata": {
    "execution": {}
   },
   "source": [
    "Once you have cutomized your own environment, you can execute that environment by just calling:"
   ]
  },
  {
   "cell_type": "code",
   "execution_count": null,
   "metadata": {
    "execution": {}
   },
   "outputs": [],
   "source": [
    "## Enter the name of the custome environment you created and uncomment the line below.\n",
    "# env = Custom_LunarLander()"
   ]
  },
  {
   "cell_type": "markdown",
   "metadata": {
    "execution": {}
   },
   "source": [
    "**Note:** Refer to [this page](https://stable-baselines3.readthedocs.io/en/master/guide/custom_env.html), if you would like to create more complex environments."
   ]
  },
  {
   "cell_type": "markdown",
   "metadata": {
    "execution": {}
   },
   "source": [
    "## 3 Identify the state information crucial to its performance.\n",
    "\n",
    "Your objective here is to alter the input state information and analyze the performance. The input state of the Lunar Lander consists of following components:\n",
    "\n",
    "  1. Horizontal Position\n",
    "  2. Vertical Position\n",
    "  3. Horizontal Velocity\n",
    "  4. Vertical Velocity\n",
    "  5. Angle\n",
    "  6. Angular Velocity\n",
    "  7. Left Leg Contact\n",
    "  8. Right Leg Contact\n",
    "\n",
    "You can train the algorithm by masking one of the eight components at a time and understand how that affects the performance of the algorithm. Similar to the reward shaping task, you would have to create a custom environment and modify the state space. Again, you can inherit all the necessary functions and modify the following portion of the \"Step\" function:"
   ]
  },
  {
   "cell_type": "code",
   "execution_count": null,
   "metadata": {
    "execution": {}
   },
   "outputs": [],
   "source": [
    "def step(self, actions):\n",
    "  ...\n",
    "  ...\n",
    "  ...\n",
    "  state = [ # Remove one component at a time to investigate the effect on performance!\n",
    "            (pos.x - VIEWPORT_W / SCALE / 2) / (VIEWPORT_W / SCALE / 2),\n",
    "            (pos.y - (self.helipad_y + LEG_DOWN / SCALE)) / (VIEWPORT_H / SCALE / 2),\n",
    "            vel.x * (VIEWPORT_W / SCALE / 2) / FPS,\n",
    "            vel.y * (VIEWPORT_H / SCALE / 2) / FPS,\n",
    "            self.lander.angle,\n",
    "            20.0 * self.lander.angularVelocity / FPS,\n",
    "            1.0 if self.legs[0].ground_contact else 0.0,\n",
    "            1.0 if self.legs[1].ground_contact else 0.0,\n",
    "        ]"
   ]
  },
  {
   "cell_type": "markdown",
   "metadata": {
    "execution": {}
   },
   "source": [
    "## 4 Extension to Atari Games\n",
    "\n",
    "In the Lunar Lander task, the input to the algorithm is a vector of state information. Deep RL algorithms can also be applied when the input to the training is image frames, which is the case in the Atari games. For example, consider an Atari game - Pong. In this environment, the observation is an RGB image of the screen, which is an array of shape (210, 160, 3). To train the Pong game, you can start with the following sample code:"
   ]
  },
  {
   "cell_type": "code",
   "execution_count": null,
   "metadata": {
    "execution": {}
   },
   "outputs": [],
   "source": [
    "## Taken from: https://colab.research.google.com/github/Stable-Baselines-Team/rl-colab-notebooks/blob/sb3/atari_games.ipynb#scrollTo=f3K4rMXwimBO\n",
    "env = make_atari_env('PongNoFrameskip-v4', n_envs=4, seed=0)\n",
    "\n",
    "## Atari Games take a lot of memory. Following commands crash on Coalb. Run the following code on Colab Pro or your local Jupyter notebook!\n",
    "# env = VecFrameStack(env, n_stack=4)\n",
    "# model = DQN('CnnPolicy', env, verbose=1)  # Note the difference here! We use 'CnnPolicy\" here instead of 'MlpPolicy' as the input is frames.\n",
    "# model.learn(total_timesteps=1) #change the number of timesteps as desired and run this command!"
   ]
  },
  {
   "cell_type": "markdown",
   "metadata": {
    "execution": {}
   },
   "source": [
    "## 5 Obstacle Avoidance and Transfer Learning\n",
    "\n",
    "Your obstacle here is to add an obstacle in the path of the lunar lander (by creating a custom environment as described in point 2 above) and train the model such that the lander lands safely, avoiding collisions.\n",
    "\n",
    "You would first want to devise a mechansim for adding obstacles. For example, you could have an imaginary obstacle at some horizantal and vertical position cooridnates and modify the reward function such that a penalty is levied if the lander comes close to it.\n",
    "\n",
    "An interesting approach to solve this problem is to apply the techniques of transfer learning. For example, you could initialise the neural network model with the weights of the trained model on the original problem to improve the sample effeciency. This can be done using the following code:"
   ]
  },
  {
   "cell_type": "code",
   "execution_count": null,
   "metadata": {
    "execution": {}
   },
   "outputs": [],
   "source": [
    "## Specify the load path and uncomment below:\n",
    "\n",
    "# model = load(load_path,\n",
    "#              env=gym.make('LunarLander-v2'),\n",
    "#              custom_objects=None, **kwargs)"
   ]
  },
  {
   "cell_type": "markdown",
   "metadata": {
    "execution": {}
   },
   "source": [
    "Following are some of the resources on transfer learning that you would want to start with.\n",
    "\n",
    "**Research Papers**\n",
    "\n",
    "Surveys:\n",
    "1. Taylor, M. E.,  et al. (2009). Transfer learning for reinforcement learning domains. url: [www.jmlr.org/papers/volume10/taylor09a/taylor09a](https://www.jmlr.org/papers/volume10/taylor09a/taylor09a.pdf)\n",
    "   - Long, Old, Highly cited\n",
    "\n",
    "2. Lazaric, A. (2012). Transfer in reinforcement learning: a framework and a survey. url: [hal.inria.fr/docs/00/77/26/26/PDF/transfer](https://hal.inria.fr/docs/00/77/26/26/PDF/transfer.pdf)\n",
    "   - Medium, Old, Good for a quick read\n",
    "\n",
    "3. Zhu, Z., Lin, K., & Zhou, J. (2020). Transfer learning in deep reinforcement learning. [arxiv:2009.07888](https://arxiv.org/pdf/2009.07888.pdf)\n",
    "  - Medium, Recent, Good for a quick read\n",
    "\n",
    "4. Barreto, A., et al. (2016). Successor features for transfer in reinforcement learning. [arxiv:1606.05312](https://arxiv.org/pdf/1606.05312)\n",
    "  - Specific example"
   ]
  },
  {
   "cell_type": "markdown",
   "metadata": {
    "execution": {}
   },
   "source": [
    "## 5(b) Transfer Learning in minigrid environment\n",
    "\n",
    "These are some simple gridworld gym environments designed to be particularly simple, lightweight and fast. Refer to [this repo](https://github.com/maximecb/gym-minigrid) for a description of the environments. An example to load a minigrid environment is given below."
   ]
  },
  {
   "cell_type": "code",
   "execution_count": null,
   "metadata": {
    "execution": {}
   },
   "outputs": [],
   "source": [
    "env = gym.make('MiniGrid-Empty-5x5-v0', render_mode='rgb_array')"
   ]
  },
  {
   "cell_type": "markdown",
   "metadata": {
    "execution": {}
   },
   "source": [
    "You can train a standard DQN agent in this env by wrapping the env with full image observation wrappers:\n"
   ]
  },
  {
   "cell_type": "code",
   "execution_count": null,
   "metadata": {
    "execution": {}
   },
   "outputs": [],
   "source": [
    "import minigrid\n",
    "env = minigrid.wrappers.ImgObsWrapper(minigrid.wrappers.RGBImgObsWrapper(env))"
   ]
  },
  {
   "cell_type": "markdown",
   "metadata": {
    "execution": {}
   },
   "source": [
    "Note that with full image observations, the shape of the image observations may differ between envs. For e.g., MiniGrid-Empty-5x5-v0 is (40,40,3) while MiniGrid-Empty-8x8-v0 is (64,64,3). So you may need to resize the observations for transfer learning to work with the same DQN architecture.\n",
    "\n",
    "Now try training a DQN (or another method) in one (or multiple) minigrid env(s),and see if that knowledge transfers to another (or multiple other) minigrid env(s).\n"
   ]
  },
  {
   "cell_type": "markdown",
   "metadata": {
    "execution": {}
   },
   "source": [
    "## 6 Preference-Based RL (PBRL)\n",
    "\n",
    "PBRL is an exciting sub-area in RL where the traditional reward structure is replaced with human preferences. This setting is very useful in applications where it is difficult to construct a reward function.\n",
    "\n",
    "In the earlier section, we have successfully trained the lunar lander to land safely. Here, the path that the lander follows to land safely can be arbitrary. In this project, using the techniques of PBRL, you will solve the lunar lander problem with an additional requirement that the lander should follow a specially curated path (for example, a straight line path). Following are some of the resources that will help you to get started with this project.\n",
    "\n",
    "**Research papers:**\n",
    "1. [Deep Reinforcement Learning from Human Preferences](https://papers.nips.cc/paper/2017/file/d5e2c0adad503c91f91df240d0cd4e49-Paper.pdf)\n",
    "2. [Deep Q-learning from Demonstrations](https://arxiv.org/pdf/1704.03732.pdf)\n",
    "3. [Reward learning from human preferences](https://arxiv.org/pdf/1811.06521.pdf)\n",
    "4. [T-REX](https://arxiv.org/pdf/1904.06387.pdf)\n",
    "\n",
    "**Code Bases:**\n",
    "1. [rl-teacher](https://github.com/nottombrown/rl-teacher)\n",
    "2. [ICML2019-TREX](https://github.com/hiwonjoon/ICML2019-TREX)"
   ]
  },
  {
   "cell_type": "markdown",
   "metadata": {
    "execution": {}
   },
   "source": [
    "---\n",
    "# References\n",
    "\n",
    "1. [Stable Baselines Framework](https://stable-baselines3.readthedocs.io/en/master/guide/examples.html)\n",
    "2. [Lunar Lander Environment](https://gym.openai.com/envs/LunarLander-v2/)\n",
    "3. [OpenAI gym environments](https://gym.openai.com/docs/)\n",
    "4. [A good reference for introduction to RL](http://incompleteideas.net/book/the-book-2nd.html)\n"
   ]
  }
 ],
 "metadata": {
  "accelerator": "GPU",
  "colab": {
   "collapsed_sections": [],
   "include_colab_link": true,
   "name": "lunar_lander",
   "provenance": [],
   "toc_visible": true
  },
  "gpuClass": "standard",
  "kernel": {
   "display_name": "Python 3",
   "language": "python",
   "name": "python3"
  },
  "kernelspec": {
   "display_name": "Python 3",
   "name": "python3"
  },
  "language_info": {
   "name": "python"
  }
 },
 "nbformat": 4,
 "nbformat_minor": 0
}