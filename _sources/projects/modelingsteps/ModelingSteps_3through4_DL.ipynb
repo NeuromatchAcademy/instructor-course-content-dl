{
 "cells": [
  {
   "cell_type": "markdown",
   "metadata": {
    "colab_type": "text",
    "execution": {},
    "id": "view-in-github"
   },
   "source": [
    "<a href=\"https://colab.research.google.com/github/NeuromatchAcademy/course-content-dl/blob/main/projects/modelingsteps/ModelingSteps_3through4_DL.ipynb\" target=\"_blank\"><img alt=\"Open In Colab\" src=\"https://colab.research.google.com/assets/colab-badge.svg\"/></a>   <a href=\"https://kaggle.com/kernels/welcome?src=https://raw.githubusercontent.com/NeuromatchAcademy/course-content-dl/main/projects/modelingsteps/ModelingSteps_3through4_DL.ipynb\" target=\"_blank\"><img alt=\"Open in Kaggle\" src=\"https://kaggle.com/static/images/open-in-kaggle.svg\"/></a>"
   ]
  },
  {
   "cell_type": "markdown",
   "metadata": {
    "execution": {}
   },
   "source": [
    "# Modeling Steps 3 - 4\n",
    "\n",
    "**By Neuromatch Academy**\n",
    "\n",
    "__Content creators:__ Marius 't Hart, Megan Peters, Paul Schrater, Gunnar Blohm\n",
    "\n",
    "__Content reviewers:__ Eric DeWitt, Tara van Viegen, Marius Pachitariu\n",
    "\n",
    "__Production editors:__ Ella Batty, Spiros Chavlis"
   ]
  },
  {
   "cell_type": "markdown",
   "metadata": {
    "execution": {}
   },
   "source": [
    "----\n",
    "# Step 3: Determining the basic ingredients\n"
   ]
  },
  {
   "cell_type": "markdown",
   "metadata": {},
   "source": [
    "##  Video 4: Determining basic ingredients\n"
   ]
  },
  {
   "cell_type": "code",
   "execution_count": null,
   "metadata": {
    "cellView": "form",
    "execution": {},
    "tags": [
     "remove-input"
    ]
   },
   "outputs": [
    {
     "data": {
      "application/vnd.jupyter.widget-view+json": {
       "model_id": "4ffae20cfba74e7cb584ff8d649ce14c",
       "version_major": 2,
       "version_minor": 0
      },
      "text/plain": [
       "Tab(children=(Output(), Output()), _titles={'0': 'Youtube', '1': 'Bilibili'})"
      ]
     },
     "metadata": {},
     "output_type": "display_data"
    }
   ],
   "source": [
    "# @title Video 4: Determining basic ingredients\n",
    "from ipywidgets import widgets\n",
    "from IPython.display import YouTubeVideo\n",
    "from IPython.display import IFrame\n",
    "from IPython.display import display\n",
    "\n",
    "\n",
    "class PlayVideo(IFrame):\n",
    "  def __init__(self, id, source, page=1, width=400, height=300, **kwargs):\n",
    "    self.id = id\n",
    "    if source == 'Bilibili':\n",
    "      src = f'https://player.bilibili.com/player.html?bvid={id}&page={page}'\n",
    "    elif source == 'Osf':\n",
    "      src = f'https://mfr.ca-1.osf.io/render?url=https://osf.io/download/{id}/?direct%26mode=render'\n",
    "    super(PlayVideo, self).__init__(src, width, height, **kwargs)\n",
    "\n",
    "\n",
    "def display_videos(video_ids, W=400, H=300, fs=1):\n",
    "  tab_contents = []\n",
    "  for i, video_id in enumerate(video_ids):\n",
    "    out = widgets.Output()\n",
    "    with out:\n",
    "      if video_ids[i][0] == 'Youtube':\n",
    "        video = YouTubeVideo(id=video_ids[i][1], width=W,\n",
    "                             height=H, fs=fs, rel=0)\n",
    "        print(f'Video available at https://youtube.com/watch?v={video.id}')\n",
    "      else:\n",
    "        video = PlayVideo(id=video_ids[i][1], source=video_ids[i][0], width=W,\n",
    "                          height=H, fs=fs, autoplay=False)\n",
    "        if video_ids[i][0] == 'Bilibili':\n",
    "          print(f'Video available at https://www.bilibili.com/video/{video.id}')\n",
    "        elif video_ids[i][0] == 'Osf':\n",
    "          print(f'Video available at https://osf.io/{video.id}')\n",
    "      display(video)\n",
    "    tab_contents.append(out)\n",
    "  return tab_contents\n",
    "\n",
    "\n",
    "video_ids = [('Youtube', 'XpEj-p7JkFE'), ('Bilibili', 'BV1Mq4y1x77s')]\n",
    "tab_contents = display_videos(video_ids, W=730, H=410)\n",
    "tabs = widgets.Tab()\n",
    "tabs.children = tab_contents\n",
    "for i in range(len(tab_contents)):\n",
    "  tabs.set_title(i, video_ids[i][0])\n",
    "display(tabs)"
   ]
  },
  {
   "cell_type": "markdown",
   "metadata": {},
   "source": [
    "##  Example projects step 3\n"
   ]
  },
  {
   "cell_type": "markdown",
   "metadata": {},
   "source": [
    " Run this cell to download the data for this example project.\n"
   ]
  },
  {
   "cell_type": "code",
   "execution_count": null,
   "metadata": {
    "cellView": "form",
    "execution": {},
    "tags": [
     "hide-input"
    ]
   },
   "outputs": [
    {
     "data": {
      "text/markdown": [],
      "text/plain": [
       "<IPython.core.display.Markdown object>"
      ]
     },
     "metadata": {},
     "output_type": "display_data"
    },
    {
     "data": {
      "application/vnd.jupyter.widget-view+json": {
       "model_id": "10a9d3dc819d4027a7e3203499d8fa7d",
       "version_major": 2,
       "version_minor": 0
      },
      "text/plain": [
       "Tab(children=(Output(), Output(), Output()), _titles={'0': 'Computational Model', '1': 'Data Analysis', '2': '…"
      ]
     },
     "metadata": {},
     "output_type": "display_data"
    }
   ],
   "source": [
    "# @title Example projects step 3\n",
    "from ipywidgets import widgets\n",
    "from IPython.display import Markdown, Math\n",
    "\n",
    "# @title Data retrieval\n",
    "# @markdown Run this cell to download the data for this example project.\n",
    "import io, requests\n",
    "import numpy as np\n",
    "from collections import Counter\n",
    "r = requests.get('https://osf.io/mnqb7/download')\n",
    "if r.status_code != 200:\n",
    "  print('Failed to download data')\n",
    "else:\n",
    "  train_moves=np.load(io.BytesIO(r.content), allow_pickle=True)['train_moves']\n",
    "  train_labels=np.load(io.BytesIO(r.content), allow_pickle=True)['train_labels']\n",
    "  test_moves=np.load(io.BytesIO(r.content), allow_pickle=True)['test_moves']\n",
    "  test_labels=np.load(io.BytesIO(r.content), allow_pickle=True)['test_labels']\n",
    "  label_names=np.load(io.BytesIO(r.content), allow_pickle=True)['label_names']\n",
    "  joint_names=np.load(io.BytesIO(r.content), allow_pickle=True)['joint_names']\n",
    "\n",
    "\n",
    "\n",
    "markdown1 = r'''\n",
    "\n",
    "## Step 3\n",
    "<br>\n",
    "<font size='3pt'>\n",
    "We determined that we probably needed the following ingredients for our model:\n",
    "\n",
    "* Vestibular input: *v(t)*\n",
    "\n",
    "* Binary decision output: *d* - time dependent?\n",
    "\n",
    "* Decision threshold: θ\n",
    "\n",
    "* A filter (maybe running average?): *f*\n",
    "\n",
    "* An integration mechanism to get from vestibular acceleration to sensed velocity: ∫\n",
    "\n",
    "</font>\n",
    "'''\n",
    "\n",
    "markdown2 = '''\n",
    "## Step 3\n",
    "<br>\n",
    "<font size='3pt'>\n",
    "In order to address our question we need to design an appropriate computational data analysis pipeline. We did some brainstorming and think that we need to somehow extract the self-motion judgements from the spike counts of our neurons. Based on that, our algorithm needs to make a decision: was there self motion or not? This is a classical 2-choice classification problem. We will have to transform the raw spike data into the right input for the algorithm (spike pre-processing).\n",
    "\n",
    "So we determined that we probably needed the following ingredients:\n",
    "\n",
    "* spike trains *S* of 3-second trials (10ms spike bins)\n",
    "* ground truth movement *m<sub>r</sub>* (real) and perceived movement *m<sub>p</sub>*\n",
    "* some form of classifier *C* giving us a classification *c*\n",
    "* spike pre-processing\n",
    "</font>\n",
    "'''\n",
    "\n",
    "markdown31 = '''\n",
    "## Step 3\n",
    "\n",
    "<br>\n",
    "<font size='3pt'>\n",
    "After downloading the data, we should have 6 numpy arrays:\n",
    "\n",
    "`train_moves`: the training set of 1032 movements\n",
    "\n",
    "`train_labels`: the class labels for each of the 1032 training movements\n",
    "\n",
    "`test_moves`: the test set of 172 movements\n",
    "\n",
    "`test_labels`: the class labels for each of the 172 test movements\n",
    "\n",
    "`label_names`: text labels for the values in the two arrays of class labels\n",
    "\n",
    "`joint_names`: the names of the 24 joints used in each movement\n",
    "\n",
    "<br>\n",
    "We'll take a closer look at the data below. Note: data is split into training and test sets. If you don't know what that means, NMA-DL will teach you!\n",
    "</font>\n",
    "<br>\n",
    "'''\n",
    "\n",
    "markdown32 = '''\n",
    "<br>\n",
    "<font size='3pt'>\n",
    "\n",
    "**Inputs:**\n",
    "For simplicity, we take the first 24 joints of the whole MoVi dataset including all major limbs. The data was in an exponential map format, which has 3 rotations/angles for each joint (pitch, yaw, roll). The advantage of this type of data is that it is (mostly) agnostic about body size or shape. And since we care about movements only, we choose this representation of the data (there are other representations in the full data set).\n",
    "\n",
    "Since the joints are simply points, the 3rd angle (i.e. roll) contained no information, and that is already dropped from the data that we pre-formatted for this demo project. That is, the movements of each joint are described by 2 angles, that change over time. Furthermore, we normalized all the angles/rotations to fall between 0 and 1 so they are good input for PyTorch.\n",
    "\n",
    "Finally, the movements originally took various amounts of time, but we need the same input for each movement, so we sub-sampled and (linearly) interpolated the data to have 75 timepoints.\n",
    "\n",
    "Our training data is supposed to have 1032 movements, 2 x 24 joints = 48 channels and 75 timepoints. Let's check and make sure:\n",
    "\n",
    "</font>\n",
    "<br>\n",
    "'''\n",
    "\n",
    "markdown33 = '''\n",
    "<br>\n",
    "<font size='3pt'>\n",
    "\n",
    "**Joints:**\n",
    "For each movement we have 2 angles from 24 joints. Which joints are these?\n",
    "</font>\n",
    "<br>\n",
    "'''\n",
    "\n",
    "markdown34 = '''\n",
    "<br>\n",
    "<font size='3pt'>\n",
    "\n",
    "**Labels:**\n",
    "\n",
    "Let's have a look at the `train_labels` array too:\n",
    "\n",
    "</font>\n",
    "<br>\n",
    "'''\n",
    "\n",
    "\n",
    "markdown35 = '''\n",
    "<br>\n",
    "<font size='3pt'>\n",
    "The labels are numbers, and there are 1032 of them, so that matches the number of movements in the data set.\n",
    "There are text versions too in the array called `label_names`. Let's have a look. There are supposed to be 14 movement classes.\n",
    "</font>\n",
    "<br>\n",
    "'''\n",
    "\n",
    "markdown36 = '''\n",
    "<br>\n",
    "<font size='3pt'>\n",
    "The test data set has similar data, but fewer movements. That's ok.\n",
    "What's important is that both the training and test datasets have an even spread of movement types,\n",
    "i.e., we want them to be balanced. Let's see how balanced the data is:\n",
    "\n",
    "Train data:\n",
    "\n",
    "</font>\n",
    "<br>\n",
    "'''\n",
    "\n",
    "markdown37 = '''\n",
    "<br>\n",
    "<font size='3pt'>\n",
    "Test data:\n",
    "</font>\n",
    "<br>\n",
    "'''\n",
    "\n",
    "markdown38 = '''\n",
    "<br>\n",
    "<font size='3pt'>\n",
    "So that looks more or less OK. Movements 2, 3, 4 and 5 occur once more in the\n",
    "training data than the other movements, and one time fewer in the test data.\n",
    "Not perfect, but probably doesn't matter that much.\n",
    "</font>\n",
    "<br>\n",
    "'''\n",
    "\n",
    "markdown39 = '''\n",
    "<br>\n",
    "<br>\n",
    "<font size='3pt'>\n",
    "\n",
    "**Model ingredients**\n",
    "\n",
    "\"Mechanisms\":\n",
    "<br>\n",
    "\n",
    "Feature engineering? --> Do we need anything else aside from angular time courses? For now we choose to only use the angular time courses (exponential maps), as our ultimate goal is to see how many joints we need for accurate movement classification so that we can decrease the number of measurements or devices for later work.\n",
    "\n",
    "Feature selection? --> Which joint movements are most informative? These are related to our research questions and hypotheses, so this project will explicitly investigate which joints are most informative.\n",
    "\n",
    "Feature grouping? --> Instead of trying all possible combinations of joints (very many) we could focus on limbs, by grouping joints. We could also try the model on individual joints.\n",
    "\n",
    "Classifier? --> For our classifier we would like to keep it as simple as possible, but we will decide later.\n",
    "\n",
    "Input? --> The training data (movements and labels) will be used to train the classifier.\n",
    "\n",
    "Output? --> The test data will be used as input for the trained model and we will see if the predicted labels are the same as the actual labels.\n",
    "\n",
    "</font>\n",
    "'''\n",
    "\n",
    "\n",
    "# No idea why this is necessary but math doesn't render properly without it\n",
    "display(Markdown(r\"\"))\n",
    "\n",
    "\n",
    "out2 = widgets.Output()\n",
    "with out2:\n",
    "  display(Markdown(markdown2))\n",
    "\n",
    "\n",
    "out1 = widgets.Output()\n",
    "with out1:\n",
    "  display(Markdown(markdown1))\n",
    "\n",
    "out3 = widgets.Output()\n",
    "with out3:\n",
    "  display(Markdown(markdown31))\n",
    "\n",
    "  display(Markdown(markdown32))\n",
    "\n",
    "  print(train_moves.shape)\n",
    "\n",
    "  display(Markdown(markdown33))\n",
    "\n",
    "  for joint_no in range(24):\n",
    "    print(f\"{joint_no}: {joint_names[joint_no]}\")\n",
    "\n",
    "  display(Markdown(markdown34))\n",
    "\n",
    "  print(train_labels)\n",
    "  print(train_labels.shape)\n",
    "\n",
    "  display(Markdown(markdown35))\n",
    "  # let's check the values of the train_labels array:\n",
    "  label_numbers = np.unique(train_labels)\n",
    "  print(label_numbers)\n",
    "\n",
    "  # and use them as indices into the label_names array:\n",
    "  for label_no in label_numbers:\n",
    "    print(f\"{label_no}: {label_names[label_no]}\")\n",
    "\n",
    "  display(Markdown(markdown36))\n",
    "\n",
    "  Counter(train_labels)\n",
    "\n",
    "  display(Markdown(markdown37))\n",
    "\n",
    "  Counter(test_labels)\n",
    "\n",
    "  display(Markdown(markdown38))\n",
    "\n",
    "  display(Markdown(markdown39))\n",
    "\n",
    "out = widgets.Tab([out1, out2, out3])\n",
    "out.set_title(0, 'Computational Model')\n",
    "out.set_title(1, 'Data Analysis')\n",
    "out.set_title(2, 'Deep Learning')\n",
    "\n",
    "display(out)"
   ]
  },
  {
   "cell_type": "markdown",
   "metadata": {
    "execution": {}
   },
   "source": [
    "## Determine your basic ingredients\n",
    "\n",
    "This will allow you to think deeper about what your modeling project will need. It's a crucial step before you can formulate hypotheses because you first need to understand what your modeling approach will need. There are 2 aspects you want to think about:\n",
    "\n",
    "<br>\n",
    "\n",
    "1.   What parameters / hyperparameters / variables are needed?\n",
    "      * Constants?\n",
    "      * Do they change over space, time, conditions…?\n",
    "      * What details can be omitted?\n",
    "      * Constraints, initial conditions?\n",
    "      * Model inputs / outputs?\n",
    "2.   Variables needed to describe the process to be modelled?\n",
    "      * Brainstorming!\n",
    "      * What can be observed / measured?  latent variables?    \n",
    "      * Where do these variables come from?\n",
    "      * Do any abstract concepts need to be instantiated as variables?\n",
    "        * e.g., value, utility, uncertainty, cost, salience, goals, strategy, plant, dynamics\n",
    "        * Instantiate them so that they relate to potential measurements!\n",
    "\n",
    "This is a step where your prior knowledge and intuition is tested. You want to end up with an inventory of *specific* concepts and/or interactions that need to be instantiated."
   ]
  },
  {
   "cell_type": "markdown",
   "metadata": {
    "execution": {}
   },
   "source": [
    "**Make sure to avoid the pitfalls!**\n",
    "\n",
    "<details>\n",
    "<summary> <font color='red'>Click here for a recap on pitfalls </font></summary>\n",
    "\n",
    "1. I'm experienced, I don't need to think about ingredients anymore\n",
    "  - Or so you think...\n",
    "\n",
    "2. I can't think of any ingredients\n",
    "  - Think about the potential experiment. What are your stimuli? What parameters? What would you control? What do you measure?\n",
    "\n",
    "3. I have all inputs and outputs\n",
    "  - Good! But what will link them? Thinking about that will start shaping your model and hypotheses\n",
    "\n",
    "4. I can't think of any links (= mechanisms)\n",
    "  - You will acquire a library of potential mechanisms as you keep modeling and learning\n",
    "  - But the literature will often give you hints through hypotheses\n",
    "  - If you still can't think of links, then maybe you're missing ingredients?"
   ]
  },
  {
   "cell_type": "markdown",
   "metadata": {
    "execution": {}
   },
   "source": [
    "----\n",
    "# Step 4: Formulating specific, mathematically defined hypotheses\n",
    "\n"
   ]
  },
  {
   "cell_type": "markdown",
   "metadata": {},
   "source": [
    "##  Video 5: Formulating a hypothesis\n"
   ]
  },
  {
   "cell_type": "code",
   "execution_count": null,
   "metadata": {
    "cellView": "form",
    "execution": {},
    "tags": [
     "remove-input"
    ]
   },
   "outputs": [
    {
     "data": {
      "application/vnd.jupyter.widget-view+json": {
       "model_id": "0e4406a665e549e88d288fa011fe63e7",
       "version_major": 2,
       "version_minor": 0
      },
      "text/plain": [
       "Tab(children=(Output(), Output()), _titles={'0': 'Youtube', '1': 'Bilibili'})"
      ]
     },
     "metadata": {},
     "output_type": "display_data"
    }
   ],
   "source": [
    "# @title Video 5: Formulating a hypothesis\n",
    "from ipywidgets import widgets\n",
    "from IPython.display import YouTubeVideo\n",
    "from IPython.display import IFrame\n",
    "from IPython.display import display\n",
    "\n",
    "\n",
    "class PlayVideo(IFrame):\n",
    "  def __init__(self, id, source, page=1, width=400, height=300, **kwargs):\n",
    "    self.id = id\n",
    "    if source == 'Bilibili':\n",
    "      src = f'https://player.bilibili.com/player.html?bvid={id}&page={page}'\n",
    "    elif source == 'Osf':\n",
    "      src = f'https://mfr.ca-1.osf.io/render?url=https://osf.io/download/{id}/?direct%26mode=render'\n",
    "    super(PlayVideo, self).__init__(src, width, height, **kwargs)\n",
    "\n",
    "\n",
    "def display_videos(video_ids, W=400, H=300, fs=1):\n",
    "  tab_contents = []\n",
    "  for i, video_id in enumerate(video_ids):\n",
    "    out = widgets.Output()\n",
    "    with out:\n",
    "      if video_ids[i][0] == 'Youtube':\n",
    "        video = YouTubeVideo(id=video_ids[i][1], width=W,\n",
    "                             height=H, fs=fs, rel=0)\n",
    "        print(f'Video available at https://youtube.com/watch?v={video.id}')\n",
    "      else:\n",
    "        video = PlayVideo(id=video_ids[i][1], source=video_ids[i][0], width=W,\n",
    "                          height=H, fs=fs, autoplay=False)\n",
    "        if video_ids[i][0] == 'Bilibili':\n",
    "          print(f'Video available at https://www.bilibili.com/video/{video.id}')\n",
    "        elif video_ids[i][0] == 'Osf':\n",
    "          print(f'Video available at https://osf.io/{video.id}')\n",
    "      display(video)\n",
    "    tab_contents.append(out)\n",
    "  return tab_contents\n",
    "\n",
    "\n",
    "video_ids = [('Youtube', 'nHXMSXLcd9A'), ('Bilibili', 'BV1fh411h7aX')]\n",
    "tab_contents = display_videos(video_ids, W=730, H=410)\n",
    "tabs = widgets.Tab()\n",
    "tabs.children = tab_contents\n",
    "for i in range(len(tab_contents)):\n",
    "  tabs.set_title(i, video_ids[i][0])\n",
    "display(tabs)"
   ]
  },
  {
   "cell_type": "markdown",
   "metadata": {},
   "source": [
    "##  Example projects step 4\n"
   ]
  },
  {
   "cell_type": "code",
   "execution_count": null,
   "metadata": {
    "cellView": "form",
    "execution": {},
    "tags": [
     "hide-input"
    ]
   },
   "outputs": [
    {
     "data": {
      "text/markdown": [],
      "text/plain": [
       "<IPython.core.display.Markdown object>"
      ]
     },
     "metadata": {},
     "output_type": "display_data"
    },
    {
     "data": {
      "application/vnd.jupyter.widget-view+json": {
       "model_id": "f1c768298a234811af0917eeb0074f4b",
       "version_major": 2,
       "version_minor": 0
      },
      "text/plain": [
       "Tab(children=(Output(), Output(), Output()), _titles={'0': 'Computational Model', '1': 'Data Analysis', '2': '…"
      ]
     },
     "metadata": {},
     "output_type": "display_data"
    }
   ],
   "source": [
    "# @title Example projects step 4\n",
    "from ipywidgets import widgets\n",
    "from IPython.display import Markdown\n",
    "from IPython.display import Markdown, Math\n",
    "\n",
    "# Not writing in latex because that didn't render in jupyterbook\n",
    "\n",
    "markdown1 = r'''\n",
    "\n",
    "## Step 4\n",
    "<br>\n",
    "<font size='3pt'>\n",
    "Our main hypothesis is that the strength of the illusion has a linear relationship to the amplitude of vestibular noise.\n",
    "\n",
    "Mathematically, this would write as\n",
    "\n",
    "<div align=\"center\">\n",
    "<em>S</em> = <em>k</em> ⋅ <em>N</em>\n",
    "</div>\n",
    "\n",
    "where *S* is the illusion strength and *N* is the noise level, and *k* is a free parameter.\n",
    ">we could simply use the frequency of occurance across repetitions as the \"strength of the illusion\"\n",
    "\n",
    "We would get the noise as the standard deviation of *v(t)*, i.e.\n",
    "\n",
    "<div align=\"center\">\n",
    "<em>N</em> = <b>E</b>[<em>v(t)</em><sup>2</sup>],\n",
    "</div>\n",
    "\n",
    " where **E** stands for the expected value.\n",
    "\n",
    "Do we need to take the average across time points?\n",
    "> doesn't really matter because we have the generative process, so we can just use the σ that we define\n",
    "</font>\n",
    "'''\n",
    "\n",
    "markdown2 = '''\n",
    "## Step 4\n",
    "<br>\n",
    "\n",
    "<font size='3pt'>\n",
    "We think that noise in the signal drives whether or not people perceive self motion. Maybe the brain uses the strongest signal at peak acceleration to decide on self motion, but we actually think it is better to accumulate evidence over some period of time. We want to test this. The noise idea also means that when the signal-to-noise ratio is higher, the brain does better, and this would be in the faster acceleration condition. We want to test this too.\n",
    "\n",
    "We came up with the following hypotheses focussing on specific details of our overall research question:\n",
    "\n",
    "* Hyp 1: Accumulated vestibular spike rates explain self-motion judgements better than average spike rates around peak acceleration.\n",
    "* Hyp 2: Classification performance should be better for faster vs slower self-motion.\n",
    "\n",
    "> There are many other hypotheses you could come up with, but for simplicity, let's go with those.\n",
    "\n",
    "Mathematically, we can write our hypotheses as follows (using our above ingredients):\n",
    "* Hyp 1: **E**(c<sub>accum</sub>) > **E**(c<sub>win</sub>)\n",
    "* Hyp 2: **E**(c<sub>fast</sub>) > **E**(c<sub>slow</sub>)\n",
    "\n",
    "Where **E** denotes taking the expected value (in this case the mean) of its argument: classification outcome in a given trial type.\n",
    "</font>\n",
    "'''\n",
    "\n",
    "markdown3 = '''\n",
    "## Step 4\n",
    "<br>\n",
    "\n",
    "<font size='3pt'>\n",
    "Since humans can easily distinguish different movement types from video data and also more abstract \"stick figures\", a DL model should also be able to do so. Therefore, our hypotheses are more detailed with respect to parameters influencing model performance (and not just whether it will work or not).\n",
    "\n",
    "Remember, we're interested in seeing how many joints are needed for classification. So we could hypothezise (Hypothesis 1) that arm and leg motions are sufficient for classification (meaning: head and torso data is not needed).\n",
    "\n",
    "* Hypothesis 1: The performance of a model with four limbs plus torso and head is not higher than the performance of a model with only limbs.\n",
    "\n",
    "We could also hypothesize that data from only one side of the body is sufficient (Hypothesis 2), e.g. the right side, since our participants are right handed.\n",
    "\n",
    "* Hypothesis 2: A model using only joints in the right arm will outperform a model using only the joints in the left arm.\n",
    "\n",
    "Writing those in mathematical terms:\n",
    "* Hyp 1: **E**(perf <sub>limbs</sub>) > **E**(perf <sub>torso</sub>)\n",
    "* Hyp 2: **E**(perf <sub>right arm</sub>) > **E**(perf <sub>left arm</sub>)\n",
    "</font>\n",
    "'''\n",
    "\n",
    "# No idea why this is necessary but math doesn't render properly without it\n",
    "display(Markdown(r\"\"))\n",
    "\n",
    "out2 = widgets.Output()\n",
    "with out2:\n",
    "  display(Markdown(markdown2))\n",
    "\n",
    "out1 = widgets.Output()\n",
    "with out1:\n",
    "  display(Markdown(markdown1))\n",
    "\n",
    "out3 = widgets.Output()\n",
    "with out3:\n",
    "  display(Markdown(markdown3))\n",
    "\n",
    "out = widgets.Tab([out1, out2, out3])\n",
    "out.set_title(0, 'Computational Model')\n",
    "out.set_title(1, 'Data Analysis')\n",
    "out.set_title(2, 'Deep Learning')\n",
    "\n",
    "display(out)"
   ]
  },
  {
   "cell_type": "markdown",
   "metadata": {
    "execution": {}
   },
   "source": [
    "## Formulating your hypothesis\n",
    "\n",
    "Once you have your question and goal lines up, you have done a literature review and you have thought about ingredients needed for your model, you're now ready to start thinking about *specific* hypotheses.\n",
    "\n",
    "Formulating hypotheses really consists of two consecutive steps:\n",
    "\n",
    "1. You think about the hypotheses in words by relating ingredients identified in Step 3\n",
    "  * What is the model mechanism expected to do?\n",
    "  * How are different parameters expected to influence model results?\n",
    "2. You then express these hypotheses in mathematical language by giving the ingredients identified in Step 3 specific variable names.\n",
    "  * Be explicit, e.g., $y(t)=f(x(t), k)$ but $z(t)$ doesn't influence $y$\n",
    "\n",
    "There are also \"structural hypotheses\" that make assumptions on what model components you hypothesize will be crucial to capture the phenomenon at hand.\n",
    "\n",
    "**Important:** Formulating the hypotheses is the last step before starting to model. This step determines the model approach and ingredients. It provides a more detailed description of the question / goal from Step 1. The more precise the hypotheses, the easier the model will be to justify."
   ]
  },
  {
   "cell_type": "markdown",
   "metadata": {
    "execution": {}
   },
   "source": [
    "**Make sure to avoid the pitfalls!**\n",
    "\n",
    "<details>\n",
    "<summary> <font color='red'>Click here for a recap on pitfalls </font></summary>\n",
    "\n",
    "1. I don't need hypotheses, I will just play around with the model\n",
    "  - Hypotheses help determine and specify goals. You can (and should) still play...\n",
    "\n",
    "2. My hypotheses don't match my question (or vice versa)\n",
    "  - This is a normal part of the process!\n",
    "  - You need to loop back to Step 1 and revisit your question / phenomenon / goals\n",
    "\n",
    "3. I can't write down a math hypothesis\n",
    "  - Often that means you lack ingredients and/or clarity on the hypothesis\n",
    "  - OR: you have a “structural” hypothesis, i.e., you expect a certain model component to be crucial in explaining the phenomenon / answering the question"
   ]
  }
 ],
 "metadata": {
  "colab": {
   "collapsed_sections": [],
   "include_colab_link": true,
   "name": "ModelingSteps_3through4_DL",
   "provenance": [],
   "toc_visible": true
  },
  "kernel": {
   "display_name": "Python 3",
   "language": "python",
   "name": "python3"
  },
  "kernelspec": {
   "display_name": "Python 3",
   "language": "python",
   "name": "python3"
  },
  "language_info": {
   "codemirror_mode": {
    "name": "ipython",
    "version": 3
   },
   "file_extension": ".py",
   "mimetype": "text/x-python",
   "name": "python",
   "nbconvert_exporter": "python",
   "pygments_lexer": "ipython3",
   "version": "3.6.8"
  }
 },
 "nbformat": 4,
 "nbformat_minor": 0
}